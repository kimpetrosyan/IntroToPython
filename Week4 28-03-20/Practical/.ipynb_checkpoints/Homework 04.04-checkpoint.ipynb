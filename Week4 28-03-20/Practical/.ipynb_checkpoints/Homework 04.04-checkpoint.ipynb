{
 "cells": [
  {
   "cell_type": "markdown",
   "metadata": {},
   "source": [
    "# Lists:1"
   ]
  },
  {
   "cell_type": "code",
   "execution_count": 1,
   "metadata": {
    "scrolled": true
   },
   "outputs": [
    {
     "name": "stdout",
     "output_type": "stream",
     "text": [
      "5 \n",
      "\n",
      "8\n",
      "\n",
      " [1, 4, 5, 7, 8, -2, 0, -1]\n",
      "[8, 7, 5, 4, 1, 0, -1, -2]\n",
      "[8, 7, 5]\n",
      "[7, 5, 4, 1, 0]\n",
      "[8, 7, 5, 4, 1, 0, -1, -2]\n",
      "[8, 7, 1, 0, -1, -2]\n"
     ]
    }
   ],
   "source": [
    "a = [1, 4, 5, 7, 8, -2, 0, -1]\n",
    "print(a[2],'\\n')\n",
    "\n",
    "print(a[4]) \n",
    "\n",
    "a_sorted = a.copy()\n",
    "a_sorted.sort(reverse = True)\n",
    "print('\\n', a)                                   #ինչու մի մատ խորքից\n",
    "print(a_sorted)\n",
    "\n",
    "print(a_sorted[0:3])\n",
    "print(a_sorted[1:6])\n",
    "\n",
    "print(a_sorted)\n",
    "a_sorted.pop(2)\n",
    "a_sorted.pop(2)\n",
    "print(a_sorted)\n"
   ]
  },
  {
   "cell_type": "code",
   "execution_count": 57,
   "metadata": {},
   "outputs": [
    {
     "name": "stdout",
     "output_type": "stream",
     "text": [
      "['grapes', 'Potatoes', 'tomatoes', 'Orange', 'Lemon', 'Broccoli', 'Carrot', 'Sausages']\n",
      "['Broccoli', 'Carrot', 'Lemon', 'Orange', 'Potatoes', 'Sausages', 'grapes', 'tomatoes']\n",
      "[[1, 4, 5], ['Broccoli', 'Carrot']]\n",
      "[1, 4, 5, 7, 8, -2, 0, -1, 'grapes', 'Potatoes', 'tomatoes', 'Orange', 'Lemon', 'Broccoli', 'Carrot', 'Sausages', 'grapes', 'Potatoes', 'tomatoes', 'Orange', 'Lemon', 'Broccoli', 'Carrot', 'Sausages', 'grapes', 'Potatoes', 'tomatoes', 'Orange', 'Lemon', 'Broccoli', 'Carrot', 'Sausages', 'grapes', 'Potatoes', 'tomatoes', 'Orange', 'Lemon', 'Broccoli', 'Carrot', 'Sausages', 'grapes', 'Potatoes', 'tomatoes', 'Orange', 'Lemon', 'Broccoli', 'Carrot', 'Sausages', 'grapes', 'Potatoes', 'tomatoes', 'Orange', 'Lemon', 'Broccoli', 'Carrot', 'Sausages', 'grapes', 'Potatoes', 'tomatoes', 'Orange', 'Lemon', 'Broccoli', 'Carrot', 'Sausages', 'grapes', 'Potatoes', 'tomatoes', 'Orange', 'Lemon', 'Broccoli', 'Carrot', 'Sausages', 'grapes', 'Potatoes', 'tomatoes', 'Orange', 'Lemon', 'Broccoli', 'Carrot', 'Sausages']\n"
     ]
    }
   ],
   "source": [
    "b = ['grapes','Potatoes', 'tomatoes', 'Orange', 'Lemon','Broccoli','Carrot','Sausages']\n",
    "print(b)\n",
    "\n",
    "b_sorted = b.copy()\n",
    "b_sorted.sort()\n",
    "print(b_sorted)\n",
    "\n",
    "c = [a[0:3], b[5:7]]\n",
    "print(c)                       #եթե ուղում եմ, որ 2-րդ ինդեքսը լինի 5-ը՞՞՞, ոչ թե թ հատ լիստ\n",
    "\n",
    "\n",
    "a.extend(b)\n",
    "print(a)                       #  ???"
   ]
  },
  {
   "cell_type": "code",
   "execution_count": 58,
   "metadata": {},
   "outputs": [],
   "source": [
    "# Sets:\n"
   ]
  },
  {
   "cell_type": "code",
   "execution_count": 7,
   "metadata": {},
   "outputs": [
    {
     "name": "stdout",
     "output_type": "stream",
     "text": [
      "{False, True, -5, 8, 'Chocolate', 'Cookies', -3}\n",
      "{False, True, 8, 'Jelly', 10, 14, 'Chocolate', 'Milk'}\n",
      "{False, True, -5, 8, 'Jelly', 10, 14, 'Chocolate', 'Milk', 'Cookies', -3}\n",
      "{False, True, 'Kit-Kat', -5, 8, 'Jelly', 10, 'Oreo', 14, 'Chocolate', 'Milk', 'Cookies', -3} \n",
      "\n",
      "{False, True, 'Kit-Kat', -5, 8, 'Jelly', 10, 'Oreo', 14, 'Chocolate', 'Milk', 'Cookies', -3}\n",
      "True\n",
      "{False, True, 'Kit-Kat', -5, 8, 'Jelly', 10, 'Oreo', 14, 'Chocolate', 'Milk', 'Cookies', -3}\n",
      "{False, True, 'Kit-Kat', -5, 8, 'Jelly', 10, 14, 'Chocolate', 'Milk', 'Cookies', -3}\n"
     ]
    }
   ],
   "source": [
    "a1 = ['Cookies', 'Chocolate', 8, True, -3,-5, 'Chocolate', 8, False, 8]\n",
    "b1 = [8, True, 10, 14, 'Chocolate', 'Milk', 'Jelly', True, False, True]\n",
    "\n",
    "set_a = set(a1)\n",
    "set_b = set(b1)\n",
    "print(set_a)\n",
    "print(set_b)\n",
    "\n",
    "union_ab = set_a.union(set_b)\n",
    "intersection_ab = set_a.intersection(set_b)\n",
    "intersection_ab\n",
    "\n",
    "print(union_ab)\n",
    "union_ab.update(['Kit-Kat','Oreo'])\n",
    "print(union_ab, \"\\n\")\n",
    "\n",
    "new_set = union_ab or intersection_ab\n",
    "print(new_set)\n",
    "\n",
    "print(\"Chocolate\" in new_set)\n",
    "\n",
    "print(new_set)\n",
    "new_set.discard('Oreo')\n",
    "print(new_set)"
   ]
  },
  {
   "cell_type": "code",
   "execution_count": 8,
   "metadata": {},
   "outputs": [],
   "source": [
    "# Tuples\n",
    "\n"
   ]
  },
  {
   "cell_type": "code",
   "execution_count": 15,
   "metadata": {},
   "outputs": [
    {
     "name": "stdout",
     "output_type": "stream",
     "text": [
      "(2, 'a', -2, 'Anna')\n",
      "(2, 'a', 1, 2, 3)\n",
      "1\n",
      "3\n"
     ]
    }
   ],
   "source": [
    "t1 = (2, True, 'a', -2,'Anna')\n",
    "\n",
    "y = list(t1)\n",
    "del y[1]\n",
    "t1 = tuple(y)\n",
    "\n",
    "print(t1)\n",
    "\n",
    "t2 = (1, 2, 3, 4, 5)\n",
    "t3 = t1[:2]+t2[:3]\n",
    "print(t3)\n",
    "\n",
    "print(t3[2])\n",
    "\n",
    "t4 = [(1,3,5), (8,9), ('Anna', 'Bob','Alice')]\n",
    "print(t4[0][1])"
   ]
  },
  {
   "cell_type": "code",
   "execution_count": 16,
   "metadata": {},
   "outputs": [],
   "source": [
    "# Dictionaries\n"
   ]
  },
  {
   "cell_type": "code",
   "execution_count": 25,
   "metadata": {},
   "outputs": [
    {
     "name": "stdout",
     "output_type": "stream",
     "text": [
      "{'dairy': ['yogurt', 'cheese'], 'fruits': ['banana', 'apple', 'orange', 'lemon', 'apple', 'banana', 'banana'], 'candies': ['mars', 'kinder', 'twix']}\n",
      "['apple', 'apple', 'banana', 'banana', 'banana', 'lemon', 'orange']\n",
      "{'orange', 'lemon', 'apple', 'banana'}\n",
      "{'dairy': ['yogurt', 'cheese'], 'fruits': {'orange', 'lemon', 'apple', 'banana'}, 'candies': ['mars', 'kinder', 'twix']}\n"
     ]
    }
   ],
   "source": [
    "market = {\n",
    "    'dairy':['yogurt', 'cheese'], \n",
    "    'fruits': ['banana', 'apple', 'orange', 'lemon', 'apple', 'banana','banana']\n",
    "    }\n",
    "market['candies'] = ['mars','kinder', 'twix']\n",
    "\n",
    "\n",
    "\n",
    "print(market)\n",
    "\n",
    "x = market['fruits']\n",
    "x.sort()\n",
    "print(x)\n",
    "y = set(x)\n",
    "print(y)\n",
    "\n",
    "market['fruits'] = y\n",
    "\n",
    "print(market)"
   ]
  },
  {
   "cell_type": "code",
   "execution_count": null,
   "metadata": {},
   "outputs": [],
   "source": []
  }
 ],
 "metadata": {
  "kernelspec": {
   "display_name": "Python 3",
   "language": "python",
   "name": "python3"
  },
  "language_info": {
   "codemirror_mode": {
    "name": "ipython",
    "version": 3
   },
   "file_extension": ".py",
   "mimetype": "text/x-python",
   "name": "python",
   "nbconvert_exporter": "python",
   "pygments_lexer": "ipython3",
   "version": "3.7.4"
  }
 },
 "nbformat": 4,
 "nbformat_minor": 2
}
