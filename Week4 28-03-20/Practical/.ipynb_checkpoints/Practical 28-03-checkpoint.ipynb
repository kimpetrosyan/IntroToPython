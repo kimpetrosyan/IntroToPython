{
 "cells": [
  {
   "cell_type": "code",
   "execution_count": null,
   "metadata": {},
   "outputs": [],
   "source": [
    "list1 = [\"hello\", 1, True]\n",
    "print (list1)\n",
    "arjeq1 = input()\n",
    "arjeq2 = input()\n",
    "arjeq3 = input()\n",
    "list1.append(arjeq1)\n",
    "list1.append(arjeq2)\n",
    "list1.append(arjeq3)\n",
    "list1"
   ]
  },
  {
   "cell_type": "code",
   "execution_count": null,
   "metadata": {},
   "outputs": [],
   "source": [
    "#task2\n",
    "\n",
    "\n",
    "list1 = [\"hello\", 1, True]\n",
    "list2 = list1.copy()\n",
    "list2.append(arjeq1)\n",
    "list2.append(arjeq2)\n",
    "list2.append(arjeq3)\n",
    "print(list1)\n",
    "print(list2)"
   ]
  },
  {
   "cell_type": "code",
   "execution_count": 15,
   "metadata": {},
   "outputs": [
    {
     "name": "stdout",
     "output_type": "stream",
     "text": [
      "['hello', 1, True, 2, 100, 300, 2]\n",
      "2\n"
     ]
    },
    {
     "data": {
      "text/plain": [
       "2"
      ]
     },
     "execution_count": 15,
     "metadata": {},
     "output_type": "execute_result"
    }
   ],
   "source": [
    "#task3\n",
    "\n",
    "list2 = [\"hello\", 1, True, 2, 100, 300, 2]\n",
    "print(list2)\n",
    "x = int(input())\n",
    "y = list2.count(x)\n",
    "y"
   ]
  },
  {
   "cell_type": "code",
   "execution_count": null,
   "metadata": {},
   "outputs": [],
   "source": [
    "#task4\n",
    "\n",
    "list4 = [\"hello\", 1, True, 2, 100, 300, 2]\n",
    "print(list2)\n",
    "x = int(input())\n",
    "\n",
    "list4.remove(x)\n",
    "list4\n",
    "     \n",
    "     "
   ]
  },
  {
   "cell_type": "code",
   "execution_count": null,
   "metadata": {
    "scrolled": true
   },
   "outputs": [],
   "source": [
    "#task5\n",
    "\n",
    "list5 = [\"hello\", 1, True, 2, 100, 300, 2]\n",
    "print(list5)\n",
    "\n",
    "list5.pop(5)\n",
    "list5.pop(4)\n",
    "list5.pop(0)\n",
    "list5\n"
   ]
  },
  {
   "cell_type": "code",
   "execution_count": 40,
   "metadata": {},
   "outputs": [
    {
     "data": {
      "text/plain": [
       "[1, True, 2, 2]"
      ]
     },
     "execution_count": 40,
     "metadata": {},
     "output_type": "execute_result"
    }
   ],
   "source": [
    "#list6\n",
    "list5 = [\"hello\", 1, True, 2, 100, 300, 2]\n",
    "list55 = list5.copy()\n",
    "\n",
    "list55.pop(5)\n",
    "list55.pop(4)\n",
    "list55.pop(0)\n",
    "list55"
   ]
  },
  {
   "cell_type": "code",
   "execution_count": 39,
   "metadata": {},
   "outputs": [
    {
     "name": "stdout",
     "output_type": "stream",
     "text": [
      "['hello', 1, True, 2, 100, 300, 2]\n"
     ]
    },
    {
     "data": {
      "text/plain": [
       "['hello', 1, True, 2, 100, 300, [1, 3, 4, 5, 7, 'Alice']]"
      ]
     },
     "execution_count": 39,
     "metadata": {},
     "output_type": "execute_result"
    }
   ],
   "source": [
    "#list7\n",
    "\n",
    "l1 = [\"hello\", 1, True, 2, 100, 300, 2]\n",
    "l2 = [1,3,4,5,7,'Alice']\n",
    "print(l1)\n",
    "l1[-1] = l2\n",
    "l1\n",
    "\n",
    "\n"
   ]
  },
  {
   "cell_type": "code",
   "execution_count": null,
   "metadata": {},
   "outputs": [],
   "source": []
  },
  {
   "cell_type": "code",
   "execution_count": 4,
   "metadata": {},
   "outputs": [
    {
     "name": "stdout",
     "output_type": "stream",
     "text": [
      "{1, 3, 4, 5, 7, 'Alice'}\n",
      "wwwwwwwww\n"
     ]
    },
    {
     "data": {
      "text/plain": [
       "{1, 3, 4, 5, 7, 'Alice', 'wwwwwwwww'}"
      ]
     },
     "execution_count": 4,
     "metadata": {},
     "output_type": "execute_result"
    }
   ],
   "source": [
    "#Sets8 \n",
    "\n",
    "set1 = {1,3,4,5,7,'Alice'}\n",
    "print(set1)\n",
    "x = input()\n",
    "set1.add(x)\n",
    "set1\n",
    "\n"
   ]
  },
  {
   "cell_type": "code",
   "execution_count": 8,
   "metadata": {},
   "outputs": [
    {
     "name": "stdout",
     "output_type": "stream",
     "text": [
      "{1, 3, 4, 5, 7, 'Alice'}\n",
      "5\n"
     ]
    },
    {
     "data": {
      "text/plain": [
       "{1, 3, 4, 7, 'Alice'}"
      ]
     },
     "execution_count": 8,
     "metadata": {},
     "output_type": "execute_result"
    }
   ],
   "source": [
    "#Sets9\n",
    "\n",
    "set2 = {1,3,4,5,7,'Alice'}\n",
    "print(set2)\n",
    "x = int(input())\n",
    "\n",
    "set2.remove(x)\n",
    "set2"
   ]
  },
  {
   "cell_type": "code",
   "execution_count": 11,
   "metadata": {},
   "outputs": [
    {
     "name": "stdout",
     "output_type": "stream",
     "text": [
      "{1, 3, 4, 5, 7, 'Alice'}\n",
      "555\n"
     ]
    },
    {
     "data": {
      "text/plain": [
       "{1, 3, 4, 5, 7, 'Alice'}"
      ]
     },
     "execution_count": 11,
     "metadata": {},
     "output_type": "execute_result"
    }
   ],
   "source": [
    "#Sets10\n",
    "\n",
    "set2 = {1,3,4,5,7,'Alice'}\n",
    "print(set2)\n",
    "x = input()\n",
    "\n",
    "set2.discard(x)\n",
    "set2"
   ]
  },
  {
   "cell_type": "code",
   "execution_count": 17,
   "metadata": {},
   "outputs": [
    {
     "name": "stdout",
     "output_type": "stream",
     "text": [
      "{False, 1, 2, 3, 4, 5, 7, 'pig', 'dog', 'Alice', 'cat', 'horse'}\n",
      "{1, 7}\n"
     ]
    }
   ],
   "source": [
    "#Sets11\n",
    "\n",
    "set1 =  {False, 'horse', 'dog', 'pig', 'cat', 1,2,7}\n",
    "set2 = {1,3,4,5,7,'Alice'}\n",
    "\n",
    "print(set1.union(set2))\n",
    "print(set1.intersection(set2))"
   ]
  },
  {
   "cell_type": "code",
   "execution_count": 21,
   "metadata": {},
   "outputs": [
    {
     "name": "stdout",
     "output_type": "stream",
     "text": [
      "11\n"
     ]
    },
    {
     "data": {
      "text/plain": [
       "False"
      ]
     },
     "execution_count": 21,
     "metadata": {},
     "output_type": "execute_result"
    }
   ],
   "source": [
    "#Sets12\n",
    "\n",
    "set3 = {1,3,4,5,7}\n",
    "x = int(input())\n",
    "y = min(set3)\n",
    "z = max(set3)\n",
    "\n",
    "y<x<z\n"
   ]
  },
  {
   "cell_type": "code",
   "execution_count": 24,
   "metadata": {},
   "outputs": [
    {
     "name": "stdout",
     "output_type": "stream",
     "text": [
      "16 36\n"
     ]
    }
   ],
   "source": [
    "#Tuples13\n",
    "\n",
    "\n",
    "t1 = (1, 4, 9, 16, 25, 36, 16, 25, 36, 16, 25, 36)\n",
    "print(t1[3],  t1[-4])\n"
   ]
  },
  {
   "cell_type": "code",
   "execution_count": 29,
   "metadata": {},
   "outputs": [
    {
     "name": "stdout",
     "output_type": "stream",
     "text": [
      "(1, 4, 9, 16, 25, 36, 16, 25, 36, 16, 25, 36)\n",
      "(1, 4, 9, 16, 'hello', 36, 16, 25, 36, 16, 25, 36)\n"
     ]
    }
   ],
   "source": [
    "#Tuples14\n",
    "\n",
    "\n",
    "t2 = (1, 4, 9, 16, 25, 36, 16, 25, 36, 16, 25, 36)\n",
    "print(t2)\n",
    "\n",
    "y = list(t2)\n",
    "y[4] = \"hello\"\n",
    "t2 = tuple(y)\n",
    "\n",
    "print(t2)\n"
   ]
  },
  {
   "cell_type": "code",
   "execution_count": 32,
   "metadata": {},
   "outputs": [
    {
     "name": "stdout",
     "output_type": "stream",
     "text": [
      "{'brand': 'Ford', 'model': 'Mustang', 'year': 1964}\n",
      "who\n",
      "mw\n",
      "{'brand': 'Ford', 'model': 'Mustang', 'year': 1964, 'who': 'mw'}\n"
     ]
    }
   ],
   "source": [
    "#Dictionaries15\n",
    "\n",
    "\n",
    "dict1 = {\n",
    "  \"brand\": \"Ford\",\n",
    "  \"model\": \"Mustang\",\n",
    "  \"year\": 1964\n",
    "}\n",
    "\n",
    "print(dict1)\n",
    "x = str(input())\n",
    "y = str(input())\n",
    "dict1[x] = y\n",
    "\n",
    "\n",
    "\n",
    "print(dict1)"
   ]
  },
  {
   "cell_type": "code",
   "execution_count": 38,
   "metadata": {},
   "outputs": [
    {
     "data": {
      "text/plain": [
       "{1: 'a', 2: 'b', 3: 'c'}"
      ]
     },
     "execution_count": 38,
     "metadata": {},
     "output_type": "execute_result"
    }
   ],
   "source": [
    "#Dictionaries16\n",
    "\n",
    "l1 = [(1, 'a'), (2,'b'), (3, 'c')]\n",
    "\n",
    "d = {l1[0][0] : l1[0][1],\n",
    "    l1[1][0] : l1[1][1],\n",
    "    l1[2][0] : l1[2][1]\n",
    "    }\n",
    "\n",
    "d\n"
   ]
  },
  {
   "cell_type": "code",
   "execution_count": null,
   "metadata": {},
   "outputs": [],
   "source": []
  }
 ],
 "metadata": {
  "kernelspec": {
   "display_name": "Python 3",
   "language": "python",
   "name": "python3"
  },
  "language_info": {
   "codemirror_mode": {
    "name": "ipython",
    "version": 3
   },
   "file_extension": ".py",
   "mimetype": "text/x-python",
   "name": "python",
   "nbconvert_exporter": "python",
   "pygments_lexer": "ipython3",
   "version": "3.7.4"
  }
 },
 "nbformat": 4,
 "nbformat_minor": 2
}
