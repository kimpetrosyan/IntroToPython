{
 "cells": [
  {
   "cell_type": "code",
   "execution_count": 1,
   "metadata": {},
   "outputs": [],
   "source": [
    "# Conditionals 1"
   ]
  },
  {
   "cell_type": "code",
   "execution_count": 5,
   "metadata": {},
   "outputs": [
    {
     "name": "stdout",
     "output_type": "stream",
     "text": [
      "how many pairs of shoes the personwants to buy:  66\n",
      "You get a discount\n"
     ]
    }
   ],
   "source": [
    "n_shoes = int(input('how many pairs of shoes the personwants to buy:  '))\n",
    "x = 100 * n_shoes\n",
    "\n",
    "\n",
    "if x > 1000:\n",
    "    print('You get a discount')\n",
    "else:\n",
    "    print('You don’t get a discount')\n"
   ]
  },
  {
   "cell_type": "code",
   "execution_count": 12,
   "metadata": {},
   "outputs": [
    {
     "name": "stdout",
     "output_type": "stream",
     "text": [
      "[10, 8, 8, 4, 6, 7]\n",
      "7.166666666666667\n",
      "Good job\n"
     ]
    }
   ],
   "source": [
    "# Conditionals 2\n",
    "\n",
    "d = {'name': 'Armen', 'age': 15, 'grades': [10, 8, 8, 4, 6, 7] }\n",
    "\n",
    "x = d['grades']\n",
    "print(x)\n",
    "\n",
    "y = sum(x)/len(x)\n",
    "print(y)\n",
    "\n",
    "if y > 7:\n",
    "    print('Good job')\n",
    "else:\n",
    "    print('You need to work more')"
   ]
  },
  {
   "cell_type": "code",
   "execution_count": 24,
   "metadata": {
    "scrolled": true
   },
   "outputs": [
    {
     "name": "stdout",
     "output_type": "stream",
     "text": [
      "1\n",
      "3\n",
      "5\n",
      "7\n",
      "9\n"
     ]
    }
   ],
   "source": [
    "#3\n",
    "\n",
    "for i in range(11):\n",
    "    if i% 2 == 0:\n",
    "        continue\n",
    "    else:\n",
    "        print(i)\n"
   ]
  },
  {
   "cell_type": "code",
   "execution_count": 42,
   "metadata": {},
   "outputs": [
    {
     "name": "stdout",
     "output_type": "stream",
     "text": [
      "1\n",
      "3\n",
      "5\n",
      "7\n",
      "9\n"
     ]
    }
   ],
   "source": [
    "#4\n",
    "\n",
    "list1 = [1, 3, 5, 7, 9, 11, 13, 15]\n",
    "list2 = [4, 6, 14, 11, 8, 16]\n",
    "\n",
    "\n",
    "for i in list1:\n",
    "    if (i in list1) and (i in list2):\n",
    "        break    \n",
    "    else:\n",
    "        print(i)\n"
   ]
  },
  {
   "cell_type": "code",
   "execution_count": 66,
   "metadata": {
    "scrolled": true
   },
   "outputs": [
    {
     "name": "stdout",
     "output_type": "stream",
     "text": [
      "ff\n",
      "Please choose another desert\n"
     ]
    }
   ],
   "source": [
    "#5\n",
    "menu = ['ice cream', 'chocolate', 'apple crisp', 'cookies']\n",
    "desert = str(input())\n",
    "\n",
    "if desert not in menu:\n",
    "    print('Please choose another desert')                 #krknelu pahy der chem imanum vonc grem\n",
    "else:\n",
    "    print('Your desert will arrive in 10 minutes')\n",
    "    \n",
    "    \n",
    "    \n",
    "\n"
   ]
  },
  {
   "cell_type": "code",
   "execution_count": 3,
   "metadata": {},
   "outputs": [
    {
     "name": "stdout",
     "output_type": "stream",
     "text": [
      "2\n"
     ]
    }
   ],
   "source": [
    "#6\n",
    "\n",
    "list2 = [4, 6, 14, 11, 8, 16]\n",
    "\n",
    "N = print(len([x for x in list2 if 5<x<10]))"
   ]
  },
  {
   "cell_type": "code",
   "execution_count": 20,
   "metadata": {},
   "outputs": [
    {
     "name": "stdout",
     "output_type": "stream",
     "text": [
      "[[10, 20, 40], [40, 50, 60], [70, 80, 90]]\n",
      "([10, 20, 40, 100], [40, 50, 60, 100], [70, 80, 90, 100])\n"
     ]
    }
   ],
   "source": [
    "#7\n",
    "\n",
    "list4 = [[10, 20, 40], [40, 50, 60], [70, 80, 90]]\n",
    "list6 = [[10, 20, 40], [40, 50, 60], [70, 80, 90]]\n",
    "\n",
    "LE = [x.pop() for x in list6]\n",
    "LE\n",
    "q = [[100],[100],[100]]\n",
    "z = (list4[0]+ q[0]) \n",
    "w = (list4[1]+ q[1])\n",
    "r = (list4[2]+ q[2])\n",
    "list5 = z,w,r\n",
    "print(list4)\n",
    "print(list5)\n"
   ]
  },
  {
   "cell_type": "code",
   "execution_count": null,
   "metadata": {},
   "outputs": [],
   "source": [
    "\n"
   ]
  }
 ],
 "metadata": {
  "kernelspec": {
   "display_name": "Python 3",
   "language": "python",
   "name": "python3"
  },
  "language_info": {
   "codemirror_mode": {
    "name": "ipython",
    "version": 3
   },
   "file_extension": ".py",
   "mimetype": "text/x-python",
   "name": "python",
   "nbconvert_exporter": "python",
   "pygments_lexer": "ipython3",
   "version": "3.7.4"
  }
 },
 "nbformat": 4,
 "nbformat_minor": 2
}
