{
 "cells": [
  {
   "cell_type": "code",
   "execution_count": 4,
   "metadata": {},
   "outputs": [
    {
     "name": "stdout",
     "output_type": "stream",
     "text": [
      "numner1: 1\n",
      "number2: 5\n",
      "The number 5 is the greatest\n"
     ]
    }
   ],
   "source": [
    "#Conditionals 1 \n",
    "\n",
    "\n",
    "n1 = int(input('numner1: '))\n",
    "n2 = int(input('number2: '))\n",
    "\n",
    "if n1 > n2:\n",
    "    print('The number', n1, 'is the greatest')\n",
    "else:\n",
    "    print('The number', n2, 'is the greatest')"
   ]
  },
  {
   "cell_type": "code",
   "execution_count": 7,
   "metadata": {},
   "outputs": [
    {
     "name": "stdout",
     "output_type": "stream",
     "text": [
      "square\n"
     ]
    }
   ],
   "source": [
    "#Conditionals 2\n",
    "\n",
    "\n",
    "a = 3\n",
    "b = 3\n",
    "\n",
    "if a == b:\n",
    "    print(\"square\")\n",
    "else:\n",
    "    print('rectangle')"
   ]
  },
  {
   "cell_type": "code",
   "execution_count": 34,
   "metadata": {},
   "outputs": [
    {
     "name": "stdout",
     "output_type": "stream",
     "text": [
      "Dear  h you are too young to register\n",
      "Please enter a different password\n"
     ]
    }
   ],
   "source": [
    "#Conditionals 3\n",
    "\n",
    "name = \"h\"\n",
    "age = 3\n",
    "password = \"opo*\"\n",
    "\n",
    "if name == \"Batman\":\n",
    "    print('Welcome Mr.Batman!')\n",
    "else:\n",
    "    if age <16:\n",
    "        print(\"Dear \",name, \"you are too young to register\")\n",
    "    if ('*'  not in password) or ('&'  not in password): \n",
    "        print('Please enter a different password')\n"
   ]
  },
  {
   "cell_type": "code",
   "execution_count": 22,
   "metadata": {},
   "outputs": [
    {
     "name": "stdout",
     "output_type": "stream",
     "text": [
      "44\n",
      "{'name': 'Armen', 'age': 15, 'grades': [10, 8, 8, 4, 6, 7], 'weight': '44'}\n"
     ]
    }
   ],
   "source": [
    "#Conditionals 4\n",
    "\n",
    "\n",
    "d = {'name': 'Armen', \n",
    "     'age': 15,\n",
    "     #'weight' : 99,\n",
    "     'grades': [10, 8, 8, 4, 6, 7] }\n",
    "\n",
    "if 'weight' not in d:\n",
    "    n = input()\n",
    "    d['weight'] = n\n",
    "    print(d)\n",
    "    \n",
    "else:\n",
    "    print(d['weight'])\n",
    "    "
   ]
  },
  {
   "cell_type": "code",
   "execution_count": 31,
   "metadata": {
    "scrolled": true
   },
   "outputs": [
    {
     "name": "stdout",
     "output_type": "stream",
     "text": [
      "1\n",
      "3\n",
      "5\n",
      "7\n",
      "9\n"
     ]
    }
   ],
   "source": [
    "#Loops 5\n",
    "\n",
    "for x in range(10):\n",
    "    if x % 2 == 1:\n",
    "        print(x)"
   ]
  },
  {
   "cell_type": "code",
   "execution_count": 30,
   "metadata": {
    "scrolled": true
   },
   "outputs": [
    {
     "name": "stdout",
     "output_type": "stream",
     "text": [
      "0\n",
      "1\n",
      "3\n",
      "4\n",
      "5\n"
     ]
    }
   ],
   "source": [
    "#Loops 6\n",
    "\n",
    "\n",
    "for x in range(6):\n",
    "    if x == 2:\n",
    "        continue\n",
    "    print(x)"
   ]
  },
  {
   "cell_type": "code",
   "execution_count": null,
   "metadata": {},
   "outputs": [],
   "source": []
  }
 ],
 "metadata": {
  "kernelspec": {
   "display_name": "Python 3",
   "language": "python",
   "name": "python3"
  },
  "language_info": {
   "codemirror_mode": {
    "name": "ipython",
    "version": 3
   },
   "file_extension": ".py",
   "mimetype": "text/x-python",
   "name": "python",
   "nbconvert_exporter": "python",
   "pygments_lexer": "ipython3",
   "version": "3.7.4"
  }
 },
 "nbformat": 4,
 "nbformat_minor": 2
}
