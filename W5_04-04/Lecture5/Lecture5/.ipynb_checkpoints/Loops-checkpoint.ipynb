{
 "cells": [
  {
   "cell_type": "markdown",
   "metadata": {},
   "source": [
    "## Loops"
   ]
  },
  {
   "cell_type": "markdown",
   "metadata": {
    "collapsed": true
   },
   "source": [
    "Why to use loops?\n",
    "\n",
    "Execute multiple statement simultaniously rather than one-by-one\n",
    "Example: Calculating salaries of employees: salary + bonus \n",
    "        \n",
    "Advantage: one logic for everyone instead of having different logic for each\n",
    "    \n",
    "The loop is executed while the condition it imposes is True (repeats until the condition becomes False, \n",
    "then we move out the loop and continue executing other statements)\n",
    "\n",
    "Infinite and finite loops"
   ]
  },
  {
   "cell_type": "markdown",
   "metadata": {
    "collapsed": true
   },
   "source": [
    "### Simple for loops: repeats the loop for the specified number of times"
   ]
  },
  {
   "cell_type": "code",
   "execution_count": 5,
   "metadata": {},
   "outputs": [
    {
     "data": {
      "text/plain": [
       "range(1, 11)"
      ]
     },
     "execution_count": 5,
     "metadata": {},
     "output_type": "execute_result"
    }
   ],
   "source": [
    "range(1, 11)"
   ]
  },
  {
   "cell_type": "code",
   "execution_count": 6,
   "metadata": {},
   "outputs": [
    {
     "data": {
      "text/plain": [
       "[1, 2, 3, 4, 5, 6, 7, 8, 9, 10]"
      ]
     },
     "execution_count": 6,
     "metadata": {},
     "output_type": "execute_result"
    }
   ],
   "source": [
    "list(range(1, 11))"
   ]
  },
  {
   "cell_type": "code",
   "execution_count": 7,
   "metadata": {},
   "outputs": [
    {
     "name": "stdout",
     "output_type": "stream",
     "text": [
      "1\n",
      "2\n",
      "3\n",
      "4\n",
      "5\n",
      "6\n",
      "7\n",
      "8\n",
      "9\n",
      "10\n"
     ]
    }
   ],
   "source": [
    "#Pay attention to the indentation\n",
    "#For loop as a counter\n",
    "#range is a build-in function\n",
    "for x in range(1, 11):\n",
    "    print(x)\n"
   ]
  },
  {
   "cell_type": "code",
   "execution_count": 8,
   "metadata": {},
   "outputs": [
    {
     "data": {
      "text/plain": [
       "[1, 4, 7, 10]"
      ]
     },
     "execution_count": 8,
     "metadata": {},
     "output_type": "execute_result"
    }
   ],
   "source": [
    "list(range(1, 11, 3))"
   ]
  },
  {
   "cell_type": "code",
   "execution_count": 12,
   "metadata": {},
   "outputs": [
    {
     "name": "stdout",
     "output_type": "stream",
     "text": [
      "1\n",
      "4\n",
      "7\n",
      "10\n"
     ]
    }
   ],
   "source": [
    "for x in range(1, 11, 3):\n",
    "    print(x)"
   ]
  },
  {
   "cell_type": "code",
   "execution_count": 10,
   "metadata": {},
   "outputs": [
    {
     "data": {
      "text/plain": [
       "10"
      ]
     },
     "execution_count": 10,
     "metadata": {},
     "output_type": "execute_result"
    }
   ],
   "source": [
    "x"
   ]
  },
  {
   "cell_type": "code",
   "execution_count": 14,
   "metadata": {},
   "outputs": [
    {
     "name": "stdout",
     "output_type": "stream",
     "text": [
      "1\n",
      "2\n",
      "3\n"
     ]
    }
   ],
   "source": [
    "for x in range(11):\n",
    "    print(x)"
   ]
  },
  {
   "cell_type": "markdown",
   "metadata": {},
   "source": [
    "#### Some info about range\n",
    "\n",
    "in python2, range(1,1000000000000000000000) will take a lot of your memory\n",
    "in python3, range(1,1000000000000000000000) is a generator, it doesn't take your memory! Magic :D\n",
    "More on generators later in the course :)"
   ]
  },
  {
   "cell_type": "code",
   "execution_count": 15,
   "metadata": {},
   "outputs": [
    {
     "name": "stdout",
     "output_type": "stream",
     "text": [
      "48 9000120\n"
     ]
    }
   ],
   "source": [
    "import sys\n",
    "\n",
    "r = range(1000000)\n",
    "l = list(range(1000000))\n",
    "print(sys.getsizeof(r), sys.getsizeof(l))"
   ]
  },
  {
   "cell_type": "code",
   "execution_count": 16,
   "metadata": {},
   "outputs": [
    {
     "data": {
      "text/plain": [
       "[1, 3, 5, 10, 7, -2, 3, 5, 6, 12]"
      ]
     },
     "execution_count": 16,
     "metadata": {},
     "output_type": "execute_result"
    }
   ],
   "source": [
    "list1 = [1, 3, 5, 10, 7, -2, 3, 5, 6, 12]\n",
    "list1"
   ]
  },
  {
   "cell_type": "code",
   "execution_count": 18,
   "metadata": {},
   "outputs": [
    {
     "data": {
      "text/plain": [
       "10"
      ]
     },
     "execution_count": 18,
     "metadata": {},
     "output_type": "execute_result"
    }
   ],
   "source": [
    "len(list1)"
   ]
  },
  {
   "cell_type": "code",
   "execution_count": 19,
   "metadata": {},
   "outputs": [
    {
     "data": {
      "text/plain": [
       "range(0, 10)"
      ]
     },
     "execution_count": 19,
     "metadata": {},
     "output_type": "execute_result"
    }
   ],
   "source": [
    "range(len(list1))"
   ]
  },
  {
   "cell_type": "code",
   "execution_count": 20,
   "metadata": {},
   "outputs": [
    {
     "data": {
      "text/plain": [
       "[0, 1, 2, 3, 4, 5, 6, 7, 8, 9]"
      ]
     },
     "execution_count": 20,
     "metadata": {},
     "output_type": "execute_result"
    }
   ],
   "source": [
    "list(range(len(list1)))"
   ]
  },
  {
   "cell_type": "code",
   "execution_count": 23,
   "metadata": {},
   "outputs": [
    {
     "name": "stdout",
     "output_type": "stream",
     "text": [
      "1\n",
      "3\n",
      "5\n",
      "10\n",
      "7\n",
      "-2\n",
      "3\n",
      "5\n",
      "6\n",
      "12\n"
     ]
    }
   ],
   "source": [
    "for i in range(len(list1)):  #the same as range(0, len(list1))\n",
    "    print(list1[i])\n",
    "    #print(i)"
   ]
  },
  {
   "cell_type": "code",
   "execution_count": 24,
   "metadata": {},
   "outputs": [
    {
     "name": "stdout",
     "output_type": "stream",
     "text": [
      "1\n",
      "3\n",
      "5\n",
      "10\n",
      "7\n",
      "-2\n",
      "3\n",
      "5\n",
      "6\n",
      "12\n",
      "continue program\n"
     ]
    }
   ],
   "source": [
    "#For loop as an iterator\n",
    "list1 = [1, 3, 5, 10, 7, -2, 3, 5, 6, 12]\n",
    "\n",
    "#This is creating a variable eachNumber. Each step of the way, the numbers from the list1 are being assigned to the variable\n",
    "for eachNumber in list1:\n",
    "    print(eachNumber)\n",
    "print('continue program')"
   ]
  },
  {
   "cell_type": "markdown",
   "metadata": {},
   "source": [
    "### Indentation issues"
   ]
  },
  {
   "cell_type": "code",
   "execution_count": 25,
   "metadata": {},
   "outputs": [
    {
     "name": "stdout",
     "output_type": "stream",
     "text": [
      "1\n",
      "3\n",
      "5\n",
      "10\n",
      "7\n",
      "-2\n",
      "3\n",
      "5\n",
      "6\n",
      "12\n",
      "continue program\n"
     ]
    }
   ],
   "source": [
    "for eachNumber in list1:\n",
    "    print(eachNumber)\n",
    "print('continue program')  "
   ]
  },
  {
   "cell_type": "code",
   "execution_count": 28,
   "metadata": {},
   "outputs": [
    {
     "name": "stdout",
     "output_type": "stream",
     "text": [
      "1\n",
      "continue program\n",
      "3\n",
      "continue program\n",
      "5\n",
      "continue program\n",
      "10\n",
      "continue program\n",
      "7\n",
      "continue program\n",
      "-2\n",
      "continue program\n",
      "3\n",
      "continue program\n",
      "5\n",
      "continue program\n",
      "6\n",
      "continue program\n",
      "12\n",
      "continue program\n"
     ]
    }
   ],
   "source": [
    "#Indentation issues\n",
    "for eachNumber in list1:\n",
    "    print(eachNumber)\n",
    "    print('continue program')"
   ]
  },
  {
   "cell_type": "code",
   "execution_count": null,
   "metadata": {},
   "outputs": [],
   "source": [
    "#Indentation tricks\n",
    "#tab  ->to bring forward\n",
    "#ctrl  [  ->to bring backward\n",
    "\n",
    "for eachNumber in list1:\n",
    "    pass\n",
    "print(eachNumber)\n",
    "print('continue program')"
   ]
  },
  {
   "cell_type": "code",
   "execution_count": 29,
   "metadata": {},
   "outputs": [
    {
     "name": "stdout",
     "output_type": "stream",
     "text": [
      "[1, 3, 5, 10, 7, -2, 3, 5, 6, 12]\n",
      "1\n",
      "3\n",
      "5\n",
      "10\n",
      "7\n"
     ]
    }
   ],
   "source": [
    "print(list1)\n",
    "for number in list1[:5]:\n",
    "    print(number)"
   ]
  },
  {
   "cell_type": "code",
   "execution_count": 40,
   "metadata": {},
   "outputs": [
    {
     "name": "stdout",
     "output_type": "stream",
     "text": [
      "Enter name: Marine\n",
      "M\n",
      "a\n",
      "r\n",
      "i\n",
      "n\n",
      "e\n"
     ]
    }
   ],
   "source": [
    "name = input(\"Enter name: \")\n",
    "\n",
    "for letter in name:    \n",
    "    print(letter)"
   ]
  },
  {
   "cell_type": "code",
   "execution_count": 36,
   "metadata": {},
   "outputs": [
    {
     "name": "stdout",
     "output_type": "stream",
     "text": [
      "Enter name: Marine\n"
     ]
    },
    {
     "data": {
      "text/plain": [
       "6"
      ]
     },
     "execution_count": 36,
     "metadata": {},
     "output_type": "execute_result"
    }
   ],
   "source": [
    "name = input(\"Enter name: \")\n",
    "len(name)"
   ]
  },
  {
   "cell_type": "code",
   "execution_count": 39,
   "metadata": {},
   "outputs": [
    {
     "name": "stdout",
     "output_type": "stream",
     "text": [
      "Enter name: marine\n",
      "0\n",
      "1\n",
      "lala\n",
      "3\n",
      "4\n",
      "5\n"
     ]
    }
   ],
   "source": [
    "name = input(\"Enter name: \")\n",
    "\n",
    "for letter in range(len(name)):\n",
    "    \n",
    "    if letter == 2:\n",
    "        print('lala')\n",
    "    else:\n",
    "        print(letter)"
   ]
  },
  {
   "cell_type": "code",
   "execution_count": 31,
   "metadata": {},
   "outputs": [
    {
     "name": "stdout",
     "output_type": "stream",
     "text": [
      "do something\n",
      "do something\n",
      "do something\n",
      "do something\n",
      "do something\n"
     ]
    }
   ],
   "source": [
    "for i in range(5):\n",
    "    print('do something')"
   ]
  },
  {
   "cell_type": "markdown",
   "metadata": {
    "collapsed": true
   },
   "source": [
    "### While loops: condition loops, iterate while the condition evaluates to True, no garantee how many times the statements will be executed\n",
    "    \n",
    "while expression:\n",
    "\n",
    "     statement"
   ]
  },
  {
   "cell_type": "markdown",
   "metadata": {},
   "source": [
    "#### Note: For and while loops are completely interchangable"
   ]
  },
  {
   "cell_type": "code",
   "execution_count": null,
   "metadata": {},
   "outputs": [],
   "source": [
    "count = 0\n",
    "\n",
    "while count<4:\n",
    "    print(\"Number: \", count)\n",
    "    count += 1   #count = count+1\n",
    "    \n",
    "print(\"continuation of the code\")"
   ]
  },
  {
   "cell_type": "markdown",
   "metadata": {},
   "source": [
    "### An infinite loop"
   ]
  },
  {
   "cell_type": "code",
   "execution_count": null,
   "metadata": {},
   "outputs": [],
   "source": [
    "#When we have count<9 we ask at every iteration: is count<9 and we answer True or False\n",
    "#When we have True, the statements in the loop will always be executed\n",
    "\n",
    "while True:\n",
    "    print('You are in the infinite loop')"
   ]
  },
  {
   "cell_type": "markdown",
   "metadata": {
    "collapsed": true
   },
   "source": [
    "### Nested loops (having a loop inside of a loop): for your info"
   ]
  },
  {
   "cell_type": "code",
   "execution_count": null,
   "metadata": {},
   "outputs": [],
   "source": [
    "for i in range(3):  #0..3\n",
    "    for j in range(3):  #0..3\n",
    "        print(\"First loop: \", i)\n",
    "        print(\"Second loop: \", j)"
   ]
  },
  {
   "cell_type": "code",
   "execution_count": null,
   "metadata": {},
   "outputs": [],
   "source": [
    "i = 0\n",
    "j = 0\n",
    "\n",
    "while i<3:  #i = 2\n",
    "    while j<3:  #j =3\n",
    "        print(\"First loop: \", i)\n",
    "        print(\"Second loop: \", j)\n",
    "        j+=1\n",
    "    i+=1\n",
    "    j = 0"
   ]
  },
  {
   "cell_type": "code",
   "execution_count": null,
   "metadata": {},
   "outputs": [],
   "source": [
    "i = 0\n",
    "\n",
    "while i<3:  #i=3\n",
    "    for j in range(3):\n",
    "        print(\"First loop: \", i)\n",
    "        print(\"Second loop: \", j)\n",
    "        \n",
    "    i+=1\n"
   ]
  },
  {
   "cell_type": "code",
   "execution_count": null,
   "metadata": {},
   "outputs": [],
   "source": [
    "j=0\n",
    "for i in range(3):\n",
    "    while j<3:  #j=3\n",
    "        print(\"First loop: \", i)\n",
    "        print(\"Second loop: \", j)\n",
    "        j+=1\n",
    "    j=0"
   ]
  },
  {
   "cell_type": "markdown",
   "metadata": {
    "collapsed": true
   },
   "source": [
    "### Loop control statements"
   ]
  },
  {
   "cell_type": "markdown",
   "metadata": {
    "collapsed": true
   },
   "source": [
    "### Break\n",
    "\n",
    "Terminating the loop\n",
    "You've reached the output you've needed and you don't want to continue iterating"
   ]
  },
  {
   "cell_type": "code",
   "execution_count": null,
   "metadata": {},
   "outputs": [],
   "source": [
    "list2 = [1, 3, 6, 23, 7, 0, 1]\n",
    "for i in range(len(list2)):  #0..7\n",
    "    print('i = ',i)\n",
    "    if list2[i] == 6:\n",
    "        print(list2[i])\n",
    "        break\n",
    "print('some code after the loop')       "
   ]
  },
  {
   "cell_type": "code",
   "execution_count": null,
   "metadata": {},
   "outputs": [],
   "source": [
    "c = 0\n",
    "list2 = [1, 3, 6, 23, 7, 0, 1, 6, 5, 3]\n",
    "for i in range(len(list2)):  #0..7\n",
    "    print('i = ',i)\n",
    "    if list2[i] == 6:\n",
    "        c+=1\n",
    "        print(list2[i])\n",
    "        if c == 2:\n",
    "            break\n",
    "print('some code after the loop')       "
   ]
  },
  {
   "cell_type": "code",
   "execution_count": null,
   "metadata": {},
   "outputs": [],
   "source": [
    "c = 0\n",
    "\n",
    "while c<10:\n",
    "    print('c = ',c)\n",
    "    if c == 3:  \n",
    "        break\n",
    "    c += 1"
   ]
  },
  {
   "cell_type": "markdown",
   "metadata": {
    "collapsed": true
   },
   "source": [
    "### Continue\n",
    "\n",
    "Skip code after the if statement if the condition evaluates to True"
   ]
  },
  {
   "cell_type": "code",
   "execution_count": null,
   "metadata": {},
   "outputs": [],
   "source": [
    "c = 0\n",
    "\n",
    "while c<10:\n",
    "    c += 1\n",
    "    \n",
    "    if c == 3:\n",
    "        #print(\"reached 3\")\n",
    "        continue\n",
    "    print('c = ',c)"
   ]
  },
  {
   "cell_type": "code",
   "execution_count": null,
   "metadata": {},
   "outputs": [],
   "source": [
    "#The code after the loop is executed anyways\n",
    "\n",
    "c = 0\n",
    "\n",
    "while c<10:\n",
    "    c += 1\n",
    "    \n",
    "    if c == 3:\n",
    "        #print(\"reached 3\")\n",
    "        continue\n",
    "    print('c = ',c)\n",
    "    \n",
    "print(\"Some code after the loop\")"
   ]
  },
  {
   "cell_type": "markdown",
   "metadata": {
    "collapsed": true
   },
   "source": [
    "### pass\n",
    "\n",
    "When you don't know what you're going to write but you have to write some code there to fill the place later"
   ]
  },
  {
   "cell_type": "code",
   "execution_count": null,
   "metadata": {},
   "outputs": [],
   "source": [
    "c = 0\n",
    "\n",
    "while c<10:\n",
    "    c += 1\n",
    "    \n",
    "    if c == 3:\n",
    "        pass\n",
    "\n",
    "    print('c = ',c)"
   ]
  },
  {
   "cell_type": "code",
   "execution_count": null,
   "metadata": {},
   "outputs": [],
   "source": [
    "d = {'a': 1, 'c': 3, 'e': 5}\n",
    "d.items()"
   ]
  },
  {
   "cell_type": "code",
   "execution_count": null,
   "metadata": {},
   "outputs": [],
   "source": [
    "d = {'a': 1, 'c': 3, 'e': 5}\n",
    "\n",
    "for x in d.items(): \n",
    "    print(x)\n",
    "    print(x[0], x[1])"
   ]
  },
  {
   "cell_type": "code",
   "execution_count": null,
   "metadata": {},
   "outputs": [],
   "source": [
    "d = {'a': 1, 'c': 3, 'e': 5}\n",
    "\n",
    "for key, value in d.items():\n",
    "    print(key, value)"
   ]
  },
  {
   "cell_type": "code",
   "execution_count": null,
   "metadata": {},
   "outputs": [],
   "source": [
    "l1 = [['a','b','c','d'], [5,6,7], [1.1, 2.2, 3.3, 4.4]]\n",
    "\n",
    "\n",
    "\n",
    "for i in range(len(l1)): #i=0\n",
    "    for j in range(len(l1[i])):#j=0\n",
    "        print(i,j)\n",
    "        print(l1[i][j])"
   ]
  }
 ],
 "metadata": {
  "kernelspec": {
   "display_name": "Python 3",
   "language": "python",
   "name": "python3"
  },
  "language_info": {
   "codemirror_mode": {
    "name": "ipython",
    "version": 3
   },
   "file_extension": ".py",
   "mimetype": "text/x-python",
   "name": "python",
   "nbconvert_exporter": "python",
   "pygments_lexer": "ipython3",
   "version": "3.7.4"
  }
 },
 "nbformat": 4,
 "nbformat_minor": 2
}
