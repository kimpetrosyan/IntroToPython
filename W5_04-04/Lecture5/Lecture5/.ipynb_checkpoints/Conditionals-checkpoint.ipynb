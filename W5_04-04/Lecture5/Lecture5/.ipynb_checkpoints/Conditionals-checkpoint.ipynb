{
 "cells": [
  {
   "cell_type": "markdown",
   "metadata": {},
   "source": [
    "## Conditionals"
   ]
  },
  {
   "cell_type": "markdown",
   "metadata": {
    "collapsed": true
   },
   "source": [
    "### Controling what statements are executed depending if the condition evaluates to True or False."
   ]
  },
  {
   "cell_type": "code",
   "execution_count": 4,
   "metadata": {},
   "outputs": [
    {
     "name": "stdout",
     "output_type": "stream",
     "text": [
      "The condition was True\n",
      "2\n"
     ]
    }
   ],
   "source": [
    "#Pay attention to the spacing\n",
    "if True:\n",
    "    print('The condition was True')\n",
    "print(2)"
   ]
  },
  {
   "cell_type": "code",
   "execution_count": 6,
   "metadata": {},
   "outputs": [
    {
     "name": "stdout",
     "output_type": "stream",
     "text": [
      "1\n"
     ]
    }
   ],
   "source": [
    "if False:\n",
    "    print('The condition was True')\n",
    "print(1)"
   ]
  },
  {
   "cell_type": "code",
   "execution_count": 9,
   "metadata": {},
   "outputs": [
    {
     "ename": "IndentationError",
     "evalue": "expected an indented block (<ipython-input-9-b25bc6035e6a>, line 2)",
     "output_type": "error",
     "traceback": [
      "\u001b[0;36m  File \u001b[0;32m\"<ipython-input-9-b25bc6035e6a>\"\u001b[0;36m, line \u001b[0;32m2\u001b[0m\n\u001b[0;31m    print('The condition was True')\u001b[0m\n\u001b[0m        ^\u001b[0m\n\u001b[0;31mIndentationError\u001b[0m\u001b[0;31m:\u001b[0m expected an indented block\n"
     ]
    }
   ],
   "source": [
    "if True:\n",
    "print('The condition was True')"
   ]
  },
  {
   "cell_type": "code",
   "execution_count": 10,
   "metadata": {},
   "outputs": [],
   "source": [
    "name = \"Anna\""
   ]
  },
  {
   "cell_type": "code",
   "execution_count": 12,
   "metadata": {},
   "outputs": [
    {
     "data": {
      "text/plain": [
       "True"
      ]
     },
     "execution_count": 12,
     "metadata": {},
     "output_type": "execute_result"
    }
   ],
   "source": [
    "name == \"Anna\""
   ]
  },
  {
   "cell_type": "code",
   "execution_count": 13,
   "metadata": {},
   "outputs": [
    {
     "name": "stdout",
     "output_type": "stream",
     "text": [
      "The condition was True\n"
     ]
    }
   ],
   "source": [
    "#Conditions are usually not hardcoded to True or False, like in previous examples\n",
    "#Assigning -> ' = ', testing for equality -> ' == '\n",
    "name = \"Shahane\"\n",
    "if name == \"Shahane\":\n",
    "    print('The condition was True')"
   ]
  },
  {
   "cell_type": "code",
   "execution_count": 14,
   "metadata": {},
   "outputs": [
    {
     "data": {
      "text/plain": [
       "True"
      ]
     },
     "execution_count": 14,
     "metadata": {},
     "output_type": "execute_result"
    }
   ],
   "source": [
    "name == \"Shahane\""
   ]
  },
  {
   "cell_type": "code",
   "execution_count": 17,
   "metadata": {},
   "outputs": [
    {
     "name": "stdout",
     "output_type": "stream",
     "text": [
      "The name is Shahane\n"
     ]
    }
   ],
   "source": [
    "#Do something else if the condition doesn't evaluate to True\n",
    "name = \"Shahane\"  #\"Aram\"\n",
    "if name == \"Shahane\":\n",
    "    print(\"The name is Shahane\")\n",
    "else:\n",
    "    print(\"The name is not Shahane\")"
   ]
  },
  {
   "cell_type": "code",
   "execution_count": 18,
   "metadata": {},
   "outputs": [
    {
     "name": "stdout",
     "output_type": "stream",
     "text": [
      "The name is Aram\n"
     ]
    }
   ],
   "source": [
    "#Do an additional check\n",
    "\n",
    "name = \"Aram\"  #try changing to \"Shahane\" and \"Ani\"\n",
    "if name == \"Shahane\":\n",
    "    print(\"The name is Shahane\") \n",
    "elif name == \"Aram\":\n",
    "    print(\"The name is Aram\")\n",
    "else:\n",
    "    print(\"The name is not in the list\")"
   ]
  },
  {
   "cell_type": "code",
   "execution_count": 21,
   "metadata": {},
   "outputs": [
    {
     "name": "stdout",
     "output_type": "stream",
     "text": [
      "The name is  Aram\n"
     ]
    }
   ],
   "source": [
    "name = \"Aram\"  #try changing to \"Shahane\" and \"Ani\"\n",
    "if name == \"Shahane\" or name == 'Aram':\n",
    "    print(\"The name is \", name)\n",
    "else:\n",
    "    print(\"The name is not in the list\")"
   ]
  },
  {
   "cell_type": "code",
   "execution_count": 22,
   "metadata": {},
   "outputs": [
    {
     "name": "stdout",
     "output_type": "stream",
     "text": [
      "Hey, Anna\n"
     ]
    }
   ],
   "source": [
    "#We can add more elif statements if needed\n",
    "\n",
    "name = \"Anna\"  #try changing to \"Shahane\" and \"Ani\"\n",
    "if name == \"Shahane\":\n",
    "    print(\"The name is Shahane\")\n",
    "elif name == \"Aram\":\n",
    "    print(\"Hi, Aram\")\n",
    "elif name == \"Anna\":\n",
    "    print(\"Hey, Anna\")\n",
    "elif name == \"Tigran\":\n",
    "    print(\"Hello, Tigran\")\n",
    "else:\n",
    "    print(\"The name is not in the list\")"
   ]
  },
  {
   "cell_type": "markdown",
   "metadata": {},
   "source": [
    "## if if ... if VS if elif elif ... elif"
   ]
  },
  {
   "cell_type": "code",
   "execution_count": null,
   "metadata": {},
   "outputs": [],
   "source": [
    "name = \"Ani\" \n",
    "age = 19\n",
    "if name == \"Ani\":\n",
    "    print(\"The name is Ani\")\n",
    "    \n",
    "if age > 18:\n",
    "    print(\"> 18\")"
   ]
  },
  {
   "cell_type": "code",
   "execution_count": 26,
   "metadata": {},
   "outputs": [
    {
     "name": "stdout",
     "output_type": "stream",
     "text": [
      "The name is Ani\n"
     ]
    }
   ],
   "source": [
    "name = \"Ani\" \n",
    "age = 19\n",
    "if name == \"Ani\":\n",
    "    print(\"The name is Ani\")\n",
    "elif age > 18:\n",
    "    print(\"> 18\")"
   ]
  },
  {
   "cell_type": "code",
   "execution_count": 30,
   "metadata": {},
   "outputs": [
    {
     "name": "stdout",
     "output_type": "stream",
     "text": [
      "Welcome to the class!\n"
     ]
    }
   ],
   "source": [
    "#Let's use boolean operations and, or, not\n",
    "\n",
    "\n",
    "#Both of the conditions have to be True\n",
    "course = \"Python Intro\"\n",
    "registered = True #Try changing to True\n",
    "\n",
    "if course == \"Python Intro\" and registered == True:  #OR we can just write registered instead of registered == True\n",
    "    print(\"Welcome to the class!\")\n",
    "else:\n",
    "    print(\"Please register for the course!\")"
   ]
  },
  {
   "cell_type": "code",
   "execution_count": 31,
   "metadata": {},
   "outputs": [
    {
     "name": "stdout",
     "output_type": "stream",
     "text": [
      "Welcome to the class!\n"
     ]
    }
   ],
   "source": [
    "#Only 1 of the conditions has to be True\n",
    "course = \"Python Intro\"\n",
    "registered = False #Try changing to True\n",
    "\n",
    "if course == \"Python Intro\" or registered == True:  #OR we can just right registered instead of registered == True\n",
    "    print(\"Welcome to the class!\")\n",
    "else:\n",
    "    print(\"Please register for the course!\")"
   ]
  },
  {
   "cell_type": "code",
   "execution_count": 33,
   "metadata": {},
   "outputs": [
    {
     "name": "stdout",
     "output_type": "stream",
     "text": [
      "Please register for the course!\n"
     ]
    }
   ],
   "source": [
    "registered = False #Try changing to True\n",
    "\n",
    "if registered == False:\n",
    "    print(\"Please register for the course!\")"
   ]
  },
  {
   "cell_type": "code",
   "execution_count": 32,
   "metadata": {},
   "outputs": [
    {
     "name": "stdout",
     "output_type": "stream",
     "text": [
      "Please register for the course!\n"
     ]
    }
   ],
   "source": [
    "registered = False #Try changing to True\n",
    "\n",
    "if not registered:\n",
    "    print(\"Please register for the course!\")"
   ]
  },
  {
   "cell_type": "code",
   "execution_count": 34,
   "metadata": {},
   "outputs": [],
   "source": [
    "if \"\":\n",
    "    print(1)"
   ]
  },
  {
   "cell_type": "markdown",
   "metadata": {
    "collapsed": true
   },
   "source": [
    "## False values in Python:\n",
    "    \n",
    "### False\n",
    "### None\n",
    "### Zero of any numeric type\n",
    "### Any empty sequence. E.g. '', (), []\n",
    "### Any empty mapping. E.g. {}"
   ]
  },
  {
   "cell_type": "code",
   "execution_count": 43,
   "metadata": {},
   "outputs": [
    {
     "name": "stdout",
     "output_type": "stream",
     "text": [
      "Evaluated to True\n"
     ]
    }
   ],
   "source": [
    "condition = 0  # Try changing this value to False, 0, 0.0, '', (), [], {}; now try changing to, say 10\n",
    "#condition = [1,2]\n",
    "\n",
    "if condition:\n",
    "    print(\"Evaluated to True\")\n",
    "else:\n",
    "    print(\"Evaluated to False\")"
   ]
  }
 ],
 "metadata": {
  "kernelspec": {
   "display_name": "Python 3",
   "language": "python",
   "name": "python3"
  },
  "language_info": {
   "codemirror_mode": {
    "name": "ipython",
    "version": 3
   },
   "file_extension": ".py",
   "mimetype": "text/x-python",
   "name": "python",
   "nbconvert_exporter": "python",
   "pygments_lexer": "ipython3",
   "version": "3.7.4"
  }
 },
 "nbformat": 4,
 "nbformat_minor": 2
}
