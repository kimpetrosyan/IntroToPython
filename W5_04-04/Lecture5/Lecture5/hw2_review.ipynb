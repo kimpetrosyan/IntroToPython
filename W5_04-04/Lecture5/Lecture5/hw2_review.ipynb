{
 "cells": [
  {
   "cell_type": "markdown",
   "metadata": {},
   "source": [
    "`Create the script problem1.py, create variables num_y (the number of years, int)  and num_d (the number of days, int) and assign those 2 inputs given by the user (using the input() function). Print the current date and time + num_y + num_d (using the timedelta function), taking into consideration that the output of the function input() is of type String.`"
   ]
  },
  {
   "cell_type": "code",
   "execution_count": 14,
   "metadata": {},
   "outputs": [
    {
     "name": "stdout",
     "output_type": "stream",
     "text": [
      "number of years: 10\n",
      "number of days: 2\n",
      "<class 'int'> <class 'int'>\n",
      "Current date:  2020-04-01 19:42:50.231819\n",
      "Given years:  10\n",
      "Given days:  2\n",
      "Final date:  2030-04-01 19:42:50.231819\n"
     ]
    }
   ],
   "source": [
    "import datetime\n",
    "\n",
    "num_y = int(input('number of years: '))\n",
    "num_d = int(input('number of days: '))\n",
    "\n",
    "print(type(num_y), type(num_d))\n",
    "\n",
    "tday = datetime.datetime.today()\n",
    "tdelta = datetime.timedelta(days = num_y*365 + num_d)\n",
    "\n",
    "print('Current date: ',tday)\n",
    "print('Given years: ', num_y)\n",
    "print('Given days: ', num_d)\n",
    "print('Final date: ', tday + tdelta)"
   ]
  },
  {
   "cell_type": "markdown",
   "metadata": {},
   "source": [
    "`Create the script problem2.py, create a variable text and assign it an input given by the user (using the input() function). The value inputted by the user should be 7 or more characters long and should have an odd number of characters. Print the middle 3 characters of the text, as well as create and print the new version of the string text, where the middle 3 characters are uppercase, in the following format:`"
   ]
  },
  {
   "cell_type": "code",
   "execution_count": 18,
   "metadata": {},
   "outputs": [
    {
     "name": "stdout",
     "output_type": "stream",
     "text": [
      "Text: rfi3u4fi2nb\n",
      "4 7\n",
      "The old string:  rfi3u4fi2nb\n",
      "Middle 3 characters:  u4f\n",
      "The new string:  rfi3U4Fi2nb\n"
     ]
    }
   ],
   "source": [
    "text = input(\"Text: \")\n",
    "\n",
    "ind1 = int(len(text)/2 - 1)\n",
    "ind2 = int(ind1 + 3)\n",
    "\n",
    "print(ind1, ind2)\n",
    "\n",
    "new_text = text[:ind1] + text[ind1:ind2].upper() + text[ind2:]\n",
    "\n",
    "print('The old string: ', text)\n",
    "print(\"Middle 3 characters: \", text[ind1:ind2])\n",
    "print(\"The new string: \", new_text)"
   ]
  },
  {
   "cell_type": "markdown",
   "metadata": {},
   "source": [
    "`Create the script problem3.py, create variables text, first_word and second_word and assign those 3 inputs given by the user (using the input() function). Print the new version of the given text, replacing all the occurrences of the first_word in text with the second_word`"
   ]
  },
  {
   "cell_type": "code",
   "execution_count": 19,
   "metadata": {},
   "outputs": [
    {
     "name": "stdout",
     "output_type": "stream",
     "text": [
      "Text: Welcome to Armenia\n",
      "First word: Armenia\n",
      "Second word: USA\n",
      "The given text:  Welcome to Armenia\n",
      "First word:  Armenia\n",
      "Second word:  USA\n",
      "Output string:  Welcome to USA\n"
     ]
    }
   ],
   "source": [
    "text = input(\"Text: \")\n",
    "first_word = input(\"First word: \")\n",
    "second_word = input(\"Second word: \")\n",
    "\n",
    "print('The given text: ', text)\n",
    "print('First word: ', first_word)\n",
    "print('Second word: ', second_word)\n",
    "print('Output string: ', text.replace(first_word,second_word))"
   ]
  },
  {
   "cell_type": "markdown",
   "metadata": {},
   "source": [
    "`Create the script problem4.py, create a variable text and assign it an input given by the user (using the input() function). Find the number of occurrences of the words “USA” or “usa” in the text, as well as replace all the occurrences of the words with the word “Armenia”.`"
   ]
  },
  {
   "cell_type": "code",
   "execution_count": 20,
   "metadata": {},
   "outputs": [
    {
     "name": "stdout",
     "output_type": "stream",
     "text": [
      "Text: Hey people from usa, welcome to USA\n",
      "The given string:  Hey people from usa, welcome to USA\n",
      "The USA/usa count is:  2\n",
      "The new string:  Hey people from Armenia, welcome to Armenia\n"
     ]
    }
   ],
   "source": [
    "text = input(\"Text: \")\n",
    "new_text = text.replace('USA','Armenia').replace('usa','Armenia')\n",
    "\n",
    "print('The given string: ', text)\n",
    "print('The USA/usa count is: ', text.count(\"USA\")+text.count(\"usa\"))\n",
    "print('The new string: ', new_text)"
   ]
  },
  {
   "cell_type": "markdown",
   "metadata": {},
   "source": [
    "`Datetime problem`"
   ]
  },
  {
   "cell_type": "code",
   "execution_count": 11,
   "metadata": {},
   "outputs": [
    {
     "name": "stdout",
     "output_type": "stream",
     "text": [
      "1996-02-05 00:00:00\n",
      "1996\n",
      "2\n",
      "5\n",
      "1\n",
      "310 days, 0:00:00\n",
      "      May 2017\n",
      "Mo Tu We Th Fr Sa Su\n",
      " 1  2  3  4  5  6  7\n",
      " 8  9 10 11 12 13 14\n",
      "15 16 17 18 19 20 21\n",
      "22 23 24 25 26 27 28\n",
      "29 30 31\n",
      "\n",
      "Yesterday:  2020-03-31\n",
      "Yesterday + 2 days:  2020-04-02\n",
      "Yesterday - 3 days:  2020-03-28\n"
     ]
    }
   ],
   "source": [
    "#import datetime\n",
    "import calendar\n",
    "\n",
    "bd = datetime.datetime(1996, 2, 5)\n",
    "\n",
    "print(bd)\n",
    "print(bd.year)\n",
    "print(bd.month)\n",
    "print(bd.day)\n",
    "print(bd.isoweekday())\n",
    "\n",
    "\n",
    "\n",
    "tday = datetime.date.today()\n",
    "bday = datetime.date(2021, 2, 5)\n",
    "till_bday = bday - tday\n",
    "\n",
    "print(till_bday)\n",
    "\n",
    "cal = calendar.month(2017, 5)\n",
    "print (cal)\n",
    "\n",
    "\n",
    "one_day = datetime.timedelta(days = 1)\n",
    "two_days = datetime.timedelta(days = 2)\n",
    "three_days = datetime.timedelta(days = 3)\n",
    "yesterday=tday-one_day\n",
    "print('Yesterday: ',yesterday)\n",
    "print('Yesterday + 2 days: ',yesterday+two_days)\n",
    "print('Yesterday - 3 days: ',yesterday-three_days)"
   ]
  }
 ],
 "metadata": {
  "kernelspec": {
   "display_name": "Python 3",
   "language": "python",
   "name": "python3"
  },
  "language_info": {
   "codemirror_mode": {
    "name": "ipython",
    "version": 3
   },
   "file_extension": ".py",
   "mimetype": "text/x-python",
   "name": "python",
   "nbconvert_exporter": "python",
   "pygments_lexer": "ipython3",
   "version": "3.7.4"
  }
 },
 "nbformat": 4,
 "nbformat_minor": 2
}
