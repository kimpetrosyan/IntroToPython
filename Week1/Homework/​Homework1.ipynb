{
 "cells": [
  {
   "cell_type": "markdown",
   "metadata": {},
   "source": [
    "Problem 1"
   ]
  },
  {
   "cell_type": "code",
   "execution_count": 12,
   "metadata": {},
   "outputs": [
    {
     "name": "stdout",
     "output_type": "stream",
     "text": [
      "False\n",
      "True\n",
      "eggs\n",
      "False\n"
     ]
    }
   ],
   "source": [
    "project  = \"cake\"\n",
    "difficulty = 2\n",
    "ingredients = [\"flour\", \"butter\",\"sugar\", \"eggs\", \"cocoa powder\", \"baking powder\"]\n",
    "print (\"apple\" in ingredients)\n",
    "print (\"butter\" in ingredients)\n",
    "print (\"eggs\" or \"margarine\" in ingredients) #ba vonc sa ashxataec? =)\n",
    "print((\"eggs\" in ingredients) and (\"margarine\" in ingredients))"
   ]
  },
  {
   "cell_type": "code",
   "execution_count": 3,
   "metadata": {},
   "outputs": [
    {
     "name": "stdout",
     "output_type": "stream",
     "text": [
      "flour - 175\n",
      "butter - 175\n",
      "suger - 100g\n",
      "eggs - 2\n",
      "cocoa_pownder - 1ts\n",
      "baking_powder - 0.5\n"
     ]
    }
   ],
   "source": [
    "flour = 175\n",
    "butter = 175\n",
    "sugar = \"100g\"\n",
    "eggs = 2\n",
    "cocoa_powder = \"1ts\"\n",
    "baking_powder = 0.5\n",
    "\n",
    "print (\"flour -\",flour)\n",
    "print('butter -',butter)\n",
    "print('suger -',sugar)\n",
    "print('eggs -',eggs)\n",
    "print('cocoa_pownder -',cocoa_powder)\n",
    "print('baking_powder -',baking_powder)"
   ]
  },
  {
   "cell_type": "markdown",
   "metadata": {},
   "source": [
    "# Problem 3"
   ]
  },
  {
   "cell_type": "code",
   "execution_count": 12,
   "metadata": {},
   "outputs": [
    {
     "name": "stdout",
     "output_type": "stream",
     "text": [
      "1003.0\n",
      "852\n"
     ]
    }
   ],
   "source": [
    "a = 15\n",
    "b = 8\n",
    "c = 2\n",
    "X = 5*a**2 - a*b + (a%2) - a/5\n",
    "Y = b**3 + 3*a*b - 10*c\n",
    "print(X)\n",
    "print(Y)"
   ]
  },
  {
   "cell_type": "code",
   "execution_count": null,
   "metadata": {},
   "outputs": [],
   "source": [
    "x = input(\"user input: \")\n",
    "if int(x) % 2 ==0:\n",
    "    print(\"the number is even\")\n",
    "else:\n",
    "    print(\"the number is odd\")"
   ]
  },
  {
   "cell_type": "code",
   "execution_count": null,
   "metadata": {},
   "outputs": [],
   "source": [
    "x = input(\"ddd:\")"
   ]
  },
  {
   "cell_type": "code",
   "execution_count": null,
   "metadata": {},
   "outputs": [],
   "source": []
  }
 ],
 "metadata": {
  "kernelspec": {
   "display_name": "Python 3",
   "language": "python",
   "name": "python3"
  },
  "language_info": {
   "codemirror_mode": {
    "name": "ipython",
    "version": 3
   },
   "file_extension": ".py",
   "mimetype": "text/x-python",
   "name": "python",
   "nbconvert_exporter": "python",
   "pygments_lexer": "ipython3",
   "version": "3.7.4"
  }
 },
 "nbformat": 4,
 "nbformat_minor": 2
}
