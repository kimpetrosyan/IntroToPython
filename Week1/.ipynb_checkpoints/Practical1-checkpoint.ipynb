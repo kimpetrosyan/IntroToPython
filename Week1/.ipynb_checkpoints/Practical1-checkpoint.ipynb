{
 "cells": [
  {
   "cell_type": "code",
   "execution_count": 15,
   "metadata": {},
   "outputs": [
    {
     "name": "stdout",
     "output_type": "stream",
     "text": [
      "course: Intro to Python\n",
      "student: Kim Petrosyan\n",
      "nickname: student\n",
      "grade: 1\n"
     ]
    }
   ],
   "source": [
    "course = \"Intro to Python\"\n",
    "student  = \"Kim Petrosyan\"\n",
    "nickname = \"student\"\n",
    "grade = \"1\"\n",
    "python_expert = True\n",
    "print(\"course:\",course)\n",
    "print(\"student:\",student)\n",
    "print(\"nickname:\",nickname)\n",
    "print(\"grade:\",grade)\n",
    "\n"
   ]
  },
  {
   "cell_type": "markdown",
   "metadata": {},
   "source": [
    "problem 4\n",
    "\n"
   ]
  },
  {
   "cell_type": "code",
   "execution_count": 29,
   "metadata": {},
   "outputs": [
    {
     "name": "stdout",
     "output_type": "stream",
     "text": [
      "5.0\n",
      "The hypotenuse of the triangle ABC = 5.0\n"
     ]
    }
   ],
   "source": [
    "AB = 3\n",
    "AC = 4\n",
    "BC =  (AB**2 + AC**2)**(1/2)\n",
    "print (BC)\n",
    "print (\"The hypotenuse of the triangle ABC =\",BC)"
   ]
  },
  {
   "cell_type": "code",
   "execution_count": null,
   "metadata": {},
   "outputs": [],
   "source": []
  },
  {
   "cell_type": "code",
   "execution_count": null,
   "metadata": {},
   "outputs": [],
   "source": []
  }
 ],
 "metadata": {
  "kernelspec": {
   "display_name": "Python 3",
   "language": "python",
   "name": "python3"
  },
  "language_info": {
   "codemirror_mode": {
    "name": "ipython",
    "version": 3
   },
   "file_extension": ".py",
   "mimetype": "text/x-python",
   "name": "python",
   "nbconvert_exporter": "python",
   "pygments_lexer": "ipython3",
   "version": "3.7.4"
  }
 },
 "nbformat": 4,
 "nbformat_minor": 2
}
