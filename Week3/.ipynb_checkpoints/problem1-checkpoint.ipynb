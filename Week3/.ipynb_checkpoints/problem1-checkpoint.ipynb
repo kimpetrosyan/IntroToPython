{
 "cells": [
  {
   "cell_type": "code",
   "execution_count": 1,
   "metadata": {},
   "outputs": [
    {
     "name": "stdout",
     "output_type": "stream",
     "text": [
      "Name: www\n",
      "Last Name: eer\n"
     ]
    }
   ],
   "source": [
    "name = input(\"Name: \")\n",
    "last_name = input(\"Last Name: \")"
   ]
  },
  {
   "cell_type": "code",
   "execution_count": 10,
   "metadata": {},
   "outputs": [
    {
     "name": "stdout",
     "output_type": "stream",
     "text": [
      "First number: 4\n",
      "Second number: 4\n",
      "Sum: 8\n"
     ]
    }
   ],
   "source": [
    "num1 = int(input(\"First number: \"))\n",
    "num2 = int(input(\"Second number: \"))\n",
    "sum = num1 + num2\n",
    "print(\"Sum:\", sum)\n"
   ]
  },
  {
   "cell_type": "code",
   "execution_count": 16,
   "metadata": {},
   "outputs": [
    {
     "name": "stdout",
     "output_type": "stream",
     "text": [
      "Your AGE: 6\n",
      "Happy Birthday, you are already 6 years old!\n",
      "Happy Birthday, you are already 6 years old!\n",
      "Happy Birthday, you are already 6 years old!\n"
     ]
    }
   ],
   "source": [
    "age = input(\"Your AGE: \")\n",
    "\n",
    "\n",
    "print(\"Happy Birthday, you are already\", age, \"years old!\")\n",
    "print('Happy Birthday, you are already %s years old!' %age)\n",
    "\n",
    "Text = \"Happy Birthday, you are already {} years old!\"\n",
    "print(Text.format(age))"
   ]
  },
  {
   "cell_type": "code",
   "execution_count": 23,
   "metadata": {},
   "outputs": [
    {
     "name": "stdout",
     "output_type": "stream",
     "text": [
      "The given string: GHJiii\n",
      "All lowercase:  ghjiii\n",
      "All lowercase:  GHJIII\n"
     ]
    }
   ],
   "source": [
    "text = input(\"The given string: \")\n",
    "\n",
    "print('All lowercase: ', text.lower())\n",
    "print('All lowercase: ', text.upper())"
   ]
  },
  {
   "cell_type": "code",
   "execution_count": 26,
   "metadata": {},
   "outputs": [
    {
     "name": "stdout",
     "output_type": "stream",
     "text": [
      "abbbbbaaaaaaaeaa\n",
      "10\n",
      "5\n",
      "0\n",
      "0\n"
     ]
    }
   ],
   "source": [
    "text1 = input()\n",
    "print(text1.count('a'))\n",
    "print(text1.count('b'))\n",
    "print(text1.count('c'))\n",
    "print(text1.count('d'))\n"
   ]
  },
  {
   "cell_type": "code",
   "execution_count": 45,
   "metadata": {},
   "outputs": [
    {
     "name": "stdout",
     "output_type": "stream",
     "text": [
      "How are you KKk?\n",
      "How are you KKk  ?\n",
      "How are you KKk?\n"
     ]
    }
   ],
   "source": [
    "str1 = 'How are you John?'\n",
    "name = \"KKk\"\n",
    "str2 = \"How are you \" + name +'?'\n",
    "print(str2)\n",
    "\n",
    "print(\"How are you %s  ?\" % (name))\n",
    "print(str1.replace(\"John\", name))"
   ]
  },
  {
   "cell_type": "code",
   "execution_count": 36,
   "metadata": {},
   "outputs": [
    {
     "name": "stdout",
     "output_type": "stream",
     "text": [
      "Hi, where are you from?\n",
      "I’m from Armenia\n",
      "How long have you lived here?\n",
      "For 10 years\n"
     ]
    }
   ],
   "source": [
    "country = \"Armenia\"\n",
    "years = 10\n",
    "print('''Hi, where are you from?\n",
    "I’m from %s\n",
    "How long have you lived here?\n",
    "For %s years''' %(country, years))"
   ]
  },
  {
   "cell_type": "code",
   "execution_count": 41,
   "metadata": {},
   "outputs": [
    {
     "name": "stdout",
     "output_type": "stream",
     "text": [
      "The given text:  ytjkm,sjnd\n",
      "Start index: 2\n",
      "End index: 5\n",
      "Output string: jkm\n"
     ]
    }
   ],
   "source": [
    "text = input(\"The given text:  \")\n",
    "start_index = input(\"Start index: \")\n",
    "end_index = input(\"End index: \")\n",
    "x = text[int(start_index): int(end_index) :1]\n",
    "print(\"Output string:\", x)"
   ]
  },
  {
   "cell_type": "code",
   "execution_count": 67,
   "metadata": {},
   "outputs": [
    {
     "name": "stdout",
     "output_type": "stream",
     "text": [
      "Local current time : Sat Mar 21 12:33:15 2020\n"
     ]
    }
   ],
   "source": [
    "import calendar\n",
    "import datetime\n",
    "import time\n",
    "\n",
    "localtime = time.asctime()\n",
    "print (\"Local current time :\", localtime)\n",
    "\n"
   ]
  },
  {
   "cell_type": "code",
   "execution_count": 66,
   "metadata": {},
   "outputs": [
    {
     "name": "stdout",
     "output_type": "stream",
     "text": [
      "Date:  2020-03-21 12:31:29.831540\n",
      "Year:  2020\n",
      "Month:  3\n",
      "Day of the week (version 1):  6\n",
      "Day of the week (version 0):  5\n",
      "- 5 days:  2020-03-16 12:31:29.831540\n",
      "\n",
      "Date and Time:  2020-03-21 12:31:29.831540\n",
      "+ 5 sec:  2020-03-21 12:31:34.831540\n"
     ]
    }
   ],
   "source": [
    "tday = datetime.datetime.today()\n",
    "\n",
    "print('Date: ', tday)\n",
    "print('Year: ', tday.year)\n",
    "print('Month: ', tday.month)\n",
    "\n",
    "print('Day of the week (version 1): ', tday.isoweekday())\n",
    "print('Day of the week (version 0): ', tday.weekday())\n",
    "\n",
    "tdelta = datetime.timedelta(days = 5)\n",
    "print('- 5 days: ', tday - tdelta)\n",
    "print()\n",
    "\n",
    "print('Date and Time: ', tday)\n",
    "\n",
    "tdelta1 = datetime.timedelta(seconds = 5)\n",
    "\n",
    "print('+ 5 sec: ', tday + tdelta1)"
   ]
  },
  {
   "cell_type": "code",
   "execution_count": null,
   "metadata": {},
   "outputs": [],
   "source": []
  }
 ],
 "metadata": {
  "kernelspec": {
   "display_name": "Python 3",
   "language": "python",
   "name": "python3"
  },
  "language_info": {
   "codemirror_mode": {
    "name": "ipython",
    "version": 3
   },
   "file_extension": ".py",
   "mimetype": "text/x-python",
   "name": "python",
   "nbconvert_exporter": "python",
   "pygments_lexer": "ipython3",
   "version": "3.7.4"
  }
 },
 "nbformat": 4,
 "nbformat_minor": 2
}
