{
 "cells": [
  {
   "cell_type": "markdown",
   "metadata": {},
   "source": [
    "```1. The store gives a discount if the overall cost of the purchased shoes is over 1000. Suppose that one pair of shoes costs 100. Create a variable n_shoes of type int and assign it a value got as a user input (using the function input()), which will show how many pairs of shoes the person wants to buy. Then print “You get a discount” or “You don’t get a discount”, depending on the overall cost of the purchase.```"
   ]
  },
  {
   "cell_type": "code",
   "execution_count": 12,
   "metadata": {},
   "outputs": [
    {
     "name": "stdout",
     "output_type": "stream",
     "text": [
      "How many shoes? 10\n",
      "You don’t get a discount\n"
     ]
    }
   ],
   "source": [
    "n_shoes = int(input(\"How many shoes? \"))\n",
    "cost = 100\n",
    "\n",
    "if n_shoes*cost>1000:\n",
    "    print(\"You get a discount\")\n",
    "else:\n",
    "    print(\"You don’t get a discount\")"
   ]
  },
  {
   "cell_type": "markdown",
   "metadata": {},
   "source": [
    "```2. Crate the dictionary d with the following values {“name”: “Armen”, “age”: 15, “grades”: [10, 8, 8, 4, 6, 7] }. Write the following program:\n",
    "Take the list of Armen’s grades from the dictionary d and calculate the average of his grades. If the average of the grades is larger than 7 - print “Good job”, otherwise - print “You need to work more.''```"
   ]
  },
  {
   "cell_type": "code",
   "execution_count": 17,
   "metadata": {},
   "outputs": [
    {
     "name": "stdout",
     "output_type": "stream",
     "text": [
      "Good job\n"
     ]
    }
   ],
   "source": [
    "d = {\"name\": \"Armen\", \"age\": 15, \"grades\": [10, 8, 8, 4, 6, 7] }\n",
    "\n",
    "grades = d['grades']\n",
    "g_mean = sum(grades)/len(grades)\n",
    "\n",
    "if g_mean>7:\n",
    "    print(\"Good job\")\n",
    "else:\n",
    "    print(\"You need to work more\")"
   ]
  },
  {
   "cell_type": "code",
   "execution_count": 18,
   "metadata": {},
   "outputs": [
    {
     "name": "stdout",
     "output_type": "stream",
     "text": [
      "Good job\n"
     ]
    }
   ],
   "source": [
    "from statistics import mean\n",
    "\n",
    "d = {\"name\": \"Armen\", \"age\": 15, \"grades\": [10, 8, 8, 4, 6, 7] }\n",
    "\n",
    "grades = d['grades']\n",
    "g_mean = mean(grades)\n",
    "\n",
    "if g_mean>7:\n",
    "    print(\"Good job\")\n",
    "else:\n",
    "    print(\"You need to work more\")"
   ]
  },
  {
   "cell_type": "markdown",
   "metadata": {},
   "source": [
    "```3․ Print only odd numbers 0-10 using the statement continue. ```"
   ]
  },
  {
   "cell_type": "code",
   "execution_count": 21,
   "metadata": {},
   "outputs": [
    {
     "name": "stdout",
     "output_type": "stream",
     "text": [
      "1\n",
      "3\n",
      "5\n",
      "7\n",
      "9\n"
     ]
    }
   ],
   "source": [
    "for i in range(10): \n",
    "    if i%2==0:\n",
    "        continue\n",
    "    print(i)"
   ]
  },
  {
   "cell_type": "markdown",
   "metadata": {},
   "source": [
    "```4. Create 2 lists with the following values: list1 = [1, 3, 5, 7, 9, 11, 13, 15] and list2 = [4, 6, 14, 11, 8, 16]։ Go over the elements of list1 using a for loop, break from the loop as soon as you see a value that is also present in list2. ```"
   ]
  },
  {
   "cell_type": "code",
   "execution_count": 24,
   "metadata": {},
   "outputs": [
    {
     "name": "stdout",
     "output_type": "stream",
     "text": [
      "1\n",
      "3\n",
      "5\n",
      "7\n",
      "9\n"
     ]
    }
   ],
   "source": [
    "list1 = [1, 3, 5, 7, 9, 11, 13, 15]\n",
    "list2 = [4, 6, 14, 11, 8, 16]\n",
    "\n",
    "for i in list1:   \n",
    "    if i in list2:  \n",
    "        print(i)\n",
    "        break\n",
    "    "
   ]
  },
  {
   "cell_type": "markdown",
   "metadata": {},
   "source": [
    "```5. Create the list menu with the following values ['ice cream', 'chocolate', 'apple crisp', 'cookies']. Create the variable desert of type String and assign it the user input (use the function input()). Write the following program:\n",
    "If the value of the variable desert is present in the list menu, print  “Your desert will arrive in 10 minutes”, otherwise, print “Please choose another desert” and ask the user for another input until the value entered by the user is from the list menu.```"
   ]
  },
  {
   "cell_type": "code",
   "execution_count": 26,
   "metadata": {},
   "outputs": [
    {
     "name": "stdout",
     "output_type": "stream",
     "text": [
      "Input your desert: chocolate\n",
      "Your desert will arrive in 10 minutes\n"
     ]
    }
   ],
   "source": [
    "menu = ['ice cream', 'chocolate', 'apple crisp', 'cookies']\n",
    "\n",
    "desert = input(\"Input your desert: \")\n",
    "\n",
    "while desert not in menu:\n",
    "    print(\"Please choose another desert\")\n",
    "    desert = input(\"Input your desert: \")\n",
    "else:\n",
    "    print(\"Your desert will arrive in 10 minutes\")"
   ]
  },
  {
   "cell_type": "code",
   "execution_count": 27,
   "metadata": {},
   "outputs": [
    {
     "name": "stdout",
     "output_type": "stream",
     "text": [
      "Input your desert: lala\n",
      "Input your desert: wec\n",
      "Input your desert: chocolate\n",
      "Your desert will arrive in 10 minutes\n"
     ]
    }
   ],
   "source": [
    "menu = ['ice cream', 'chocolate', 'apple crisp', 'cookies']\n",
    "\n",
    "for i in range(10):\n",
    "    desert = input(\"Input your desert: \")\n",
    "    if desert in menu:\n",
    "        print(\"Your desert will arrive in 10 minutes\")\n",
    "        break"
   ]
  },
  {
   "cell_type": "markdown",
   "metadata": {},
   "source": [
    "```6. Create the list list2 containing values of type int of your choice. Count how many of the values in your list are between 5 and 10 and print the result.  ```"
   ]
  },
  {
   "cell_type": "code",
   "execution_count": 28,
   "metadata": {},
   "outputs": [
    {
     "name": "stdout",
     "output_type": "stream",
     "text": [
      "[5, 6, 8]\n",
      "3\n"
     ]
    }
   ],
   "source": [
    "list2 = [1, 4, 34, 5, 6, 2, 8, 3, 4, 23]\n",
    "new_list2 = [i for i in list2 if 5<=i<=10]\n",
    "print(new_list2)\n",
    "print(len(new_list2))"
   ]
  },
  {
   "cell_type": "markdown",
   "metadata": {},
   "source": [
    "```7. Create the list list4 with the following values  [[10, 20, 40], [40, 50, 60], [70, 80, 90]]. Replace the last elements of the list entries of list4 with 100 and assign the new list to the variable list5. Print the lists list4 and list5.```"
   ]
  },
  {
   "cell_type": "code",
   "execution_count": 29,
   "metadata": {},
   "outputs": [
    {
     "data": {
      "text/plain": [
       "[1, 2, 3, 2]"
      ]
     },
     "execution_count": 29,
     "metadata": {},
     "output_type": "execute_result"
    }
   ],
   "source": [
    "[1,2,3]+[2]"
   ]
  },
  {
   "cell_type": "code",
   "execution_count": 37,
   "metadata": {},
   "outputs": [
    {
     "name": "stdout",
     "output_type": "stream",
     "text": [
      "before:  [[10, 20, 40], [40, 50, 60], [70, 80, 90]]\n",
      "after:  [[10, 20, 100], [40, 50, 100], [70, 80, 100]]\n"
     ]
    }
   ],
   "source": [
    "list4 = [[10, 20, 40], [40, 50, 60], [70, 80, 90]]\n",
    "\n",
    "print(\"before: \", list4)\n",
    "\n",
    "list4 = [i[:2]+[100] for i in list4]\n",
    "\n",
    "print(\"after: \", list4)\n",
    "\n",
    "#Not the best example to use nested list comprehention after a second thought)) "
   ]
  }
 ],
 "metadata": {
  "kernelspec": {
   "display_name": "Python 3",
   "language": "python",
   "name": "python3"
  },
  "language_info": {
   "codemirror_mode": {
    "name": "ipython",
    "version": 3
   },
   "file_extension": ".py",
   "mimetype": "text/x-python",
   "name": "python",
   "nbconvert_exporter": "python",
   "pygments_lexer": "ipython3",
   "version": "3.7.4"
  }
 },
 "nbformat": 4,
 "nbformat_minor": 4
}
