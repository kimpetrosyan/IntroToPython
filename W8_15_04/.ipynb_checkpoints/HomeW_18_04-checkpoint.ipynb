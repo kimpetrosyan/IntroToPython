{
 "cells": [
  {
   "cell_type": "code",
   "execution_count": 12,
   "metadata": {},
   "outputs": [
    {
     "name": "stdout",
     "output_type": "stream",
     "text": [
      "Your number: 9\n",
      "Your file name input: eeeee\n",
      "My favourite number is 9\n",
      "eeeee.txt\n",
      "Now the file has more content!\n",
      "Welcome dear ani\n"
     ]
    }
   ],
   "source": [
    "# H1\n",
    "\n",
    "class Person:\n",
    "    def __init__(self, name , last_name , age , gender, student, password):\n",
    "        self.name = name\n",
    "        self.last_name = last_name\n",
    "        self.age =age\n",
    "        self.gender = gender\n",
    "        self.student = student          \n",
    "        self.__password = password\n",
    "        \n",
    "    def Greeting(self, second_person):\n",
    "        print(\"Welcome dear %s\" %second_person.name)          #stex petq a grel self.second_person = second_person??? \n",
    "                                                        #et pahy vonc a voroshvum, lav chem patkeracnum\n",
    "        \n",
    "    def Goodbye(self):\n",
    "        print('Bye everyone!')\n",
    "        \n",
    "    def Favourite_num(self, num1):\n",
    "        print ('My favourite number is', num1)\n",
    "        \n",
    "    def Read_file(self, filename):\n",
    "        f1 = filename + '.txt'\n",
    "        print(f1)\n",
    "        r = open(f1,'w')\n",
    "        r.write(\"Now the file has more content!\")\n",
    "        r.close\n",
    "        r = open(f1,'r')\n",
    "        print(r.read())\n",
    "        \n",
    "    def set_code(self, new_code):\n",
    "        self.__code = new_code\n",
    "    \n",
    "    def get_code(self):\n",
    "        return self.__code\n",
    "        \n",
    "per1 = Person(\"kkk\",'PPP', 66, \"f\", \"student\",33)\n",
    "per2 = Person(\"Ani\",'lolo', 44, \"f\", \"student\",55)\n",
    "num1 = int(input('Your number: '))     \n",
    "filename = input('Your file name input: ')\n",
    "per1.Favourite_num(num1)\n",
    "per1.Read_file(filename)\n",
    "per1.Greeting(per2)\n",
    "\n"
   ]
  },
  {
   "cell_type": "code",
   "execution_count": 17,
   "metadata": {},
   "outputs": [
    {
     "name": "stdout",
     "output_type": "stream",
     "text": [
      "8\n",
      "15\n",
      "0.6\n",
      "-2\n"
     ]
    }
   ],
   "source": [
    "# H2\n",
    "\n",
    "\n",
    "class Calculation:\n",
    "    def __init__(self, x, y):\n",
    "        self.x = x\n",
    "        self.y = y\n",
    "        \n",
    "        \n",
    "    def addition(self):\n",
    "        print(self.x+self.y)\n",
    "        \n",
    "    def subtraction(self):\n",
    "        print(self.x-self.y)\n",
    "        \n",
    "        \n",
    "class MyCalculation(Calculation):\n",
    "    def __init__(self,x,y):\n",
    "        Calculation.__init__(self,x,y)\n",
    "        \n",
    "    def multiplication(self):\n",
    "        print(self.x*self.y)\n",
    "    \n",
    "    def division(self):\n",
    "        print(self.x/self.y)\n",
    "\n",
    "\n",
    "num = MyCalculation(3,5)\n",
    "num.addition()\n",
    "num.multiplication()\n",
    "num.division()\n",
    "num.subtraction()\n",
    "        "
   ]
  },
  {
   "cell_type": "code",
   "execution_count": 23,
   "metadata": {},
   "outputs": [
    {
     "name": "stdout",
     "output_type": "stream",
     "text": [
      "The current time is 13.03.2013\n",
      "The current date is 12 PM\n"
     ]
    }
   ],
   "source": [
    "#3\n",
    "\n",
    "\n",
    "class My_Time:\n",
    "    def __init__(self, t):\n",
    "        self.t = t\n",
    "        \n",
    "    def printTime(self):\n",
    "        print(\"The current time is %s\" %self.t)\n",
    "        \n",
    "class My_Date:\n",
    "    def __init__(self, d):\n",
    "        self.d = d\n",
    "        \n",
    "    def printDate(self):\n",
    "        print(\"The current date is %s\" %self.d)\n",
    "        \n",
    "class Date_Time(My_Time, My_Date):\n",
    "    def __init__(self,d,t):\n",
    "        My_Date.__init__(self, d)\n",
    "        My_Time.__init__(self, t)\n",
    "\n",
    "t= Date_Time('12 PM','13.03.2013')\n",
    "t.printTime()\n",
    "t.printDate()\n",
    "    "
   ]
  },
  {
   "cell_type": "code",
   "execution_count": null,
   "metadata": {},
   "outputs": [],
   "source": []
  }
 ],
 "metadata": {
  "kernelspec": {
   "display_name": "Python 3",
   "language": "python",
   "name": "python3"
  },
  "language_info": {
   "codemirror_mode": {
    "name": "ipython",
    "version": 3
   },
   "file_extension": ".py",
   "mimetype": "text/x-python",
   "name": "python",
   "nbconvert_exporter": "python",
   "pygments_lexer": "ipython3",
   "version": "3.7.4"
  }
 },
 "nbformat": 4,
 "nbformat_minor": 2
}
