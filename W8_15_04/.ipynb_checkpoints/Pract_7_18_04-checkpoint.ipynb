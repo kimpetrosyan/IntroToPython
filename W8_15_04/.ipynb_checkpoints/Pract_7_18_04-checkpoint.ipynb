{
 "cells": [
  {
   "cell_type": "code",
   "execution_count": 6,
   "metadata": {},
   "outputs": [
    {
     "name": "stdout",
     "output_type": "stream",
     "text": [
      "A  red circle with radius 5 .\n"
     ]
    }
   ],
   "source": [
    "#1\n",
    "\n",
    "class Circle:\n",
    "    def __init__(self,radius,color):\n",
    "        self.rad = radius\n",
    "        self.col = color\n",
    "        \n",
    "    def getDesc(self):\n",
    "        print('A ', self.col, 'circle with radius', self.rad,\".\")\n",
    "        \n",
    "a = Circle(5,\"red\")\n",
    "\n",
    "a.getDesc()"
   ]
  },
  {
   "cell_type": "code",
   "execution_count": 23,
   "metadata": {},
   "outputs": [
    {
     "name": "stdout",
     "output_type": "stream",
     "text": [
      "FGHFGH\n"
     ]
    }
   ],
   "source": [
    "#2\n",
    "\n",
    "class A2:\n",
    "    def __init__(self, my_str):\n",
    "        self.my_str = my_str\n",
    "        \n",
    "        \n",
    "    def get_String(self):\n",
    "        return self.my_str\n",
    "        \n",
    "        \n",
    "    def print_String(self):    \n",
    "        print(self.my_str.upper())\n",
    "\n",
    "       \n",
    "z = A2(\"fghfgh\")\n",
    "z.print_String()"
   ]
  },
  {
   "cell_type": "code",
   "execution_count": 38,
   "metadata": {},
   "outputs": [
    {
     "name": "stdout",
     "output_type": "stream",
     "text": [
      "low\n"
     ]
    }
   ],
   "source": [
    "#3\n",
    "\n",
    "class Employee:\n",
    "    def __init__(self,name, last_name , monthly_salary):\n",
    "        self.name = name\n",
    "        self.last = last_name\n",
    "        self.__monthly_salary = monthly_salary\n",
    "        \n",
    "    def getFullName(self):\n",
    "        return self.name, self.last\n",
    "    \n",
    "    \n",
    "    def annualSalary(self):\n",
    "        ys = 12*self.__monthly_salary\n",
    "        if ys > 100:\n",
    "            print('high')\n",
    "        else:\n",
    "            print('low')\n",
    "\n",
    "x = Employee('kkk','ppp',5)\n",
    "x.getFullName()\n",
    "x.annualSalary()"
   ]
  },
  {
   "cell_type": "code",
   "execution_count": 45,
   "metadata": {},
   "outputs": [
    {
     "name": "stdout",
     "output_type": "stream",
     "text": [
      "car2 is better than car1\n"
     ]
    }
   ],
   "source": [
    "#4\n",
    "\n",
    "\n",
    "class Car:\n",
    "    def __init__(self,model , color, max_speed):\n",
    "        self.model = model\n",
    "        self.color = color\n",
    "        self.max_speed = max_speed\n",
    "        \n",
    "    def compareCar(self, car2):    \n",
    "        \n",
    "        if self.max_speed>car2.max_speed:\n",
    "            print('car1 is better than car2')\n",
    "        else:\n",
    "            print('car2 is better than car1')\n",
    "        \n",
    "a = Car(\"BMW\",'Blue',250)\n",
    "b = Car('VW','Red',200)\n",
    "\n",
    "b.compareCar(a)"
   ]
  },
  {
   "cell_type": "code",
   "execution_count": 68,
   "metadata": {},
   "outputs": [
    {
     "name": "stdout",
     "output_type": "stream",
     "text": [
      "200\n",
      "Welcome to your car  SSS\n"
     ]
    }
   ],
   "source": [
    "#5\n",
    "\n",
    "\n",
    "class Police_car:     \n",
    "    tax_value = 0.2 \n",
    "    def __init__(self, owner , price, pass_code):\n",
    "        self.owner = owner\n",
    "        self.price = price\n",
    "        self.__pass_code = pass_code\n",
    "        \n",
    "        \n",
    "       \n",
    "    def tax(self):\n",
    "        tax1 = int(Police_car.tax_value * self.price)\n",
    "        print(tax1)\n",
    "    \n",
    "    def greating(self):\n",
    "        if self.__pass_code == 'admin':\n",
    "            print('Welcome to your car ', self.owner)\n",
    "        \n",
    "        \n",
    "        \n",
    "pc = Police_car('SSS',1000,'admin')    \n",
    "pc.tax()\n",
    "pc.greating()"
   ]
  },
  {
   "cell_type": "code",
   "execution_count": 83,
   "metadata": {},
   "outputs": [
    {
     "name": "stdout",
     "output_type": "stream",
     "text": [
      "I can run really fast\n"
     ]
    }
   ],
   "source": [
    "#6\n",
    "\n",
    "\n",
    "class Animal:\n",
    "    def __init__(self,name):\n",
    "        self.name  = name\n",
    "        \n",
    "    def move(self):\n",
    "        print('I can move')\n",
    "        \n",
    "        \n",
    "class Dog(Animal):\n",
    "    def __init__(self):\n",
    "        Animal.__init__(self,'Dog')\n",
    "        \n",
    "    def move(self):\n",
    "        print('I can run really fast')\n",
    "        \n",
    "w = Dog()\n",
    "\n",
    "w.move()\n",
    "        \n"
   ]
  },
  {
   "cell_type": "code",
   "execution_count": 84,
   "metadata": {},
   "outputs": [
    {
     "name": "stdout",
     "output_type": "stream",
     "text": [
      "I have 4 legs\n",
      "My name is X Exnikk\n"
     ]
    }
   ],
   "source": [
    "#7\n",
    "\n",
    "class Animal:\n",
    "    def __init__(self,name,legs):\n",
    "        self.name  = name\n",
    "        self.legs = legs\n",
    "        \n",
    "        \n",
    "    def getName(self):\n",
    "        print('My name is %s' %self.name)\n",
    "        \n",
    "        \n",
    "    def getLegs(self):\n",
    "        print('I have %s legs' %self.legs)\n",
    "        \n",
    "class Exnik(Animal):\n",
    "    def __init__(self):\n",
    "        Animal.__init__(self,'Exnikk', 4)\n",
    "        \n",
    "        \n",
    "Ex = Exnik()        \n",
    "Ex.getLegs()\n",
    "Ex.getName()"
   ]
  },
  {
   "cell_type": "code",
   "execution_count": 94,
   "metadata": {},
   "outputs": [
    {
     "name": "stdout",
     "output_type": "stream",
     "text": [
      "I believe I can fly\n"
     ]
    }
   ],
   "source": [
    "#8\n",
    "\n",
    "import abc\n",
    "\n",
    "class Bird(abc.ABC):\n",
    "    def __init__(self, name, weight):\n",
    "        self.name = name\n",
    "        self.weight = weight\n",
    "            \n",
    "    @abc.abstractmethod        \n",
    "    def fly(self):   \n",
    "        pass\n",
    "    \n",
    "class Hav(Bird):\n",
    "    def __init__(self,name, weight):\n",
    "        Bird.__init__(self,name, weight)\n",
    "        \n",
    "    def fly(self):\n",
    "        print('I believe I can fly')\n",
    "        \n",
    "        \n",
    "hhv = Hav('juto',55)\n",
    "hhv.fly()\n",
    "        \n",
    "        "
   ]
  },
  {
   "cell_type": "code",
   "execution_count": null,
   "metadata": {},
   "outputs": [],
   "source": []
  }
 ],
 "metadata": {
  "kernelspec": {
   "display_name": "Python 3",
   "language": "python",
   "name": "python3"
  },
  "language_info": {
   "codemirror_mode": {
    "name": "ipython",
    "version": 3
   },
   "file_extension": ".py",
   "mimetype": "text/x-python",
   "name": "python",
   "nbconvert_exporter": "python",
   "pygments_lexer": "ipython3",
   "version": "3.7.4"
  }
 },
 "nbformat": 4,
 "nbformat_minor": 2
}
