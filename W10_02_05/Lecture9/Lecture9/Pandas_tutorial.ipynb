{
 "cells": [
  {
   "cell_type": "markdown",
   "metadata": {
    "colab_type": "text",
    "id": "O-jaNhLqVu4j"
   },
   "source": [
    "# Pandas Tutorial"
   ]
  },
  {
   "cell_type": "markdown",
   "metadata": {
    "colab_type": "text",
    "id": "LANB0pqqVu4l"
   },
   "source": [
    "Pandas is a Python library providing high-performance, easy-to-use data structures and data analysis tools"
   ]
  },
  {
   "cell_type": "markdown",
   "metadata": {
    "colab_type": "text",
    "id": "H60IphLfVu4o"
   },
   "source": [
    "Pandas deals with the following three data structures:\n",
    "\n",
    "    Series\n",
    "    DataFrame\n",
    "    Panel (ignore this one for now)"
   ]
  },
  {
   "cell_type": "markdown",
   "metadata": {
    "colab_type": "text",
    "id": "GJ499JUBVu4r"
   },
   "source": [
    "### Importing the modules"
   ]
  },
  {
   "cell_type": "code",
   "execution_count": null,
   "metadata": {
    "colab": {},
    "colab_type": "code",
    "id": "tZgW-60RVu4t"
   },
   "outputs": [],
   "source": [
    "import pandas as pd\n",
    "import numpy as np"
   ]
  },
  {
   "cell_type": "markdown",
   "metadata": {
    "colab_type": "text",
    "collapsed": true,
    "id": "szAeX7_7Vu41"
   },
   "source": [
    "## Pandas.series\n",
    "Series is a one-dimensional labeled array capable of holding data of one type.\n",
    "\n",
    "pandas.Series(data, index, dtype, copy)"
   ]
  },
  {
   "cell_type": "markdown",
   "metadata": {
    "colab_type": "text",
    "collapsed": true,
    "id": "QbbVEfaKVu43"
   },
   "source": [
    "### Create empty series"
   ]
  },
  {
   "cell_type": "code",
   "execution_count": null,
   "metadata": {
    "colab": {},
    "colab_type": "code",
    "id": "dZWw1gTSVu44",
    "outputId": "29ed68b5-3a44-4a3b-ba00-6e8f11411c2e"
   },
   "outputs": [],
   "source": [
    "s = pd.Series()\n",
    "print(s)"
   ]
  },
  {
   "cell_type": "markdown",
   "metadata": {
    "colab_type": "text",
    "collapsed": true,
    "id": "fTqzkKxHVu5A"
   },
   "source": [
    "### Create series from ndarray"
   ]
  },
  {
   "cell_type": "code",
   "execution_count": null,
   "metadata": {
    "colab": {},
    "colab_type": "code",
    "id": "3CieO0JoVu5B",
    "outputId": "da35d92b-9726-4447-8c3e-08ecf3f2b631"
   },
   "outputs": [],
   "source": [
    "data = np.array(['a','b','c','d']) \n",
    "s = pd.Series(data) #default indexing was used\n",
    "\n",
    "print(data)\n",
    "print('\\n')\n",
    "print(s)"
   ]
  },
  {
   "cell_type": "code",
   "execution_count": null,
   "metadata": {},
   "outputs": [],
   "source": [
    "print(s.index)\n",
    "print(s.index.tolist())"
   ]
  },
  {
   "cell_type": "code",
   "execution_count": null,
   "metadata": {
    "colab": {},
    "colab_type": "code",
    "id": "8jLdLNlTVu5E",
    "outputId": "721b0995-3d86-4cb9-841a-96fb66e0b611"
   },
   "outputs": [],
   "source": [
    "s = pd.Series(data,index=['100','101','102','103'])\n",
    "\n",
    "print(data)\n",
    "print('\\n')\n",
    "print(s)"
   ]
  },
  {
   "cell_type": "code",
   "execution_count": null,
   "metadata": {},
   "outputs": [],
   "source": [
    "s.index.tolist()"
   ]
  },
  {
   "cell_type": "markdown",
   "metadata": {
    "colab_type": "text",
    "collapsed": true,
    "id": "23Hsm0JhVu5H"
   },
   "source": [
    "### Create series from scalar"
   ]
  },
  {
   "cell_type": "code",
   "execution_count": null,
   "metadata": {
    "colab": {},
    "colab_type": "code",
    "id": "fI06MPQ3Vu5I",
    "outputId": "1f613fe1-5933-471e-d022-04294fea593a"
   },
   "outputs": [],
   "source": [
    "s = pd.Series(5, index=[0, 1, 2, 3, 4, 5, 23])\n",
    "print(s)"
   ]
  },
  {
   "cell_type": "markdown",
   "metadata": {
    "colab_type": "text",
    "collapsed": true,
    "id": "b7XM8POKVu5L"
   },
   "source": [
    "### Create series from dictionary"
   ]
  },
  {
   "cell_type": "code",
   "execution_count": null,
   "metadata": {
    "colab": {},
    "colab_type": "code",
    "id": "TuZe6TZrVu5L",
    "outputId": "8a28ff0f-eb2f-496f-a6e6-0bd223f4140b"
   },
   "outputs": [],
   "source": [
    "data = {'a' : 0., 'b' : 1., 'c' : 2.}\n",
    "s = pd.Series(data)\n",
    "\n",
    "print(data)\n",
    "print('\\n')\n",
    "print(s)"
   ]
  },
  {
   "cell_type": "code",
   "execution_count": null,
   "metadata": {},
   "outputs": [],
   "source": [
    "data = {'a' : 0., 'b' : 1., 'c' : 2.}\n",
    "s = pd.Series(data, index = ['a',1,2])\n",
    "\n",
    "print(data)\n",
    "print('\\n')\n",
    "print(s)"
   ]
  },
  {
   "cell_type": "code",
   "execution_count": null,
   "metadata": {},
   "outputs": [],
   "source": [
    "s.index"
   ]
  },
  {
   "cell_type": "markdown",
   "metadata": {
    "colab_type": "text",
    "collapsed": true,
    "id": "sNMRkUC7Vu5R"
   },
   "source": [
    "### Accessing elements with index"
   ]
  },
  {
   "cell_type": "code",
   "execution_count": null,
   "metadata": {
    "colab": {},
    "colab_type": "code",
    "id": "RugwZfWiVu5S",
    "outputId": "3c078c81-cbfd-4b9e-a860-75b6d012e73e"
   },
   "outputs": [],
   "source": [
    "s = pd.Series([1,2,3,4,5],index = ('a','f','b','q','c'))\n",
    "\n",
    "print(s)\n",
    "print('\\n')\n",
    "\n",
    "print('Third element')\n",
    "print(s[3])\n",
    "print('\\n')\n",
    "\n",
    "print('Elements 2-4')\n",
    "print(s[2:4])\n",
    "print('\\n')\n",
    "\n",
    "print('The last 3 elements')\n",
    "print(s[-3:])\n",
    "print('\\n')\n",
    "\n",
    "print('Letter indexing')\n",
    "print(s['a':'f'])"
   ]
  },
  {
   "cell_type": "markdown",
   "metadata": {
    "colab_type": "text",
    "collapsed": true,
    "id": "kki5FmWZVu5V"
   },
   "source": [
    "## Pandas.DataFrame\n",
    "Two-dimensional data structure, columns can be of different data types (and usually are :))\n",
    "\n",
    "pandas.DataFrame(data, index, columns, dtype)"
   ]
  },
  {
   "cell_type": "markdown",
   "metadata": {
    "colab_type": "text",
    "collapsed": true,
    "id": "MH1hzojDVu5V"
   },
   "source": [
    "### Create an empty dataframe"
   ]
  },
  {
   "cell_type": "code",
   "execution_count": null,
   "metadata": {
    "colab": {},
    "colab_type": "code",
    "id": "nRrYXJ5TVu5W",
    "outputId": "f80bc5aa-60ff-4d4d-ff6d-d70e4f925a39"
   },
   "outputs": [],
   "source": [
    "df = pd.DataFrame()\n",
    "print(df)"
   ]
  },
  {
   "cell_type": "markdown",
   "metadata": {
    "colab_type": "text",
    "collapsed": true,
    "id": "nNZMMu_rVu5Z"
   },
   "source": [
    "### Create dataframe from list"
   ]
  },
  {
   "cell_type": "code",
   "execution_count": null,
   "metadata": {
    "colab": {},
    "colab_type": "code",
    "id": "l8h2kJd1Vu5a",
    "outputId": "68c41913-80fb-4919-965a-1ee98cf8dda7"
   },
   "outputs": [],
   "source": [
    "data = [1,2,3,4,5]\n",
    "#df = pd.DataFrame(data)\n",
    "df = pd.DataFrame(data)\n",
    "print(df)"
   ]
  },
  {
   "cell_type": "code",
   "execution_count": null,
   "metadata": {},
   "outputs": [],
   "source": [
    "data = [1,2,3,4,5]\n",
    "#df = pd.DataFrame(data)\n",
    "df = pd.DataFrame(data, columns = ['first'])\n",
    "print(df)"
   ]
  },
  {
   "cell_type": "code",
   "execution_count": null,
   "metadata": {
    "colab": {},
    "colab_type": "code",
    "id": "RuLsIjskVu5c",
    "outputId": "45487581-c1f9-456f-a0a5-4a53b13dc88c"
   },
   "outputs": [],
   "source": [
    "data = [['Alex',10],['Bob',12],['Clarke',13]]\n",
    "df = pd.DataFrame(data,columns=['Name','Age'])\n",
    "print(df)\n",
    "df"
   ]
  },
  {
   "cell_type": "markdown",
   "metadata": {
    "colab_type": "text",
    "id": "uGowJ_30Vu5e"
   },
   "source": [
    "### Create dataframe from a dictionary"
   ]
  },
  {
   "cell_type": "code",
   "execution_count": null,
   "metadata": {
    "colab": {},
    "colab_type": "code",
    "id": "JGTLeFxiVu5f"
   },
   "outputs": [],
   "source": [
    "data = {'col_1': [3, 2, 1, 0], 'col_2': ['a', 'b', 'c', 'd']}\n",
    "pd.DataFrame.from_dict(data)"
   ]
  },
  {
   "cell_type": "code",
   "execution_count": null,
   "metadata": {},
   "outputs": [],
   "source": [
    "?pd.DataFrame.from_dict"
   ]
  },
  {
   "cell_type": "code",
   "execution_count": null,
   "metadata": {
    "colab": {},
    "colab_type": "code",
    "id": "xqiicOndVu5g"
   },
   "outputs": [],
   "source": [
    "data = {'row_1': [3, 2, 1, 0], 'row_2': ['a', 'b', 'c', 'd']}\n",
    "df1 = pd.DataFrame.from_dict(data, orient='index', \n",
    "                             columns=['c1', 'c2', 'c3', 'c4'])\n",
    "df1"
   ]
  },
  {
   "cell_type": "markdown",
   "metadata": {
    "colab_type": "text",
    "id": "zBO9FnBpVu5N"
   },
   "source": [
    "### Give column names"
   ]
  },
  {
   "cell_type": "code",
   "execution_count": null,
   "metadata": {},
   "outputs": [],
   "source": [
    "df1"
   ]
  },
  {
   "cell_type": "code",
   "execution_count": null,
   "metadata": {},
   "outputs": [],
   "source": [
    "df1.columns.tolist()"
   ]
  },
  {
   "cell_type": "code",
   "execution_count": null,
   "metadata": {
    "colab": {},
    "colab_type": "code",
    "id": "E11IsqrJVu5O",
    "outputId": "ada1863d-b0aa-4d64-adc1-8ab3c4a46251"
   },
   "outputs": [],
   "source": [
    "df1.columns = ['A', 'B', 'C', 'D']\n",
    "df1"
   ]
  },
  {
   "cell_type": "markdown",
   "metadata": {
    "colab_type": "text",
    "collapsed": true,
    "id": "O-p-jg6EVu5h"
   },
   "source": [
    "### Create dataframe from a list of dictionaries"
   ]
  },
  {
   "cell_type": "code",
   "execution_count": null,
   "metadata": {},
   "outputs": [],
   "source": [
    "?pd.DataFrame"
   ]
  },
  {
   "cell_type": "code",
   "execution_count": null,
   "metadata": {},
   "outputs": [],
   "source": [
    "data = [{'a': 1, 'b': 2},{'a': 5, 'b': 10, 'c': 20}]\n",
    "df1 = pd.DataFrame(data, index=['first', 'second']) \n",
    "\n",
    "print (df1)"
   ]
  },
  {
   "cell_type": "code",
   "execution_count": null,
   "metadata": {
    "colab": {},
    "colab_type": "code",
    "id": "XVF57oidVu5h",
    "outputId": "bc67eb7a-57db-4ffa-a9ca-34c3ca29d334",
    "scrolled": true
   },
   "outputs": [],
   "source": [
    "data = [{'a': 1, 'b': 2},{'a': 5, 'b': 10, 'c': 20}]\n",
    "df1 = pd.DataFrame(data, index=['first', 'second'], columns=['a', 'b']) \n",
    "\n",
    "print (df1)"
   ]
  },
  {
   "cell_type": "code",
   "execution_count": null,
   "metadata": {
    "colab": {},
    "colab_type": "code",
    "id": "M9-g-Ng2Vu5j",
    "outputId": "1313b318-d489-40ba-c425-4adc0898dd1c"
   },
   "outputs": [],
   "source": [
    "#try to add 'c' to the list of columns\n",
    "data = [{'a': 1, 'b': 2},{'a': 5, 'b': 10, 'c': 20}]\n",
    "df1 = pd.DataFrame(data, index=['first', 'second'], columns=['a', 'b', 'c', 'd']) \n",
    "\n",
    "print (df1)"
   ]
  },
  {
   "cell_type": "markdown",
   "metadata": {
    "colab_type": "text",
    "collapsed": true,
    "id": "nxhSdYQ3Vu5l"
   },
   "source": [
    "### Selecting columns"
   ]
  },
  {
   "cell_type": "code",
   "execution_count": null,
   "metadata": {
    "colab": {},
    "colab_type": "code",
    "id": "i6H-zNObVu5m",
    "outputId": "c5b445c1-51f1-4730-fdaf-beac03875f80"
   },
   "outputs": [],
   "source": [
    "data = [['Alex',10, 2009],['Bob',12, 2011],['Clarke',13, 2012]]\n",
    "df = pd.DataFrame(data,columns=['Name','Age', 'Year'])\n",
    "\n",
    "print(df)\n",
    "print('\\n')\n",
    "print(df['Age'])\n",
    "print(type(df['Age']))"
   ]
  },
  {
   "cell_type": "code",
   "execution_count": null,
   "metadata": {
    "scrolled": true
   },
   "outputs": [],
   "source": [
    "print(df)\n",
    "print(df[['Age']])\n",
    "print(df[['Age', 'Name']])"
   ]
  },
  {
   "cell_type": "markdown",
   "metadata": {},
   "source": [
    "### Selecting rows and columns"
   ]
  },
  {
   "cell_type": "code",
   "execution_count": null,
   "metadata": {},
   "outputs": [],
   "source": [
    "df"
   ]
  },
  {
   "cell_type": "code",
   "execution_count": null,
   "metadata": {
    "scrolled": true
   },
   "outputs": [],
   "source": [
    "df['Name'][1]"
   ]
  },
  {
   "cell_type": "markdown",
   "metadata": {},
   "source": [
    "### .loc, .iloc(use integer indexing) and .ix(the mix of 2, deprecated)"
   ]
  },
  {
   "cell_type": "code",
   "execution_count": null,
   "metadata": {},
   "outputs": [],
   "source": [
    "df = pd.DataFrame(np.random.randn(8, 4),\n",
    "index = ['a','b','c','d','e','f','g','h'], columns = ['A', 'B', 'C', 'D'])\n",
    "\n",
    "#select all rows for specific columns\n",
    "print(df)\n",
    "print('\\n')\n",
    "print(df.loc[:,['A','B']])\n",
    "print('\\n')"
   ]
  },
  {
   "cell_type": "code",
   "execution_count": null,
   "metadata": {},
   "outputs": [],
   "source": [
    "df = pd.DataFrame(np.random.randn(8, 4),\n",
    "index = ['a','b','c','d','e','f','g','h'], columns = ['A', 'B', 'C', 'D'])\n",
    "\n",
    "\n",
    "#select some rows for specific columns\n",
    "print(df)\n",
    "print('\\n')\n",
    "print(df.loc[['a','b'],['A','B']])\n",
    "print('\\n')\n",
    "\n"
   ]
  },
  {
   "cell_type": "code",
   "execution_count": null,
   "metadata": {},
   "outputs": [],
   "source": [
    "df = pd.DataFrame(np.random.randn(8, 4),\n",
    "index = ['a','b','c','d','e','f','g','h'], columns = ['A', 'B', 'C', 'D'])\n",
    "\n",
    "\n",
    "print(df)\n",
    "print('\\n')\n",
    "print(df.loc['a']>0)\n",
    "print('\\n')"
   ]
  },
  {
   "cell_type": "code",
   "execution_count": null,
   "metadata": {},
   "outputs": [],
   "source": [
    "df.loc['a','B'] = 10000\n",
    "df"
   ]
  },
  {
   "cell_type": "code",
   "execution_count": null,
   "metadata": {},
   "outputs": [],
   "source": [
    "df.loc['a','B'] = 10000\n",
    "df"
   ]
  },
  {
   "cell_type": "code",
   "execution_count": null,
   "metadata": {},
   "outputs": [],
   "source": [
    "df['A'] = 10000\n",
    "df"
   ]
  },
  {
   "cell_type": "code",
   "execution_count": null,
   "metadata": {},
   "outputs": [],
   "source": [
    "df = pd.DataFrame(np.random.randn(8, 4),\n",
    "index = ['a','b','c','d','e','f','g','h'], columns = ['A', 'B', 'C', 'D'])\n",
    "\n",
    "print(df)\n",
    "print('\\n')\n",
    "print(df.iloc[[0,1],[0,1]])\n",
    "print('\\n')"
   ]
  },
  {
   "cell_type": "code",
   "execution_count": null,
   "metadata": {},
   "outputs": [],
   "source": [
    "df = pd.DataFrame(np.random.randn(8, 4),\n",
    "index = ['a','b','c','d','e','f','g','h'], columns = ['A', 'B', 'C', 'D'])\n",
    "\n",
    "\n",
    "print(df)\n",
    "print('\\n')\n",
    "print(df.iloc[0:3,[0,1]])\n",
    "print('\\n')"
   ]
  },
  {
   "cell_type": "code",
   "execution_count": null,
   "metadata": {},
   "outputs": [],
   "source": [
    "df = pd.DataFrame(np.random.randn(8, 4),\n",
    "index = ['a','b','c','d','e','f','g','h'], columns = ['A', 'B', 'C', 'D'])\n",
    "\n",
    "\n",
    "print(df)\n",
    "print('\\n')\n",
    "print(df.ix[:,'A'])"
   ]
  },
  {
   "cell_type": "markdown",
   "metadata": {},
   "source": [
    "### Filtering by a column condition"
   ]
  },
  {
   "cell_type": "code",
   "execution_count": null,
   "metadata": {},
   "outputs": [],
   "source": [
    "data = [['Alex',10, 2009],['Bob',12, 2011],['Clarke',13, 2012]]\n",
    "df = pd.DataFrame(data,columns=['Name','Age', 'Year'])\n",
    "df"
   ]
  },
  {
   "cell_type": "code",
   "execution_count": null,
   "metadata": {},
   "outputs": [],
   "source": [
    "print(df)\n",
    "df[df['Age']==10]"
   ]
  },
  {
   "cell_type": "code",
   "execution_count": null,
   "metadata": {},
   "outputs": [],
   "source": [
    "print(df)\n",
    "df[(df['Age']>10) & (df['Year']>2000)]"
   ]
  },
  {
   "cell_type": "markdown",
   "metadata": {
    "colab_type": "text",
    "collapsed": true,
    "id": "zYM-EQchVu5p"
   },
   "source": [
    "### Adding a column"
   ]
  },
  {
   "cell_type": "code",
   "execution_count": null,
   "metadata": {},
   "outputs": [],
   "source": [
    "data = [['Alex',10, 2009],['Bob',12, 2011],['Clarke',13, 2012]]\n",
    "df = pd.DataFrame(data,columns=['Name','Age', 'Year'])\n",
    "\n",
    "\n",
    "df"
   ]
  },
  {
   "cell_type": "code",
   "execution_count": null,
   "metadata": {
    "colab": {},
    "colab_type": "code",
    "id": "m-HAXeKuVu5q",
    "outputId": "4d7e41b3-15f1-4e95-ef6b-4b1c70346001"
   },
   "outputs": [],
   "source": [
    "df['Gender']=pd.Series(['male','male','male'])\n",
    "df['Gender'] = 'male'\n",
    "print(df)"
   ]
  },
  {
   "cell_type": "code",
   "execution_count": null,
   "metadata": {},
   "outputs": [],
   "source": [
    "df['Gender'] = 1\n",
    "df"
   ]
  },
  {
   "cell_type": "code",
   "execution_count": null,
   "metadata": {},
   "outputs": [],
   "source": [
    "len(df)"
   ]
  },
  {
   "cell_type": "markdown",
   "metadata": {
    "colab_type": "text",
    "collapsed": true,
    "id": "EKw6uQwmVu5s"
   },
   "source": [
    "### Column deletion"
   ]
  },
  {
   "cell_type": "code",
   "execution_count": null,
   "metadata": {
    "colab": {},
    "colab_type": "code",
    "id": "FQtCBA7VVu5s",
    "outputId": "0d893b76-1b89-4428-aade-f8c65093aa76"
   },
   "outputs": [],
   "source": [
    "data = [['Alex',10, 2009],['Bob',12, 2011],['Clarke',13, 2012]]\n",
    "df = pd.DataFrame(data,columns=['Name','Age', 'Year'])\n",
    "\n",
    "\n",
    "print(df)\n",
    "print('\\n')\n",
    "\n",
    "del df['Year']\n",
    "print(df)"
   ]
  },
  {
   "cell_type": "markdown",
   "metadata": {
    "colab_type": "text",
    "collapsed": true,
    "id": "5fviexUiVu5x"
   },
   "source": [
    "### Slice rows"
   ]
  },
  {
   "cell_type": "code",
   "execution_count": null,
   "metadata": {
    "colab": {},
    "colab_type": "code",
    "id": "jhrYixNsVu5y",
    "outputId": "148e15fc-9e6e-4a68-d380-fcbda066aeb9"
   },
   "outputs": [],
   "source": [
    "data = [['Alex',10],['Bob',12],['Clarke',13],['Jane',16],['Anna',10]]\n",
    "df = pd.DataFrame(data,columns=['Name','Age'],index=[2,5,1,0,3])\n",
    "\n",
    "print(df)\n",
    "print('\\n')\n",
    "print(df[2:4])"
   ]
  },
  {
   "cell_type": "markdown",
   "metadata": {},
   "source": [
    "## Some series and dataframe functions"
   ]
  },
  {
   "cell_type": "code",
   "execution_count": null,
   "metadata": {},
   "outputs": [],
   "source": [
    "np.random.randn(4)"
   ]
  },
  {
   "cell_type": "code",
   "execution_count": null,
   "metadata": {
    "colab": {},
    "colab_type": "code",
    "id": "iggA9v4vVu53",
    "outputId": "364669f7-2e1a-4006-d522-32d1678ba962"
   },
   "outputs": [],
   "source": [
    "s = pd.Series(np.random.randn(4))\n",
    "print(s)\n",
    "print('\\n')\n",
    "print (\"The axes are:\")\n",
    "print(s.axes)\n",
    "print(list(s.axes[0]))\n",
    "print(s.index)"
   ]
  },
  {
   "cell_type": "code",
   "execution_count": null,
   "metadata": {
    "colab": {},
    "colab_type": "code",
    "id": "D4ItsEg4Vu54",
    "outputId": "0d0e12bb-0e67-433b-aec3-af88f79ed0d2"
   },
   "outputs": [],
   "source": [
    "s = pd.Series(np.random.randn(4))\n",
    "print(s)\n",
    "print('\\n')\n",
    "print (\"The data type is:\")\n",
    "print(s.dtype)"
   ]
  },
  {
   "cell_type": "code",
   "execution_count": null,
   "metadata": {
    "colab": {},
    "colab_type": "code",
    "id": "80NEOSteVu56",
    "outputId": "44cb9575-b2e8-4630-dac3-b26284560388"
   },
   "outputs": [],
   "source": [
    "data = [['Alex',10],['Bob',12],['Clarke',13],['Jane',16],['Anna',10]]\n",
    "df = pd.DataFrame(data,columns=['Name','Age'])\n",
    "df"
   ]
  },
  {
   "cell_type": "code",
   "execution_count": null,
   "metadata": {
    "colab": {},
    "colab_type": "code",
    "id": "sxpoZdwLVu57",
    "outputId": "bfd41f64-38fd-41b4-b98c-ad7fc85efb6f"
   },
   "outputs": [],
   "source": [
    "print(df.dtypes)"
   ]
  },
  {
   "cell_type": "code",
   "execution_count": null,
   "metadata": {
    "colab": {},
    "colab_type": "code",
    "id": "wlk0OxA4Vu58",
    "outputId": "0025ec32-d598-473f-bf05-11636d810a85"
   },
   "outputs": [],
   "source": [
    "print(s)\n",
    "print('\\n')\n",
    "print (\"Is the Object empty?\")\n",
    "print(s.empty)"
   ]
  },
  {
   "cell_type": "code",
   "execution_count": null,
   "metadata": {
    "colab": {},
    "colab_type": "code",
    "id": "er3DgaFpVu5_",
    "outputId": "d343d8be-3226-4d74-bd03-27161ff11bad"
   },
   "outputs": [],
   "source": [
    "print(s)\n",
    "print('\\n')\n",
    "print (\"The dimensions of the object:\")\n",
    "print(s.ndim)"
   ]
  },
  {
   "cell_type": "code",
   "execution_count": null,
   "metadata": {
    "colab": {},
    "colab_type": "code",
    "id": "qgwMkKuXVu6A",
    "outputId": "f0b8dbd3-11b2-4aa7-c99e-711e96ea8727"
   },
   "outputs": [],
   "source": [
    "data = [['Alex',10],['Bob',12],['Clarke',13],['Jane',16],['Anna',10]]\n",
    "df = pd.DataFrame(data,columns=['Name','Age'])\n",
    "df"
   ]
  },
  {
   "cell_type": "code",
   "execution_count": null,
   "metadata": {
    "colab": {},
    "colab_type": "code",
    "id": "1gzKSbIxVu6C",
    "outputId": "62757a7d-e409-4c23-eef0-c293b3eb0c4e"
   },
   "outputs": [],
   "source": [
    "print(df.ndim)"
   ]
  },
  {
   "cell_type": "code",
   "execution_count": null,
   "metadata": {
    "colab": {},
    "colab_type": "code",
    "id": "AOWzp0gdVu6F",
    "outputId": "887dc53b-8e6c-4e08-abc1-9007d0491d99"
   },
   "outputs": [],
   "source": [
    "data = [['Alex',10],['Bob',12],['Clarke',13]]\n",
    "df = pd.DataFrame(data,columns=['Name','Age'])\n",
    "print (\"Our object is:\")\n",
    "print(df)\n",
    "print('\\n')\n",
    "\n",
    "print (\"The shape of the object is:\")\n",
    "print(df.shape)"
   ]
  },
  {
   "cell_type": "code",
   "execution_count": null,
   "metadata": {
    "colab": {},
    "colab_type": "code",
    "id": "0u2Ja8TtVu6H",
    "outputId": "ef992663-4363-4138-ccf3-937bf8a5b978"
   },
   "outputs": [],
   "source": [
    "print (\"Our object is:\")\n",
    "print(df)\n",
    "\n",
    "print('\\n')\n",
    "print('The first 2 rows of the dataframe:')\n",
    "print(df.head(2))\n",
    "\n",
    "print('\\n')\n",
    "print('The last 2 rows of the dataframe:')\n",
    "print(df.tail(2))"
   ]
  },
  {
   "cell_type": "code",
   "execution_count": null,
   "metadata": {},
   "outputs": [],
   "source": [
    "?df.head"
   ]
  },
  {
   "cell_type": "markdown",
   "metadata": {},
   "source": [
    "### Count the number of values in a column"
   ]
  },
  {
   "cell_type": "code",
   "execution_count": null,
   "metadata": {},
   "outputs": [],
   "source": [
    "data = [['Alex',10],['Bob',12],['Clarke',13],['Clarke',18]]\n",
    "df = pd.DataFrame(data,columns=['Name','Age'])\n",
    "df"
   ]
  },
  {
   "cell_type": "code",
   "execution_count": null,
   "metadata": {
    "scrolled": true
   },
   "outputs": [],
   "source": [
    "x = df['Name'].value_counts()\n",
    "print(type(x))\n",
    "print(x)"
   ]
  },
  {
   "cell_type": "code",
   "execution_count": null,
   "metadata": {},
   "outputs": [],
   "source": [
    "df.reindex()"
   ]
  },
  {
   "cell_type": "markdown",
   "metadata": {},
   "source": [
    "# Missing values"
   ]
  },
  {
   "cell_type": "code",
   "execution_count": null,
   "metadata": {},
   "outputs": [],
   "source": [
    "df = pd.DataFrame(np.random.randn(5, 3), index=['a', 'c', 'e', 'f','h'],columns=['one', 'two', 'three'])\n",
    "\n",
    "df = df.reindex(['a', 'b', 'c', 'd', 'e', 'f', 'g', 'h'])\n",
    "\n",
    "print (df)"
   ]
  },
  {
   "cell_type": "code",
   "execution_count": null,
   "metadata": {},
   "outputs": [],
   "source": [
    "df['one'].isnull()"
   ]
  },
  {
   "cell_type": "code",
   "execution_count": null,
   "metadata": {},
   "outputs": [],
   "source": [
    "df['one'].notnull()"
   ]
  },
  {
   "cell_type": "markdown",
   "metadata": {},
   "source": [
    "# Replacing the missing data"
   ]
  },
  {
   "cell_type": "code",
   "execution_count": null,
   "metadata": {},
   "outputs": [],
   "source": [
    "df"
   ]
  },
  {
   "cell_type": "code",
   "execution_count": null,
   "metadata": {},
   "outputs": [],
   "source": [
    "df1 = df.fillna(method = 'bfill')\n",
    "df1 "
   ]
  },
  {
   "cell_type": "markdown",
   "metadata": {},
   "source": [
    "### See some other options that fillna() provides in the python documentation :)"
   ]
  },
  {
   "cell_type": "code",
   "execution_count": null,
   "metadata": {},
   "outputs": [],
   "source": [
    "?df.fillna"
   ]
  },
  {
   "cell_type": "markdown",
   "metadata": {},
   "source": [
    "### Dropping the missing data"
   ]
  },
  {
   "cell_type": "code",
   "execution_count": null,
   "metadata": {},
   "outputs": [],
   "source": [
    "df2 = df.dropna()\n",
    "df2"
   ]
  },
  {
   "cell_type": "markdown",
   "metadata": {},
   "source": [
    "### Replacing regular values"
   ]
  },
  {
   "cell_type": "code",
   "execution_count": null,
   "metadata": {},
   "outputs": [],
   "source": [
    "df = pd.DataFrame({'one':[10,20,30,40,50,2000],'two':[1000,0,30,40,50,60]})\n",
    "\n",
    "print(df)\n",
    "print('\\n')\n",
    "df1 = df.replace({1000:10,2000:60})\n",
    "df1"
   ]
  },
  {
   "cell_type": "markdown",
   "metadata": {},
   "source": [
    "# Geting unique values in a column"
   ]
  },
  {
   "cell_type": "code",
   "execution_count": null,
   "metadata": {},
   "outputs": [],
   "source": [
    "import pandas as pd\n",
    "data = [['Alex',10],['Bob',12],['Clarke',10],['Clarke',18]]\n",
    "df = pd.DataFrame(data,columns=['Name','Age'])\n",
    "df"
   ]
  },
  {
   "cell_type": "code",
   "execution_count": null,
   "metadata": {},
   "outputs": [],
   "source": [
    "df['Name']"
   ]
  },
  {
   "cell_type": "code",
   "execution_count": null,
   "metadata": {},
   "outputs": [],
   "source": [
    "#unique values\n",
    "df['Name'].unique()"
   ]
  },
  {
   "cell_type": "code",
   "execution_count": null,
   "metadata": {},
   "outputs": [],
   "source": [
    "#number of unique values\n",
    "df['Name'].nunique()"
   ]
  },
  {
   "cell_type": "markdown",
   "metadata": {},
   "source": [
    "# Loading data from a file into a dataframe"
   ]
  },
  {
   "cell_type": "code",
   "execution_count": null,
   "metadata": {},
   "outputs": [],
   "source": [
    "s = pd.read_csv('Practical/data/gender.txt')\n",
    "s"
   ]
  },
  {
   "cell_type": "code",
   "execution_count": null,
   "metadata": {},
   "outputs": [],
   "source": [
    "?pd.read_csv"
   ]
  },
  {
   "cell_type": "code",
   "execution_count": null,
   "metadata": {},
   "outputs": [],
   "source": [
    "s = pd.read_csv('Practical/data/gender.txt', sep='|', index_col = 'user_id')\n",
    "s"
   ]
  }
 ],
 "metadata": {
  "colab": {
   "name": "Tutorial_Pandas.ipynb",
   "provenance": [],
   "version": "0.3.2"
  },
  "kernelspec": {
   "display_name": "Python 3",
   "language": "python",
   "name": "python3"
  },
  "language_info": {
   "codemirror_mode": {
    "name": "ipython",
    "version": 3
   },
   "file_extension": ".py",
   "mimetype": "text/x-python",
   "name": "python",
   "nbconvert_exporter": "python",
   "pygments_lexer": "ipython3",
   "version": "3.7.4"
  }
 },
 "nbformat": 4,
 "nbformat_minor": 1
}
