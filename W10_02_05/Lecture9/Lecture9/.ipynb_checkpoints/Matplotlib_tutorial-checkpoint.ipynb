{
 "cells": [
  {
   "cell_type": "markdown",
   "metadata": {},
   "source": [
    "# Matplotlib Tutorial"
   ]
  },
  {
   "cell_type": "markdown",
   "metadata": {},
   "source": [
    "## ``` pip install matplotlib ```"
   ]
  },
  {
   "cell_type": "code",
   "execution_count": null,
   "metadata": {},
   "outputs": [],
   "source": [
    "!pip install matplotlib"
   ]
  },
  {
   "cell_type": "markdown",
   "metadata": {},
   "source": [
    "## Line graph"
   ]
  },
  {
   "cell_type": "code",
   "execution_count": null,
   "metadata": {},
   "outputs": [],
   "source": [
    "import matplotlib.pyplot as plt"
   ]
  },
  {
   "cell_type": "code",
   "execution_count": null,
   "metadata": {},
   "outputs": [],
   "source": [
    "plt.plot([1, 2, 3], [5, 7, 4]) # add linewidth = 12\n",
    "\n",
    "#show the graph\n",
    "\n",
    "plt.show()"
   ]
  },
  {
   "cell_type": "code",
   "execution_count": null,
   "metadata": {},
   "outputs": [],
   "source": [
    "#saving the plot\n",
    "plt.savefig('pic1.png')"
   ]
  },
  {
   "cell_type": "markdown",
   "metadata": {},
   "source": [
    "## Adding titles and labels "
   ]
  },
  {
   "cell_type": "code",
   "execution_count": null,
   "metadata": {},
   "outputs": [],
   "source": [
    "x = [1, 2, 3]\n",
    "y = [5, 7, 4]\n",
    "\n",
    "plt.plot(x, y, linestyle = 'dashed', color = 'red') #add a parameter linestyle='dotted'\n",
    "\n",
    "plt.xlabel('Numbers')\n",
    "plt.ylabel('Values')\n",
    "#plt.title('Our first graph')\n",
    "plt.title('Our first graph\\nSubtitle1')\n",
    "\n",
    "plt.show()"
   ]
  },
  {
   "cell_type": "code",
   "execution_count": null,
   "metadata": {},
   "outputs": [],
   "source": [
    "?plt.plot"
   ]
  },
  {
   "cell_type": "markdown",
   "metadata": {},
   "source": [
    "## Legends"
   ]
  },
  {
   "cell_type": "code",
   "execution_count": null,
   "metadata": {},
   "outputs": [],
   "source": [
    "x = [1, 2, 3]\n",
    "y = [5, 7, 4]\n",
    "\n",
    "x2 = [1, 2, 3]\n",
    "y2 = [14, 14, 12]\n",
    "\n",
    "plt.plot(x, y, label = \"First Line\")\n",
    "plt.plot(x2, y2, label = \"Second Line\")\n",
    "\n",
    "plt.xlabel('Numbers')\n",
    "plt.ylabel('Values')\n",
    "\n",
    "plt.legend()\n",
    "plt.title('Our first graph')\n",
    "#plt.title('Our first graph\\nSubtitle1')\n",
    "\n",
    "plt.show()"
   ]
  },
  {
   "cell_type": "markdown",
   "metadata": {},
   "source": [
    "## Bar charts and histograms"
   ]
  },
  {
   "cell_type": "code",
   "execution_count": null,
   "metadata": {},
   "outputs": [],
   "source": [
    "# bar chart - comparing things\n",
    "# histogram - shows the distribution"
   ]
  },
  {
   "cell_type": "code",
   "execution_count": null,
   "metadata": {},
   "outputs": [],
   "source": [
    "x = [1, 2, 3, 4, 8, 10]\n",
    "y = [5, 7, 4, 6, 4, 4]\n",
    "\n",
    "\n",
    "plt.bar(x, y)\n",
    "\n",
    "plt.xlabel('Numbers')\n",
    "plt.ylabel('Values')\n",
    "\n",
    "\n",
    "plt.title('Bar Graph')\n",
    "#plt.title('Our first graph\\nSubtitle1')\n",
    "\n",
    "plt.show()\n"
   ]
  },
  {
   "cell_type": "code",
   "execution_count": null,
   "metadata": {},
   "outputs": [],
   "source": [
    "x = ['A', 'B', 'C', 'D', 'E', 'F']\n",
    "y = [5, 7, 4, 6, 4, 4]\n",
    "\n",
    "\n",
    "plt.bar(x, y)\n",
    "\n",
    "plt.xlabel('Numbers')\n",
    "plt.ylabel('Values')\n",
    "\n",
    "plt.title('Bar Graph')\n",
    "#plt.title('Our first graph\\nSubtitle1')\n",
    "\n",
    "plt.show()"
   ]
  },
  {
   "cell_type": "code",
   "execution_count": null,
   "metadata": {},
   "outputs": [],
   "source": [
    "x = [1, 3, 5, 7, 9, 11]\n",
    "y = [5, 7, 4, 6, 4, 4]\n",
    "\n",
    "x2 = [2, 4, 6, 8, 10, 12]\n",
    "y2 = [5, 2, 1, 1, 7, 8]\n",
    "\n",
    "plt.bar(x, y, label = \"bars1\", color = \"r\")\n",
    "plt.bar(x2, y2, label = \"bars2\", color = \"c\")\n",
    "\n",
    "plt.xlabel('Numbers')\n",
    "plt.ylabel('Values')\n",
    "\n",
    "plt.legend()\n",
    "plt.title('Bar Graph')\n",
    "#plt.title('Our first graph\\nSubtitle1')\n",
    "\n",
    "plt.show()"
   ]
  },
  {
   "cell_type": "code",
   "execution_count": null,
   "metadata": {},
   "outputs": [],
   "source": [
    "x = [1, 3, 5, 7, 9, 11]\n",
    "y = [5, 7, 4, 6, 4, 4]\n",
    "\n",
    "x2 = [2, 4, 6, 8, 10, 12]\n",
    "y2 = [5, 2, 1, 1, 7, 8]\n",
    "\n",
    "plt.barh(x, y, label = \"bars1\", color = \"r\")\n",
    "plt.barh(x2, y2, label = \"bars2\", color = \"c\")\n",
    "\n",
    "plt.xlabel('Numbers')\n",
    "plt.ylabel('Values')\n",
    "\n",
    "plt.legend()\n",
    "plt.title('Bar Graph')\n",
    "#plt.title('Our first graph\\nSubtitle1')\n",
    "\n",
    "plt.show()"
   ]
  },
  {
   "cell_type": "code",
   "execution_count": null,
   "metadata": {},
   "outputs": [],
   "source": [
    "ages = [70, 75, 40, 45, 60, 35, 60, 80, 96, 10, 30, 34, 45, 67, 82, 32, 43, 56, 13, 24, 45, 23, 67, 89, 100, 23, 34]\n",
    "ids = [x for x in range(len(ages))]\n",
    "print(ids)"
   ]
  },
  {
   "cell_type": "code",
   "execution_count": null,
   "metadata": {},
   "outputs": [],
   "source": [
    "ages = [70, 75, 40, 45, 60, 35, 60, 80, 96, 10, 30, 34, 45, 67, 82, 32, 43, 56, 13, 24, 45, 23, 67, 89, 100, 23, 34]\n",
    "ids = [x for x in range(len(ages))]\n",
    "\n",
    "plt.bar(ids, ages, color = \"r\")\n",
    "\n",
    "plt.xlabel('Numbers')\n",
    "plt.ylabel('Values')\n",
    "\n",
    "\n",
    "plt.title('Bar Graph')\n",
    "#plt.title('Our first graph\\nSubtitle1')\n",
    "\n",
    "plt.show()\n",
    "\n",
    "#Doesn't show how many old people, how many young people etc. do we have\n",
    "#We can see who's the youngest or who's the oldest ..."
   ]
  },
  {
   "cell_type": "code",
   "execution_count": null,
   "metadata": {},
   "outputs": [],
   "source": [
    "import numpy as np\n",
    "np.array([1, 3, 4]) + 10"
   ]
  },
  {
   "cell_type": "code",
   "execution_count": null,
   "metadata": {},
   "outputs": [],
   "source": [
    "import numpy as np\n",
    "\n",
    "\n",
    "# data to plot\n",
    "n_groups = 5\n",
    "men_means = [22, 30, 33, 30, 26]\n",
    "women_means = [25, 32, 30, 35, 29]\n",
    "\n",
    "\n",
    "index = np.arange(n_groups) #[0, 1, 2, 3, 4]\n",
    "bar_width = 0.35\n",
    "\n",
    "plt.bar(index, men_means, bar_width, color='g', label='Men')\n",
    "\n",
    "plt.bar(index + bar_width, women_means, bar_width, color='r', label='Women')\n",
    "\n",
    "plt.xlabel('Person')\n",
    "plt.ylabel('Scores')\n",
    "plt.title('Scores by person')\n",
    "plt.legend()\n",
    "\n",
    "\n",
    "plt.show()"
   ]
  },
  {
   "cell_type": "code",
   "execution_count": null,
   "metadata": {},
   "outputs": [],
   "source": [
    "#histogram shows the distribution\n",
    "#we have bins = boxes\n",
    "\n",
    "ages = [70, 75, 40, 1, 2, 45, 60, 35, 60, 4, 80, 96, 10, 30, 34, 45, 67, 82, 32, 43, 56, 13, 24, 45, 23, 67, 89, 100, 23, 34]\n",
    "\n",
    "#we will have this many bars\n",
    "bins = [0, 10, 20, 30, 40, 50, 60, 70, 80, 90, 100]\n",
    "\n",
    "plt.hist(ages, bins, histtype = \"bar\", rwidth = 0.8, color = \"c\")\n",
    "#plt.hist(ages,histtype = \"bar\", rwidth = 0.8, color = \"c\")\n",
    "\n",
    "plt.xlabel('Numbers')\n",
    "plt.ylabel('Values')\n",
    "\n",
    "\n",
    "plt.title('Histogram')\n",
    "#plt.title('Our first graph\\nSubtitle1')\n",
    "\n",
    "plt.show()"
   ]
  },
  {
   "cell_type": "code",
   "execution_count": null,
   "metadata": {},
   "outputs": [],
   "source": [
    "?plt.hist"
   ]
  },
  {
   "cell_type": "markdown",
   "metadata": {},
   "source": [
    "### Ploting data from a dataframe"
   ]
  },
  {
   "cell_type": "code",
   "execution_count": null,
   "metadata": {},
   "outputs": [],
   "source": [
    "from pandas import DataFrame\n",
    "import numpy as np\n",
    "\n",
    "a=np.array([[4,8,5,7,6],[2,3,4,2,6],[4,7,4,7,8],[2,6,4,8,6],[2,4,3,3,2]])\n",
    "df=DataFrame(a, columns=['a','b','c','d','e'], index=[2,4,6,8,10])\n",
    "print(df)\n",
    "df.plot(kind='bar')"
   ]
  },
  {
   "cell_type": "code",
   "execution_count": null,
   "metadata": {},
   "outputs": [],
   "source": [
    "from pandas import DataFrame\n",
    "import matplotlib.pyplot as plt\n",
    "import numpy as np\n",
    "\n",
    "a=np.array([[4,8,5,7,6],[2,3,4,2,6],[4,7,4,7,8],[2,6,4,8,6],[2,4,3,3,2]])\n",
    "df=DataFrame(a, columns=['a','b','c','d','e'], index=[2,4,6,8,10])\n",
    "print(df)\n",
    "df.T.plot(kind='bar')"
   ]
  },
  {
   "cell_type": "markdown",
   "metadata": {},
   "source": [
    "### Something cute lol"
   ]
  },
  {
   "cell_type": "code",
   "execution_count": null,
   "metadata": {},
   "outputs": [],
   "source": [
    "import matplotlib.pyplot as plt\n",
    "fig = plt.figure()\n",
    "patterns = [ \"|\" , \"\\\\\" , \"/\" , \"+\" , \"-\", \".\", \"*\",\"x\", \"o\", \"O\" ]\n",
    "\n",
    "\n",
    "for i in range(len(patterns)):\n",
    "    plt.bar(i, 3, color='c', edgecolor='black', hatch=patterns[i])\n",
    "\n",
    "plt.show()"
   ]
  },
  {
   "cell_type": "markdown",
   "metadata": {},
   "source": [
    "## Scatter plot"
   ]
  },
  {
   "cell_type": "code",
   "execution_count": null,
   "metadata": {},
   "outputs": [],
   "source": [
    "#correlation or relationship between variables\n",
    "\n",
    "#histogram shows the distribution\n",
    "#we have bins = boxes\n",
    "\n",
    "x = [1, 3, 6, 2, 6, 8, 0]\n",
    "y = [5, 7, 2, 8, 9, 4, 6]\n",
    "\n",
    "plt.scatter(x, y, color = \"k\", marker = \"*\", s = 100) # add parameters  color = \"k\", marker = \"*\", s = 100\n",
    "plt.scatter(1,2,color = 'r',marker = 10, s=200)\n",
    "#google \"matplotlib marker options\" for more marker options\n",
    "\n",
    "plt.xlabel('x')\n",
    "plt.ylabel('y')\n",
    "\n",
    "\n",
    "plt.title('Scatter plot')\n",
    "#plt.title('Our first graph\\nSubtitle1')\n",
    "\n",
    "plt.show()"
   ]
  },
  {
   "cell_type": "code",
   "execution_count": null,
   "metadata": {},
   "outputs": [],
   "source": [
    "x = df['a']\n",
    "y = df['b']\n",
    "plt.scatter(x, y)\n",
    "plt.show()"
   ]
  },
  {
   "cell_type": "code",
   "execution_count": null,
   "metadata": {},
   "outputs": [],
   "source": [
    "x = [1, 2, 3]\n",
    "y = [5, 7, 4]\n",
    "plt.plot(x, y)\n",
    "x = [1, 3]\n",
    "y = [5, 7]\n",
    "plt.scatter(x,y, color = 'r')\n",
    "#show the graph\n",
    "plt.show()"
   ]
  },
  {
   "cell_type": "markdown",
   "metadata": {},
   "source": [
    "## Pie chart"
   ]
  },
  {
   "cell_type": "code",
   "execution_count": null,
   "metadata": {},
   "outputs": [],
   "source": [
    "slices = [7, 2, 2, 13]\n",
    "activities = ['sleeping', 'eating', 'working', 'playing']\n",
    "cols = ['m', 'c', 'r', 'y']\n",
    "\n",
    "plt.pie(slices, labels = activities, colors = cols, startangle = 90, shadow = True, explode = (0, 0.1, 0, 0), autopct = \"%1.2f%%\") \n",
    "#add startangle = 90, shadow = True, explode = (0, 0.1, 0, 0), autopct = \"%1.1f%%\"\n",
    "\n",
    "\n",
    "plt.title('Pie chart')\n",
    "\n",
    "\n",
    "plt.show()\n",
    "\n",
    "\n"
   ]
  },
  {
   "cell_type": "markdown",
   "metadata": {},
   "source": [
    "## Loading data from file"
   ]
  },
  {
   "cell_type": "code",
   "execution_count": null,
   "metadata": {},
   "outputs": [],
   "source": [
    "import numpy as np\n",
    "#x = np.loadtxt('example.txt', delimiter = ',') \n",
    "#print(x)\n",
    "\n",
    "x, y = np.loadtxt('example.txt', delimiter = ',', unpack = True) \n",
    "#unpack 2 variables on each row to x and y\n",
    "\n",
    "plt.plot(x, y, label = 'loaded from file')\n",
    "plt.show()"
   ]
  },
  {
   "cell_type": "markdown",
   "metadata": {},
   "source": [
    "### You can also use Pandas read_csv function"
   ]
  },
  {
   "cell_type": "code",
   "execution_count": null,
   "metadata": {},
   "outputs": [],
   "source": [
    "import pandas as pd\n",
    "d = pd.read_csv('example.txt')\n",
    "d"
   ]
  }
 ],
 "metadata": {
  "kernelspec": {
   "display_name": "Python 3",
   "language": "python",
   "name": "python3"
  },
  "language_info": {
   "codemirror_mode": {
    "name": "ipython",
    "version": 3
   },
   "file_extension": ".py",
   "mimetype": "text/x-python",
   "name": "python",
   "nbconvert_exporter": "python",
   "pygments_lexer": "ipython3",
   "version": "3.7.4"
  }
 },
 "nbformat": 4,
 "nbformat_minor": 2
}
