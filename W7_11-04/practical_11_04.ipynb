{
 "cells": [
  {
   "cell_type": "code",
   "execution_count": 10,
   "metadata": {},
   "outputs": [
    {
     "name": "stdout",
     "output_type": "stream",
     "text": [
      "4\n",
      "8\n",
      "2\n"
     ]
    },
    {
     "data": {
      "text/plain": [
       "4.666666666666667"
      ]
     },
     "execution_count": 10,
     "metadata": {},
     "output_type": "execute_result"
    }
   ],
   "source": [
    "# P1\n",
    "\n",
    "def firstfunc(a,b,c):\n",
    "    n = (x+y+z)/3\n",
    "    return n\n",
    "\n",
    "x = int(input())\n",
    "y = int(input())\n",
    "z = int(input())\n",
    "firstfunc(x,y,z)"
   ]
  },
  {
   "cell_type": "code",
   "execution_count": 14,
   "metadata": {},
   "outputs": [
    {
     "data": {
      "text/plain": [
       "6"
      ]
     },
     "execution_count": 14,
     "metadata": {},
     "output_type": "execute_result"
    }
   ],
   "source": [
    "# P2\n",
    "\n",
    "\n",
    "def secfun(list2 = [5,6,7,8,9]):\n",
    "    n = [x for x in list2 if x%2==0]\n",
    "    z = len(n)\n",
    "    return z\n",
    "\n",
    "list1 = [4,2,6,5,8,7,9,2,44]\n",
    "secfun(list1)"
   ]
  },
  {
   "cell_type": "code",
   "execution_count": null,
   "metadata": {},
   "outputs": [],
   "source": []
  },
  {
   "cell_type": "code",
   "execution_count": null,
   "metadata": {},
   "outputs": [],
   "source": []
  },
  {
   "cell_type": "code",
   "execution_count": 49,
   "metadata": {},
   "outputs": [
    {
     "name": "stdout",
     "output_type": "stream",
     "text": [
      "lkkkkkkkkkkkkkkkkkkkkkkkk55\n",
      "True\n"
     ]
    }
   ],
   "source": [
    "# P3\n",
    "\n",
    "def fn3(psw):\n",
    "    if (len(psw) > 10) & (sum(1 for x in psw if x.isdigit()) >= 2):  \n",
    "        print(True)\n",
    "    else:\n",
    "        print(False)\n",
    "            \n",
    "p1 = input()       \n",
    "fn3(p1)        \n"
   ]
  },
  {
   "cell_type": "code",
   "execution_count": 38,
   "metadata": {},
   "outputs": [
    {
     "name": "stdout",
     "output_type": "stream",
     "text": [
      "Argument1 name:  Alice\n",
      "Argument1 name:  Ford\n",
      "Argument1 name:  Mustang\n"
     ]
    }
   ],
   "source": [
    "# P6\n",
    "\n",
    "def fn6(user, **kar):\n",
    "    if user == 'admin':\n",
    "        for value in kar.values():\n",
    "            print('Argument1 name: ', value)\n",
    "    else:\n",
    "        print('access denied to the user ',user)\n",
    "        \n",
    "fn6('admin', yyy = \"Alice\",  brand = \"Ford\", model= \"Mustang\")"
   ]
  },
  {
   "cell_type": "code",
   "execution_count": 4,
   "metadata": {},
   "outputs": [
    {
     "name": "stdout",
     "output_type": "stream",
     "text": [
      "kim , your average grade is: 8.0\n"
     ]
    }
   ],
   "source": [
    "# P5\n",
    "\n",
    "def fn5(name,*argvvvv):\n",
    "    if isinstance(name, str):\n",
    "          \n",
    "        if len(argvvvv) !=0:\n",
    "            y = sum(argvvvv)/len(argvvvv)\n",
    "            print(\"%s , your average grade is: %s\" %(name,y))\n",
    "        else:\n",
    "            print(\"No grades availble for %s\" %name)\n",
    "        \n",
    "    else:\n",
    "        print('wrong input')\n",
    "    \n",
    "name = 'kim' \n",
    "a = 7\n",
    "b = 9\n",
    "\n",
    "fn5(name,a,b)"
   ]
  },
  {
   "cell_type": "code",
   "execution_count": 81,
   "metadata": {},
   "outputs": [
    {
     "name": "stdout",
     "output_type": "stream",
     "text": [
      "your name: tre\n",
      "tre Welcome to our company\n"
     ]
    }
   ],
   "source": [
    "# P4\n",
    "\n",
    "def fn4(name, greeting = 'Welcome to our company'):\n",
    "    print(name, greeting)\n",
    "\n",
    "p =input('your name: ')     \n",
    "fn4(p)\n"
   ]
  },
  {
   "cell_type": "code",
   "execution_count": null,
   "metadata": {},
   "outputs": [],
   "source": []
  },
  {
   "cell_type": "code",
   "execution_count": null,
   "metadata": {},
   "outputs": [],
   "source": []
  },
  {
   "cell_type": "code",
   "execution_count": 4,
   "metadata": {},
   "outputs": [
    {
     "name": "stdout",
     "output_type": "stream",
     "text": [
      "Result:   4\n",
      "The result of the operation is   64\n"
     ]
    }
   ],
   "source": [
    "# calc.py\n",
    "\n",
    "import pretty_print\n",
    "\n",
    "def calculate_cube(x):\n",
    "    return x**3\n",
    "\n",
    "def calculate_square(x):\n",
    "    return x**2\n",
    "\n",
    "def main():\n",
    "    result = calculate_square(2)\n",
    "    pretty_print.simple_print(result)\n",
    "    \n",
    "    result2 = calculate_cube(4)\n",
    "    pretty_print.pro_print(result2)\n",
    "    \n",
    "if __name__ == '__main__':\n",
    "    main()\n",
    "    "
   ]
  },
  {
   "cell_type": "code",
   "execution_count": 3,
   "metadata": {},
   "outputs": [],
   "source": [
    "# pretty_print.py\n",
    "\n",
    "def simple_print(x):\n",
    "    print('Result:  ', x)\n",
    "    \n",
    "def pro_print(x):\n",
    "    print('The result of the operation is  ', x)"
   ]
  },
  {
   "cell_type": "code",
   "execution_count": null,
   "metadata": {},
   "outputs": [],
   "source": []
  }
 ],
 "metadata": {
  "kernelspec": {
   "display_name": "Python 3",
   "language": "python",
   "name": "python3"
  },
  "language_info": {
   "codemirror_mode": {
    "name": "ipython",
    "version": 3
   },
   "file_extension": ".py",
   "mimetype": "text/x-python",
   "name": "python",
   "nbconvert_exporter": "python",
   "pygments_lexer": "ipython3",
   "version": "3.7.4"
  }
 },
 "nbformat": 4,
 "nbformat_minor": 2
}
