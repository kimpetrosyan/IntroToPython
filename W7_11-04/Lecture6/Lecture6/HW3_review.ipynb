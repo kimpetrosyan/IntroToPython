{
 "cells": [
  {
   "cell_type": "markdown",
   "metadata": {},
   "source": [
    "`Lists:`"
   ]
  },
  {
   "cell_type": "code",
   "execution_count": 38,
   "metadata": {},
   "outputs": [
    {
     "name": "stdout",
     "output_type": "stream",
     "text": [
      "7\n",
      "-2\n",
      "[8, 7, 5, 4, 1, 0, -1, -2]\n",
      "[4, 5, 7]\n",
      "[5, 7, 8, -2, 0]\n",
      "[8, 7, 1, 0, -1, -2]\n",
      "['Broccoli', 'Carrot', 'Lemon', 'Orange', 'Potatoes', 'Sausages', 'grapes', 'tomatoes']\n",
      "[4, 5, 7, 'Lemon', 'Broccoli', 'Carrot']\n"
     ]
    }
   ],
   "source": [
    "a = [1, 4, 5, 7, 8, -2, 0, -1]\n",
    "print(a[3])\n",
    "print(a[5])\n",
    "a_sorted = sorted(a, reverse=True)\n",
    "print(a_sorted)\n",
    "\n",
    "\"\"\"\n",
    "a_sorted = a.copy()\n",
    "a_sorted.sort(reverse=True)\n",
    "\"\"\"\n",
    "print(a[1:4])\n",
    "print(a[2:7])\n",
    "\n",
    "a_sorted.pop(3)\n",
    "a_sorted.pop(2)\n",
    "\n",
    "print(a_sorted)\n",
    "\n",
    "b = [\"grapes\", \"Potatoes\", \"tomatoes\", \"Orange\", \"Lemon\", \"Broccoli\", \"Carrot\", \"Sausages\"]\n",
    "\n",
    "b_sorted = sorted(b)\n",
    "print(b_sorted)\n",
    "\n",
    "c = a[1:4] + b[4:7]\n",
    "print(c)"
   ]
  },
  {
   "cell_type": "markdown",
   "metadata": {},
   "source": [
    "`Sets:`"
   ]
  },
  {
   "cell_type": "code",
   "execution_count": 44,
   "metadata": {},
   "outputs": [
    {
     "name": "stdout",
     "output_type": "stream",
     "text": [
      "set_a:  {False, True, 'Cookies', 8, 'Chocolate', -5, -3}\n",
      "set_b:  {False, True, 'Milk', 8, 10, 14, 'Chocolate', 'Jelly'}\n",
      "{False, True, 'Cookies', 'Milk', 8, 10, 'Chocolate', 14, 'Jelly', -5, -3}\n",
      "{False, True, 8, 'Chocolate'}\n",
      "{False, True, 'Cookies', 'Milk', 8, 'Oreo', 10, 'Chocolate', 14, 'Jelly', 'Kit-Kat', -5, -3}\n",
      "{False, True, 'Cookies', 'Milk', 8, 'Oreo', 10, 'Chocolate', 14, 'Jelly', 'Kit-Kat', -5, -3}\n",
      "True\n",
      "{False, True, 'Cookies', 'Milk', 8, 10, 'Chocolate', 14, 'Jelly', 'Kit-Kat', -5, -3}\n"
     ]
    }
   ],
   "source": [
    "a1 = [\"Cookies\", \"Chocolate\", 8, True, -3, -5, \"Chocolate\", 8, False, 8]\n",
    "b1 = [8, True, 10, 14, \"Chocolate\", \"Milk\", \"Jelly\", True, False, True]\n",
    "\n",
    "set_a = set(a1)\n",
    "set_b = set(b1)\n",
    "\n",
    "print('set_a: ', set_a)\n",
    "print('set_b: ', set_b)\n",
    "\n",
    "union_ab = set_a.union(set_b)\n",
    "print(union_ab)\n",
    "\n",
    "intersection_ab = set_a.intersection(set_b)\n",
    "print(intersection_ab)\n",
    "\n",
    "union_ab.update({'Kit-Kat', 'Oreo'})\n",
    "\n",
    "\"\"\"\n",
    "union_ab.add('Kit-Kat')\n",
    "union_ab.add('Oreo')\n",
    "\"\"\"\n",
    "\n",
    "print(union_ab)\n",
    "\n",
    "new_set = union_ab | intersection_ab\n",
    "print(new_set)\n",
    "\n",
    "print('Chocolate' in new_set)\n",
    "\n",
    "new_set.discard('Oreo')\n",
    "print(new_set)"
   ]
  },
  {
   "cell_type": "markdown",
   "metadata": {},
   "source": [
    "`Tuples`"
   ]
  },
  {
   "cell_type": "code",
   "execution_count": 18,
   "metadata": {},
   "outputs": [
    {
     "name": "stdout",
     "output_type": "stream",
     "text": [
      "(1, 'a', -2, 'Anna')\n"
     ]
    }
   ],
   "source": [
    "#too specific\n",
    "t1 = (1, True, \"a\", -2, \"Anna\")\n",
    "\n",
    "l1 = list(t1)\n",
    "del l1[1]\n",
    "t1 = tuple(l1)\n",
    "print(t1)"
   ]
  },
  {
   "cell_type": "code",
   "execution_count": 50,
   "metadata": {},
   "outputs": [
    {
     "name": "stdout",
     "output_type": "stream",
     "text": [
      "(1, 'a', -2, 'Anna')\n"
     ]
    }
   ],
   "source": [
    "#general\n",
    "t1 = (1, True, \"a\", -2, \"Anna\")\n",
    "\n",
    "l1 = list(t1)\n",
    "for i in l1:\n",
    "    if (type(i) == bool) & (i == True):\n",
    "        del l1[i]\n",
    "\n",
    "t1 = tuple(l1)\n",
    "print(t1)"
   ]
  },
  {
   "cell_type": "code",
   "execution_count": 54,
   "metadata": {},
   "outputs": [
    {
     "name": "stdout",
     "output_type": "stream",
     "text": [
      "(2, True, 'a', -2, 'Anna')\n",
      "(2, 'a', -2, 'Anna')\n",
      "(2, 'a', 1, 2, 3)\n",
      "1\n",
      "(1, 3, 5) 3\n"
     ]
    }
   ],
   "source": [
    "t1 = (2, True, \"a\", -2, \"Anna\")\n",
    "print(t1)\n",
    "\n",
    "t1 = list(t1)\n",
    "t1.remove(True)\n",
    "\n",
    "t1 = tuple(t1)\n",
    "\n",
    "print(t1)\n",
    "\n",
    "t2 = (1, 2, 3, 4, 5)\n",
    "\n",
    "t3 = t1[:2] + t2[:3]\n",
    "print(t3)\n",
    "\n",
    "print(t3[2])\n",
    "\n",
    "t4 = tuple([(1,3,5), (8,9), (\"Anna\", \"Bob\",\"Alice\")])\n",
    "print(t4[0], t4[0][1])"
   ]
  },
  {
   "cell_type": "markdown",
   "metadata": {},
   "source": [
    "`Dictionaries`"
   ]
  },
  {
   "cell_type": "code",
   "execution_count": 55,
   "metadata": {},
   "outputs": [
    {
     "name": "stdout",
     "output_type": "stream",
     "text": [
      "{'dairy': ['yogurt', 'cheese'], 'fruits': ['banana', 'apple', 'orange', 'lemon', 'apple', 'banana', 'banana']}\n",
      "['banana', 'apple', 'orange', 'lemon', 'apple', 'banana', 'banana']\n",
      "{'dairy': ['yogurt', 'cheese'], 'fruits': ['apple', 'banana', 'lemon', 'orange'], 'candies': ['mars', 'kinder', 'twix']}\n"
     ]
    }
   ],
   "source": [
    "market = {\"dairy\":[\"yogurt\", \"cheese\"], \"fruits\": ['banana', 'apple', 'orange', 'lemon', 'apple', 'banana','banana']}\n",
    "print(market)\n",
    "\n",
    "market[\"candies\"] = ['mars', 'kinder', 'twix']\n",
    "\n",
    "print(market[\"fruits\"])\n",
    "\n",
    "\"\"\"\n",
    "fruits = market[\"fruits\"]\n",
    "fruits = set(fruits)\n",
    "fruits = list(fruits)\n",
    "fruits = sorted(fruits)\n",
    "market[\"fruits\"] = fruits\n",
    "\"\"\"\n",
    "\n",
    "market[\"fruits\"] = sorted(list(set(market[\"fruits\"])))\n",
    "print(market)"
   ]
  }
 ],
 "metadata": {
  "kernelspec": {
   "display_name": "Python 3",
   "language": "python",
   "name": "python3"
  },
  "language_info": {
   "codemirror_mode": {
    "name": "ipython",
    "version": 3
   },
   "file_extension": ".py",
   "mimetype": "text/x-python",
   "name": "python",
   "nbconvert_exporter": "python",
   "pygments_lexer": "ipython3",
   "version": "3.7.4"
  }
 },
 "nbformat": 4,
 "nbformat_minor": 2
}
