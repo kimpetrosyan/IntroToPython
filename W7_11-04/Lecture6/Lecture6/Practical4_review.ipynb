{
 "cells": [
  {
   "cell_type": "code",
   "execution_count": 1,
   "metadata": {},
   "outputs": [
    {
     "name": "stdout",
     "output_type": "stream",
     "text": [
      "enter n1: 10\n",
      "enter n2: 2\n",
      "The number 10 is the greatest.\n"
     ]
    }
   ],
   "source": [
    "# P1\n",
    "\n",
    "n1 = int(input(\"enter n1: \"))\n",
    "n2 = int(input(\"enter n2: \"))\n",
    "\n",
    "#print(\"The number %s is the greatest.\" % max(n1,n2))\n",
    "\n",
    "if n1>n2:\n",
    "    print(\"The number %s is the greatest.\" % n1)\n",
    "else:\n",
    "    print(\"The number %s is the greatest.\" % n2)"
   ]
  },
  {
   "cell_type": "code",
   "execution_count": 7,
   "metadata": {},
   "outputs": [
    {
     "name": "stdout",
     "output_type": "stream",
     "text": [
      "Welcome Mr. Batman!\n",
      "Please enter a different password\n"
     ]
    }
   ],
   "source": [
    "# P3\n",
    "\n",
    "name, age, password = \"Batman\", 18, \"Agvd\"\n",
    "\n",
    "if name == \"Batman\":\n",
    "    print(\"Welcome Mr. Batman!\")\n",
    "    \n",
    "if age<16:\n",
    "    print(\"Dear %s, you are too young to register\" % name)\n",
    "    \n",
    "if (\"*\" not in password) and (\"&\" not in password):\n",
    "    print(\"Please enter a different password\")"
   ]
  },
  {
   "cell_type": "code",
   "execution_count": null,
   "metadata": {},
   "outputs": [],
   "source": [
    "name, age, password = \"Batman\", 18, \"Agvd\"\n",
    "\n",
    "if name == \"Batman\":\n",
    "    print(\"Welcome Mr. Batman!\")\n",
    "    \n",
    "else:\n",
    "    \n",
    "    if age<16:\n",
    "        print(\"Dear %s, you are too young to register\" % name)\n",
    "\n",
    "    if (\"*\" not in password) and (\"&\" not in password):\n",
    "        print(\"Please enter a different password\")"
   ]
  },
  {
   "cell_type": "code",
   "execution_count": 11,
   "metadata": {},
   "outputs": [
    {
     "name": "stdout",
     "output_type": "stream",
     "text": [
      "10\n",
      "{'name': 'Armen', 'age': 15, 'grades': [10, 8, 8, 4, 6, 7], 'weight': 10}\n"
     ]
    }
   ],
   "source": [
    "# P4\n",
    "\n",
    "d = {\"name\": \"Armen\", \"age\": 15, \"grades\": [10, 8, 8, 4, 6, 7] }\n",
    "\n",
    "if \"weight\" in d:\n",
    "    print(d[\"weight\"])\n",
    "\n",
    "else:\n",
    "    n = int(input())\n",
    "    #d.update({\"weight\": n})\n",
    "    d[\"weight\"] = n\n",
    "    print(d)"
   ]
  },
  {
   "cell_type": "code",
   "execution_count": 15,
   "metadata": {},
   "outputs": [
    {
     "name": "stdout",
     "output_type": "stream",
     "text": [
      "1\n",
      "3\n",
      "5\n",
      "7\n",
      "9\n",
      "11\n",
      "13\n",
      "15\n",
      "17\n",
      "19\n",
      "21\n",
      "23\n",
      "25\n",
      "27\n",
      "29\n",
      "31\n",
      "33\n",
      "35\n",
      "37\n",
      "39\n",
      "41\n",
      "43\n",
      "45\n",
      "47\n",
      "49\n",
      "51\n",
      "53\n",
      "55\n",
      "57\n",
      "59\n",
      "61\n",
      "63\n",
      "65\n",
      "67\n",
      "69\n",
      "71\n",
      "73\n",
      "75\n",
      "77\n",
      "79\n",
      "81\n",
      "83\n",
      "85\n",
      "87\n",
      "89\n",
      "91\n",
      "93\n",
      "95\n",
      "97\n",
      "99\n"
     ]
    }
   ],
   "source": [
    "# P5\n",
    "\n",
    "\"\"\"\n",
    "for i in range(1, 101):\n",
    "    if i%2==0:\n",
    "        continue\n",
    "    print(i)\n",
    "\"\"\"\n",
    "\n",
    "for i in range(1, 101):\n",
    "    if i%2==1:\n",
    "        print(i)"
   ]
  },
  {
   "cell_type": "code",
   "execution_count": 16,
   "metadata": {},
   "outputs": [
    {
     "name": "stdout",
     "output_type": "stream",
     "text": [
      "0\n",
      "1\n",
      "3\n",
      "5\n",
      "6\n"
     ]
    }
   ],
   "source": [
    "# P6\n",
    "\n",
    "for i in range(7):\n",
    "    if i==2 or i==4:\n",
    "        continue\n",
    "    print(i)"
   ]
  },
  {
   "cell_type": "code",
   "execution_count": 18,
   "metadata": {},
   "outputs": [
    {
     "name": "stdout",
     "output_type": "stream",
     "text": [
      "15\n"
     ]
    }
   ],
   "source": [
    "# P7\n",
    "\n",
    "for i in range(1, 21):    \n",
    "    if i%3==0 and i%5==0:\n",
    "        print(i)\n",
    "        break\n",
    "    #print(i)"
   ]
  },
  {
   "cell_type": "code",
   "execution_count": 21,
   "metadata": {},
   "outputs": [
    {
     "name": "stdout",
     "output_type": "stream",
     "text": [
      "5\n",
      "7\n",
      "-7\n",
      "abc\n",
      "2\n",
      "4\n",
      "True\n"
     ]
    }
   ],
   "source": [
    "# P8\n",
    "list1 = [5, 7, -7, 'abc', 2, 4, True, 3, 4, 6, 7, 7]\n",
    "\n",
    "for i in  list1:\n",
    "    if i==3:\n",
    "        #print(i)\n",
    "        break\n",
    "    print(i)"
   ]
  },
  {
   "cell_type": "code",
   "execution_count": 22,
   "metadata": {},
   "outputs": [
    {
     "name": "stdout",
     "output_type": "stream",
     "text": [
      "Take a guess: 10\n",
      "Take a guess: 2\n",
      "Take a guess: 5\n",
      "That was a good guess!\n"
     ]
    }
   ],
   "source": [
    "# P9\n",
    "\n",
    "correct_num = 5\n",
    "\n",
    "for i in range(10):\n",
    "    guess = int(input(\"Take a guess: \"))\n",
    "    if guess == correct_num:\n",
    "        print(\"That was a good guess!\")\n",
    "        break"
   ]
  },
  {
   "cell_type": "code",
   "execution_count": 23,
   "metadata": {},
   "outputs": [
    {
     "name": "stdout",
     "output_type": "stream",
     "text": [
      "Take a guess: 10\n",
      "Take a guess: 12\n",
      "Take a guess: 13\n",
      "Take a guess: 4\n",
      "Take a guess: 5\n",
      "That was a good guess!\n"
     ]
    }
   ],
   "source": [
    "correct_num = 5\n",
    "guess = int(input(\"Take a guess: \"))\n",
    "\n",
    "while guess != correct_num:\n",
    "    guess = int(input(\"Take a guess: \"))\n",
    "\n",
    "print(\"That was a good guess!\")"
   ]
  },
  {
   "cell_type": "code",
   "execution_count": 24,
   "metadata": {},
   "outputs": [
    {
     "name": "stdout",
     "output_type": "stream",
     "text": [
      "[7, 8, 120, 25, 44, 20, 27]\n",
      "[7, 25, 27]\n"
     ]
    }
   ],
   "source": [
    "# P10\n",
    "\n",
    "list1 = [7,8, 120, 25, 44, 20, 27]\n",
    "new_list1 = [i for i in list1 if i%2==1]\n",
    "print(list1)\n",
    "print(new_list1)"
   ]
  },
  {
   "cell_type": "code",
   "execution_count": 25,
   "metadata": {},
   "outputs": [
    {
     "name": "stdout",
     "output_type": "stream",
     "text": [
      "[1, 4, 9, 16, 25, 36, 49, 64, 81, 100, 121, 144, 169, 196, 225, 256, 289, 324, 361, 400, 441, 484, 529, 576, 625, 676, 729, 784, 841, 900, 961, 1024, 1089, 1156, 1225, 1296, 1369, 1444, 1521, 1600, 1681, 1764, 1849, 1936, 2025, 2116, 2209, 2304, 2401, 2500]\n"
     ]
    }
   ],
   "source": [
    "# P11\n",
    "\n",
    "list3 = [i**2 for i in range(1,51)]\n",
    "print(list3)"
   ]
  },
  {
   "cell_type": "code",
   "execution_count": 28,
   "metadata": {},
   "outputs": [
    {
     "name": "stdout",
     "output_type": "stream",
     "text": [
      "wegfcohw\n",
      "['w', 'e', 'g', 'f', 'c', 'o', 'h', 'w']\n"
     ]
    }
   ],
   "source": [
    "# P13\n",
    "\n",
    "s = input()\n",
    "    \n",
    "l1 = [i for i in s]\n",
    "print(l1)"
   ]
  },
  {
   "cell_type": "code",
   "execution_count": 40,
   "metadata": {},
   "outputs": [
    {
     "name": "stdout",
     "output_type": "stream",
     "text": [
      "['a', 'abc', 'xyz', 's', 'aba', '1221']\n",
      "['aba', '1221']\n",
      "2\n"
     ]
    }
   ],
   "source": [
    "# P14\n",
    "\n",
    "list1 =  ['a', 'abc', 'xyz', 's', 'aba', '1221']\n",
    "\n",
    "#new_list1 = [i for i in list1 if len(i)>2 if i[0] == i[-1]]\n",
    "new_list1 = [i for i in list1 if ((len(i)>2) and (i[0] == i[-1]))]\n",
    "print(list1)\n",
    "print(new_list1)\n",
    "print(len(new_list1))"
   ]
  }
 ],
 "metadata": {
  "kernelspec": {
   "display_name": "Python 3",
   "language": "python",
   "name": "python3"
  },
  "language_info": {
   "codemirror_mode": {
    "name": "ipython",
    "version": 3
   },
   "file_extension": ".py",
   "mimetype": "text/x-python",
   "name": "python",
   "nbconvert_exporter": "python",
   "pygments_lexer": "ipython3",
   "version": "3.7.4"
  }
 },
 "nbformat": 4,
 "nbformat_minor": 2
}
