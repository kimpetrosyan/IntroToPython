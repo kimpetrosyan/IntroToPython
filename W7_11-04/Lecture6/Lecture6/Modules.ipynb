{
 "cells": [
  {
   "cell_type": "markdown",
   "metadata": {},
   "source": [
    "# Modules"
   ]
  },
  {
   "cell_type": "markdown",
   "metadata": {},
   "source": [
    "### Module is a piece of software which is responsible for a specific action. For instance, if we want to create a ping-pong game, one module can be responsible for the logic and the other for the interface of the game. Each module is a seperate .py file. "
   ]
  },
  {
   "cell_type": "markdown",
   "metadata": {},
   "source": [
    "### `Package` - a collection of modules, contains an `__init__.py` file\n",
    "### When a module/package/something else is \"published\" people often refer to it as a `library`. Often libraries contain a package or multiple related packages, but it could be even a single module."
   ]
  },
  {
   "cell_type": "markdown",
   "metadata": {},
   "source": [
    "## Writing modules\n",
    "Python modules are simply .py files. The name of the file is the name of the module. Python module can contain functions, classes and variables. In the ping pong game example, we will have 2 files: \n",
    "\n",
    "```python\n",
    "mygame/\n",
    "mygame/game.py\n",
    "mygame/draw.py\n",
    "```"
   ]
  },
  {
   "cell_type": "markdown",
   "metadata": {},
   "source": [
    "```game.py``` will be responsible for the game rules and logic and will use the ```draw_game``` function from ```draw.py``` file to display the game.\n",
    "\n",
    "Modules are imported from other modules using the `import` command. \n",
    "\n",
    "```python\n",
    "# game.py\n",
    "# import the draw module\n",
    "import draw\n",
    "\n",
    "def play_game():\n",
    "    return 'play game'\n",
    "\n",
    "def main():\n",
    "    result = play_game()\n",
    "    draw.draw_game(result)\n",
    "\n",
    "\n",
    "# this means that if this script is executed, then \n",
    "# main() will be executed\n",
    "if __name__ == '__main__':\n",
    "    main()\n",
    "```\n",
    "    \n",
    "The ```draw``` module may look something like this:\n",
    "\n",
    "```python\n",
    "# draw.py\n",
    "\n",
    "def draw_game(res):\n",
    "    print(\"draw game\",res)\n",
    "\n",
    "def clear_screen(screen):\n",
    "    pass\n",
    "```"
   ]
  },
  {
   "cell_type": "markdown",
   "metadata": {},
   "source": [
    "```python\n",
    "\n",
    "```\n",
    "\n",
    "## Importing module objects to the current namespace\n",
    "```python\n",
    "# game.py\n",
    "# import the draw module\n",
    "from draw import draw_game\n",
    "\n",
    "def main():\n",
    "    result = play_game()\n",
    "    draw_game(result)\n",
    "```\n",
    "\n",
    "## Importing all objects from a module\n",
    "\n",
    "```python\n",
    "# game.py\n",
    "# import the draw module\n",
    "from draw import *\n",
    "\n",
    "def main():\n",
    "    result = play_game()\n",
    "    draw_game(result)\n",
    "```\n",
    "\n",
    "where ```*``` denotes importing everything from ```draw``` module\n",
    "\n",
    "## Custom import name\n",
    "If you don't like the name of the module, you can import it with a custom name\n",
    "\n",
    "```python\n",
    "import draw as drw\n",
    "\n",
    "```\n",
    "\n",
    "## Combining all\n",
    "```python\n",
    "from draw import draw_game as dg\n",
    "```"
   ]
  },
  {
   "cell_type": "markdown",
   "metadata": {},
   "source": [
    "## Extending module load path\n",
    "There are a couple of ways you can show the python interpreter where to look for the modules, except for the default path, i.e. the current directory and the built-in modules. \n",
    "\n",
    "\n",
    "One method is the ```sys.path.append``` function. You may execute it **before** running an ```import``` command:\n",
    "\n",
    "\n",
    "```python\n",
    "sys.path.append(\"foo\")\n",
    "```\n",
    "This will add the foo directory to the list of paths to look for modules in as well.\n",
    "\n",
    "## Exploring built-in modules\n",
    "\n",
    "Two very important functions come in handy when exploring modules in Python - the ```dir``` and ```help``` functions, which we have met earlier.\n",
    "\n",
    "If we want to ```import``` the module ```urllib```, which enables us to create and read data from URLs, we simply import the module:\n",
    "\n",
    "\n",
    "```python\n",
    "# import the library\n",
    "import urllib\n",
    "\n",
    "# use it\n",
    "urllib.urlopen(...)\n",
    "```"
   ]
  },
  {
   "cell_type": "code",
   "execution_count": 1,
   "metadata": {},
   "outputs": [
    {
     "data": {
      "text/plain": [
       "['__builtins__',\n",
       " '__cached__',\n",
       " '__doc__',\n",
       " '__file__',\n",
       " '__loader__',\n",
       " '__name__',\n",
       " '__package__',\n",
       " '__path__',\n",
       " '__spec__',\n",
       " 'error',\n",
       " 'parse',\n",
       " 'request',\n",
       " 'response']"
      ]
     },
     "execution_count": 1,
     "metadata": {},
     "output_type": "execute_result"
    }
   ],
   "source": [
    "import urllib\n",
    "dir(urllib)"
   ]
  },
  {
   "cell_type": "code",
   "execution_count": 2,
   "metadata": {},
   "outputs": [
    {
     "data": {
      "text/plain": [
       "4.0"
      ]
     },
     "execution_count": 2,
     "metadata": {},
     "output_type": "execute_result"
    }
   ],
   "source": [
    "import math\n",
    "math.sqrt(16)"
   ]
  },
  {
   "cell_type": "code",
   "execution_count": 4,
   "metadata": {},
   "outputs": [
    {
     "data": {
      "text/plain": [
       "4.0"
      ]
     },
     "execution_count": 4,
     "metadata": {},
     "output_type": "execute_result"
    }
   ],
   "source": [
    "from math import sqrt\n",
    "\n",
    "sqrt(16)"
   ]
  },
  {
   "cell_type": "code",
   "execution_count": 5,
   "metadata": {},
   "outputs": [
    {
     "data": {
      "text/plain": [
       "4.0"
      ]
     },
     "execution_count": 5,
     "metadata": {},
     "output_type": "execute_result"
    }
   ],
   "source": [
    "from math import sqrt as square_root\n",
    "\n",
    "square_root(16)"
   ]
  }
 ],
 "metadata": {
  "kernelspec": {
   "display_name": "Python 3",
   "language": "python",
   "name": "python3"
  },
  "language_info": {
   "codemirror_mode": {
    "name": "ipython",
    "version": 3
   },
   "file_extension": ".py",
   "mimetype": "text/x-python",
   "name": "python",
   "nbconvert_exporter": "python",
   "pygments_lexer": "ipython3",
   "version": "3.7.4"
  }
 },
 "nbformat": 4,
 "nbformat_minor": 2
}
