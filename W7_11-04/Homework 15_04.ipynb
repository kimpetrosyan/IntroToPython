{
 "cells": [
  {
   "cell_type": "code",
   "execution_count": 41,
   "metadata": {},
   "outputs": [
    {
     "name": "stdout",
     "output_type": "stream",
     "text": [
      "no num  bers given\n"
     ]
    }
   ],
   "source": [
    "# H1\n",
    "\n",
    "def my_max(*arg):\n",
    "    if len(arg) == 0:      \n",
    "        print('no num  bers given')\n",
    "    else:\n",
    "        #return max(arg)\n",
    "        i = 1\n",
    "        while arg[i] >arg[i-1]:            \n",
    "            i+=1\n",
    "        print(arg[i-1])\n",
    "        \n",
    "            \n",
    "a=1\n",
    "b=7\n",
    "c=99\n",
    "d=3\n",
    "e =2\n",
    "    \n",
    "my_max(a,b,c,d,e)                                 #լրիվ ճիշտ չի"
   ]
  },
  {
   "cell_type": "code",
   "execution_count": 44,
   "metadata": {},
   "outputs": [
    {
     "data": {
      "text/plain": [
       "[100, 5, 6, 8, 10, 12, 50, 30]"
      ]
     },
     "execution_count": 44,
     "metadata": {},
     "output_type": "execute_result"
    }
   ],
   "source": [
    "# H2\n",
    "\n",
    "def fun1(l2: list):\n",
    "    l3 = set(l2)\n",
    "    l2 = list(l3)\n",
    "    return l2\n",
    "    \n",
    "    \n",
    "my_list = [10,50,30,12,6,8,100,6,8,5,5,5,5,10]\n",
    "\n",
    "fun1(my_list)    "
   ]
  },
  {
   "cell_type": "code",
   "execution_count": 3,
   "metadata": {},
   "outputs": [
    {
     "data": {
      "text/plain": [
       "89"
      ]
     },
     "execution_count": 3,
     "metadata": {},
     "output_type": "execute_result"
    }
   ],
   "source": [
    "# H3\n",
    "\n",
    "def my_fib(n):\n",
    "    if n == 1:\n",
    "        return 0\n",
    "    elif n == 2:\n",
    "        return 1\n",
    "    else:\n",
    "        return my_fib(n-1) + my_fib(n-2)\n",
    "    \n",
    "my_fib(12)    \n",
    "    "
   ]
  },
  {
   "cell_type": "code",
   "execution_count": 65,
   "metadata": {},
   "outputs": [
    {
     "name": "stdout",
     "output_type": "stream",
     "text": [
      "[0, 40, 20, 2, 16, 18, 90, 16, 18, 15, 15, 15, 15, 1]\n"
     ]
    }
   ],
   "source": [
    "# H4\n",
    "\n",
    "def my_func(n):\n",
    "    if n<10:\n",
    "        n = n + 10\n",
    "        return n \n",
    "    else:\n",
    "        n=n-10\n",
    "        return n\n",
    "    \n",
    "\n",
    "my_func(56)\n",
    "\n",
    "list1 = [10,50,30,12,6,8,100,6,8,5,5,5,5,11]   \n",
    "f2 = map(my_func,list1)\n",
    "print(list(f2))\n",
    "\n",
    "\n"
   ]
  },
  {
   "cell_type": "code",
   "execution_count": 22,
   "metadata": {},
   "outputs": [
    {
     "ename": "ModuleNotFoundError",
     "evalue": "No module named 'Productcheck'",
     "output_type": "error",
     "traceback": [
      "\u001b[1;31m---------------------------------------------------------------------------\u001b[0m",
      "\u001b[1;31mModuleNotFoundError\u001b[0m                       Traceback (most recent call last)",
      "\u001b[1;32m<ipython-input-22-0bd74eac8e01>\u001b[0m in \u001b[0;36m<module>\u001b[1;34m\u001b[0m\n\u001b[0;32m      1\u001b[0m \u001b[1;31m# Customer.py\u001b[0m\u001b[1;33m\u001b[0m\u001b[1;33m\u001b[0m\u001b[1;33m\u001b[0m\u001b[0m\n\u001b[0;32m      2\u001b[0m \u001b[1;33m\u001b[0m\u001b[0m\n\u001b[1;32m----> 3\u001b[1;33m \u001b[1;32mimport\u001b[0m \u001b[0mProductcheck\u001b[0m\u001b[1;33m\u001b[0m\u001b[1;33m\u001b[0m\u001b[0m\n\u001b[0m\u001b[0;32m      4\u001b[0m \u001b[1;33m\u001b[0m\u001b[0m\n\u001b[0;32m      5\u001b[0m \u001b[1;32mdef\u001b[0m \u001b[0mbuy\u001b[0m\u001b[1;33m(\u001b[0m\u001b[0mproduct\u001b[0m\u001b[1;33m,\u001b[0m \u001b[0mnum\u001b[0m\u001b[1;33m,\u001b[0m \u001b[0mprice\u001b[0m\u001b[1;33m)\u001b[0m\u001b[1;33m:\u001b[0m\u001b[1;33m\u001b[0m\u001b[1;33m\u001b[0m\u001b[0m\n",
      "\u001b[1;31mModuleNotFoundError\u001b[0m: No module named 'Productcheck'"
     ]
    }
   ],
   "source": [
    "# Customer.py\n",
    "\n",
    "'''import Productcheck\n",
    "\n",
    "def buy(product, num, price):\n",
    "    if prd2 in Productcheck.check:\n",
    "        print(hi)\n",
    "        \n",
    "prd2 = \"juice\"\n",
    "num2 = 4\n",
    "price2 = 10    \n",
    "buy(prd1,num1,price1)\n",
    "    \n",
    "def main():    \n",
    "    pass\n",
    "\n",
    "\n",
    "\n",
    "\n",
    "if __name__ == '__main__':\n",
    "    main()\n",
    "'''\n"
   ]
  },
  {
   "cell_type": "code",
   "execution_count": 8,
   "metadata": {},
   "outputs": [
    {
     "name": "stdout",
     "output_type": "stream",
     "text": [
      "product name: eee\n",
      "product number: 4\n"
     ]
    },
    {
     "data": {
      "text/plain": [
       "False"
      ]
     },
     "execution_count": 8,
     "metadata": {},
     "output_type": "execute_result"
    }
   ],
   "source": [
    "# Productcheck.py\n",
    "\n",
    "products = {'candy': 10, 'juice': 5, 'pen': 50}\n",
    "\n",
    "\n",
    "def check(product, num):\n",
    "    if product in products:\n",
    "        for x in products.values():\n",
    "            if num <= x:\n",
    "                return True\n",
    "            else:\n",
    "                return False\n",
    "    else:\n",
    "        return False\n",
    "        \n",
    "prd1 = str(input(\"product name: \",))\n",
    "num1 = int(input(\"product number: \",))\n",
    "\n",
    "check(prd1,num1)                              #չգիտեմ ինչու ա 3 հատ տպում =)"
   ]
  },
  {
   "cell_type": "code",
   "execution_count": null,
   "metadata": {},
   "outputs": [],
   "source": [
    "# Customer.py\n",
    "\n",
    "from Productcheck import *\n",
    "\n",
    "def buy(product, num, price):\n",
    "    if check(product, num) is True:\n",
    "        print(\"You bought\", product, \"and spent\", num * price)\n",
    "    else:\n",
    "        print(\"Sorry! Weare out of this product\")\n",
    "    \n",
    "\n",
    "\n",
    "def main():\n",
    "    product = input()\n",
    "    num = input()\n",
    "    price = input()\n",
    "    buy(product, num, price)\n",
    "    \n",
    "    \n",
    "\n",
    "if __name__ == '__main__':\n",
    "    main()\n"
   ]
  },
  {
   "cell_type": "code",
   "execution_count": null,
   "metadata": {},
   "outputs": [],
   "source": []
  },
  {
   "cell_type": "code",
   "execution_count": null,
   "metadata": {},
   "outputs": [],
   "source": []
  }
 ],
 "metadata": {
  "kernelspec": {
   "display_name": "Python 3",
   "language": "python",
   "name": "python3"
  },
  "language_info": {
   "codemirror_mode": {
    "name": "ipython",
    "version": 3
   },
   "file_extension": ".py",
   "mimetype": "text/x-python",
   "name": "python",
   "nbconvert_exporter": "python",
   "pygments_lexer": "ipython3",
   "version": "3.7.4"
  }
 },
 "nbformat": 4,
 "nbformat_minor": 2
}
