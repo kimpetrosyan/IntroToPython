{
 "cells": [
  {
   "cell_type": "markdown",
   "metadata": {},
   "source": [
    "# Problem 1"
   ]
  },
  {
   "cell_type": "code",
   "execution_count": 2,
   "metadata": {},
   "outputs": [],
   "source": [
    "class Circle:\n",
    "    def __init__ (self, radius, color):\n",
    "        self.radius = radius\n",
    "        self.color = color\n",
    "        \n",
    "    def getDesc(self):\n",
    "        print('A %s circle with %s radius' % (self.color, self.radius))"
   ]
  },
  {
   "cell_type": "code",
   "execution_count": 4,
   "metadata": {},
   "outputs": [
    {
     "name": "stdout",
     "output_type": "stream",
     "text": [
      "red\n",
      "5\n",
      "A red circle with 5 radius\n"
     ]
    }
   ],
   "source": [
    "x = Circle(color = 'red', radius = 5)\n",
    "print(x.color)\n",
    "print(x.radius)\n",
    "x.getDesc()"
   ]
  },
  {
   "cell_type": "markdown",
   "metadata": {},
   "source": [
    "# Problem 2"
   ]
  },
  {
   "cell_type": "code",
   "execution_count": 5,
   "metadata": {},
   "outputs": [],
   "source": [
    "class MyString:\n",
    "    def __init__(self, my_str):\n",
    "        self.my_str = my_str\n",
    "        \n",
    "    def get_String(self):\n",
    "        return self.my_str\n",
    "    \n",
    "    def print_String(self):\n",
    "        print(self.my_str.upper())"
   ]
  },
  {
   "cell_type": "code",
   "execution_count": 6,
   "metadata": {},
   "outputs": [
    {
     "name": "stdout",
     "output_type": "stream",
     "text": [
      "hello\n",
      "HELLO\n"
     ]
    }
   ],
   "source": [
    "x = MyString(my_str = 'hello')\n",
    "print(x.get_String())\n",
    "x.print_String()"
   ]
  },
  {
   "cell_type": "markdown",
   "metadata": {},
   "source": [
    "# Problem 3"
   ]
  },
  {
   "cell_type": "code",
   "execution_count": 7,
   "metadata": {},
   "outputs": [],
   "source": [
    "class Employee:\n",
    "    def __init__(self, name, last_name, monthly_salary):\n",
    "        \n",
    "        self.name = name\n",
    "        self.last_name = last_name\n",
    "        self.__monthly_salary = monthly_salary\n",
    "        \n",
    "    def getFullName(self):\n",
    "        \n",
    "        return self.name + ' ' + self.last_name\n",
    "    \n",
    "    def annualSalary(self):\n",
    "        \n",
    "        year_salary = 12*self.__monthly_salary\n",
    "        if year_salary>100:\n",
    "            return 'High'\n",
    "        else:\n",
    "            return 'Low'"
   ]
  },
  {
   "cell_type": "code",
   "execution_count": 8,
   "metadata": {},
   "outputs": [
    {
     "name": "stdout",
     "output_type": "stream",
     "text": [
      "John Brown\n",
      "High\n"
     ]
    }
   ],
   "source": [
    "x = Employee(name = 'John', last_name = 'Brown', monthly_salary = 14)\n",
    "print(x.getFullName())\n",
    "print(x.annualSalary())"
   ]
  },
  {
   "cell_type": "markdown",
   "metadata": {},
   "source": [
    "# Problem 4"
   ]
  },
  {
   "cell_type": "code",
   "execution_count": 9,
   "metadata": {},
   "outputs": [],
   "source": [
    "class Car:\n",
    "    def __init__(self, model, color, max_speed):\n",
    "        \n",
    "        self.model = model\n",
    "        self.color = color\n",
    "        self.max_speed = max_speed\n",
    "        \n",
    "    def compareCar(self, car2):\n",
    "        \n",
    "        if self.max_speed>car2.max_speed:\n",
    "            print('Car 1 is better than car 2.')\n",
    "        else:\n",
    "            print('Car 2 is better than car 1.')"
   ]
  },
  {
   "cell_type": "code",
   "execution_count": 10,
   "metadata": {},
   "outputs": [
    {
     "name": "stdout",
     "output_type": "stream",
     "text": [
      "Car 1 is better than car 2.\n"
     ]
    }
   ],
   "source": [
    "x = Car('Ferrari', 'red', 350)\n",
    "y = Car('Bentley', 'black', 300)\n",
    "x.compareCar(y)"
   ]
  },
  {
   "cell_type": "markdown",
   "metadata": {},
   "source": [
    "# Problem 5"
   ]
  },
  {
   "cell_type": "code",
   "execution_count": 13,
   "metadata": {},
   "outputs": [],
   "source": [
    "class Police_car:\n",
    "    \n",
    "    tax_value = 0.2\n",
    "    \n",
    "    def __init__(self, owner, price, pass_code):\n",
    "        \n",
    "        self.owner = owner\n",
    "        self.price = price\n",
    "        self.__pass_code = pass_code\n",
    "        \n",
    "    def set_pass_code(self, new_pass):\n",
    "        \n",
    "        self.__pass_code = new_pass\n",
    "        \n",
    "    def get_pass_code(self):\n",
    "        \n",
    "        return self.__pass_code\n",
    "        \n",
    "    def tax(self):\n",
    "        \n",
    "        return self.tax_value * self.price\n",
    "    \n",
    "    def greating(self):\n",
    "        \n",
    "        if self.__pass_code == 'admin':\n",
    "            print('Welcome to your car, %s.' % self.owner)\n",
    "            \n",
    "            "
   ]
  },
  {
   "cell_type": "code",
   "execution_count": 14,
   "metadata": {},
   "outputs": [
    {
     "name": "stdout",
     "output_type": "stream",
     "text": [
      "4000.0\n",
      "Welcome to your car, John.\n"
     ]
    }
   ],
   "source": [
    "x = Police_car(owner = 'John', price = 20000, pass_code = 'admin')\n",
    "print(x.tax())\n",
    "x.greating()"
   ]
  },
  {
   "cell_type": "code",
   "execution_count": 15,
   "metadata": {},
   "outputs": [
    {
     "data": {
      "text/plain": [
       "'admin'"
      ]
     },
     "execution_count": 15,
     "metadata": {},
     "output_type": "execute_result"
    }
   ],
   "source": [
    "x.get_pass_code()"
   ]
  },
  {
   "cell_type": "code",
   "execution_count": 16,
   "metadata": {},
   "outputs": [],
   "source": [
    "x.set_pass_code('Sona')"
   ]
  },
  {
   "cell_type": "code",
   "execution_count": 17,
   "metadata": {},
   "outputs": [
    {
     "data": {
      "text/plain": [
       "'Sona'"
      ]
     },
     "execution_count": 17,
     "metadata": {},
     "output_type": "execute_result"
    }
   ],
   "source": [
    "x.get_pass_code()"
   ]
  },
  {
   "cell_type": "code",
   "execution_count": 18,
   "metadata": {},
   "outputs": [],
   "source": [
    "x.greating()"
   ]
  },
  {
   "cell_type": "markdown",
   "metadata": {},
   "source": [
    "# Problem 6"
   ]
  },
  {
   "cell_type": "code",
   "execution_count": 21,
   "metadata": {},
   "outputs": [],
   "source": [
    "class Animal:\n",
    "    def __init__(self, name):\n",
    "        self.name = name\n",
    "    \n",
    "    def move(self):\n",
    "        print('I can move.')\n",
    "    \n",
    "class Dog(Animal):\n",
    "    \n",
    "    def __init__(self):\n",
    "        Animal.__init__(self, 'Dog')\n",
    "        \n",
    "    def move(self):\n",
    "        print('I can run really fast.')"
   ]
  },
  {
   "cell_type": "code",
   "execution_count": 22,
   "metadata": {},
   "outputs": [
    {
     "name": "stdout",
     "output_type": "stream",
     "text": [
      "I can run really fast.\n"
     ]
    }
   ],
   "source": [
    "x = Dog()\n",
    "x.move()"
   ]
  },
  {
   "cell_type": "markdown",
   "metadata": {},
   "source": [
    "# Problem 7"
   ]
  },
  {
   "cell_type": "code",
   "execution_count": 23,
   "metadata": {},
   "outputs": [],
   "source": [
    "class Animal:\n",
    "    def __init__(self, name, legs):\n",
    "        self.name = name\n",
    "        self.legs = legs\n",
    "        \n",
    "    def getName(self):\n",
    "        print('My name is %s.' % self.name)\n",
    "        \n",
    "    def getLegs(self):\n",
    "        print('I have %s legs.' % self.legs)\n",
    "    \n",
    "class Exnik(Animal):\n",
    "    def __init__(self):\n",
    "        Animal.__init__(self, 'Exnik', 4)"
   ]
  },
  {
   "cell_type": "code",
   "execution_count": 24,
   "metadata": {},
   "outputs": [
    {
     "name": "stdout",
     "output_type": "stream",
     "text": [
      "My name is Exnik.\n",
      "I have 4 legs.\n"
     ]
    }
   ],
   "source": [
    "exo = Exnik()\n",
    "exo.getName()\n",
    "exo.getLegs()"
   ]
  },
  {
   "cell_type": "markdown",
   "metadata": {},
   "source": [
    "# Problem 8"
   ]
  },
  {
   "cell_type": "code",
   "execution_count": 29,
   "metadata": {},
   "outputs": [],
   "source": [
    "from abc import ABC,abstractmethod\n",
    "\n",
    "class bird(ABC):\n",
    "\n",
    "    def __init__(self, name, weight):\n",
    "        self.name = name\n",
    "        self.weight = weight\n",
    "        super().__init__()\n",
    "        \n",
    "    @abstractmethod\n",
    "    def fly(self):\n",
    "        pass\n",
    "        \n",
    "class hav(bird):\n",
    "    \n",
    "    def fly(self):\n",
    "        print('I believe i can fly.')"
   ]
  },
  {
   "cell_type": "code",
   "execution_count": 30,
   "metadata": {},
   "outputs": [
    {
     "name": "stdout",
     "output_type": "stream",
     "text": [
      "I believe i can fly.\n"
     ]
    }
   ],
   "source": [
    "x = hav('Hav', 3)\n",
    "x.fly()"
   ]
  }
 ],
 "metadata": {
  "kernelspec": {
   "display_name": "Python 3",
   "language": "python",
   "name": "python3"
  },
  "language_info": {
   "codemirror_mode": {
    "name": "ipython",
    "version": 3
   },
   "file_extension": ".py",
   "mimetype": "text/x-python",
   "name": "python",
   "nbconvert_exporter": "python",
   "pygments_lexer": "ipython3",
   "version": "3.7.4"
  }
 },
 "nbformat": 4,
 "nbformat_minor": 4
}
