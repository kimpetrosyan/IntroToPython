{
 "cells": [
  {
   "cell_type": "markdown",
   "metadata": {},
   "source": [
    "## Problem 1."
   ]
  },
  {
   "cell_type": "code",
   "execution_count": 20,
   "metadata": {},
   "outputs": [
    {
     "name": "stdout",
     "output_type": "stream",
     "text": [
      "Given years:: 5\n",
      "Given days:: 5\n",
      "Current date: 2020-03-28 08:51:32.981794\n",
      "Final date: 2025-04-01 08:51:32.981794\n"
     ]
    }
   ],
   "source": [
    "import datetime\n",
    "\n",
    "num_y = int(input(\"Given years:: \"))\n",
    "num_d = int(input(\"Given days:: \"))\n",
    "import datetime\n",
    "\n",
    "dt = datetime.datetime.today()\n",
    "print(\"Current date:\", dt)\n",
    "\n",
    "tdelta = datetime.timedelta(days = num_y*365+num_d)\n",
    "#tdelta = datetime.timedelta(days = num_d)\n",
    "print(\"Final date:\", dt + tdelta)"
   ]
  },
  {
   "cell_type": "markdown",
   "metadata": {},
   "source": [
    "# Problem 2"
   ]
  },
  {
   "cell_type": "code",
   "execution_count": 19,
   "metadata": {},
   "outputs": [
    {
     "name": "stdout",
     "output_type": "stream",
     "text": [
      "7 or more odd characters long: abcdefghijk\n",
      "5\n",
      "efg\n",
      "The old string:  abcdefghijk\n",
      "Middle 3 characters: efg\n",
      "The new string:abcdEFGhijk\n"
     ]
    }
   ],
   "source": [
    "text = input(\"7 or more odd characters long: \")\n",
    "x = len(text) // 2 \n",
    "y = x-1\n",
    "z = x+2\n",
    "midt = text[y:z]\n",
    "up = midt.upper()\n",
    "print(x)\n",
    "print(midt)\n",
    "\n",
    "\n",
    "print (\"The old string: \", text)\n",
    "print (\"Middle 3 characters:\", midt)\n",
    "print (\"The new string:\"+text[:y]+up+text[z:])"
   ]
  },
  {
   "cell_type": "markdown",
   "metadata": {},
   "source": [
    "# Problem 3\n"
   ]
  },
  {
   "cell_type": "code",
   "execution_count": 31,
   "metadata": {},
   "outputs": [
    {
     "name": "stdout",
     "output_type": "stream",
     "text": [
      "The given text:This text is a sample text\n",
      "First word:text\n",
      "Second word:qqqqqqqqq\n",
      "Output string: This qqqqqqqqq is a sample qqqqqqqqq\n"
     ]
    }
   ],
   "source": [
    "text = input(\"The given text:\")\n",
    "first_word = input(\"First word:\")\n",
    "second_word = input(\"Second word:\")\n",
    "\n",
    "\n",
    "print(\"Output string:\",text.replace(first_word, second_word))"
   ]
  },
  {
   "cell_type": "markdown",
   "metadata": {},
   "source": [
    "# Problem 4\n",
    "\n"
   ]
  },
  {
   "cell_type": "code",
   "execution_count": null,
   "metadata": {},
   "outputs": [],
   "source": []
  }
 ],
 "metadata": {
  "kernelspec": {
   "display_name": "Python 3",
   "language": "python",
   "name": "python3"
  },
  "language_info": {
   "codemirror_mode": {
    "name": "ipython",
    "version": 3
   },
   "file_extension": ".py",
   "mimetype": "text/x-python",
   "name": "python",
   "nbconvert_exporter": "python",
   "pygments_lexer": "ipython3",
   "version": "3.7.4"
  }
 },
 "nbformat": 4,
 "nbformat_minor": 2
}
